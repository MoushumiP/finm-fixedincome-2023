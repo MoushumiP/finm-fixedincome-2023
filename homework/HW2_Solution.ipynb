{
 "cells": [
  {
   "cell_type": "markdown",
   "id": "6e14efa7",
   "metadata": {},
   "source": [
    "# Homework2 \n",
    "Aijia Wang October 8"
   ]
  },
  {
   "cell_type": "code",
   "execution_count": 1,
   "id": "d29b8619",
   "metadata": {},
   "outputs": [],
   "source": [
    "import pandas as pd\n",
    "import numpy as np\n",
    "import statsmodels.api as sm\n",
    "from statsmodels.regression.rolling import RollingOLS\n",
    "from sklearn.linear_model import LinearRegression\n",
    "import matplotlib.pyplot as plt\n",
    "import seaborn as sns\n",
    "import warnings\n",
    "warnings.filterwarnings(\"ignore\")"
   ]
  },
  {
   "cell_type": "code",
   "execution_count": 2,
   "id": "730867e8",
   "metadata": {},
   "outputs": [],
   "source": [
    "#import data\n",
    "hf_data = pd.read_excel('proshares_analysis_data.xlsx', sheet_name = 'hedge_fund_series',index_col = 0)\n",
    "factor_data = pd.read_excel('proshares_analysis_data.xlsx', sheet_name = 'merrill_factors',index_col = 0)\n",
    "other_data = pd.read_excel('proshares_analysis_data.xlsx', sheet_name = 'other_data',index_col = 0)\n",
    "other_data['SPY US Equity'] = factor_data['SPY US Equity']"
   ]
  },
  {
   "cell_type": "markdown",
   "id": "40b738f5",
   "metadata": {},
   "source": [
    "# Question 1: Report statistics\n",
    "For the series in the “hedge fund series” tab, report the following summary statistics:  \n",
    "(a) mean  \n",
    "(b) volatility  \n",
    "(c) Sharpe ratio  \n",
    "Annualize these statistics."
   ]
  },
  {
   "cell_type": "code",
   "execution_count": 3,
   "id": "21033910",
   "metadata": {},
   "outputs": [],
   "source": [
    "def summary_stats(df, annual_fac):\n",
    "    # report the summary of the input data as a DataFrame\n",
    "    report = pd.DataFrame()\n",
    "    report['Mean'] = df.mean() * annual_fac\n",
    "    report['Vol'] = df.std() * np.sqrt(annual_fac)\n",
    "    report['Sharpe'] = report['Mean'] / report['Vol']\n",
    "    return round(report, 4)"
   ]
  },
  {
   "cell_type": "code",
   "execution_count": 4,
   "id": "bfc920f3",
   "metadata": {},
   "outputs": [
    {
     "data": {
      "text/html": [
       "<div>\n",
       "<style scoped>\n",
       "    .dataframe tbody tr th:only-of-type {\n",
       "        vertical-align: middle;\n",
       "    }\n",
       "\n",
       "    .dataframe tbody tr th {\n",
       "        vertical-align: top;\n",
       "    }\n",
       "\n",
       "    .dataframe thead th {\n",
       "        text-align: right;\n",
       "    }\n",
       "</style>\n",
       "<table border=\"1\" class=\"dataframe\">\n",
       "  <thead>\n",
       "    <tr style=\"text-align: right;\">\n",
       "      <th></th>\n",
       "      <th>Mean</th>\n",
       "      <th>Vol</th>\n",
       "      <th>Sharpe</th>\n",
       "    </tr>\n",
       "  </thead>\n",
       "  <tbody>\n",
       "    <tr>\n",
       "      <th>HFRIFWI Index</th>\n",
       "      <td>0.0429</td>\n",
       "      <td>0.0609</td>\n",
       "      <td>0.7038</td>\n",
       "    </tr>\n",
       "    <tr>\n",
       "      <th>MLEIFCTR Index</th>\n",
       "      <td>0.0257</td>\n",
       "      <td>0.0569</td>\n",
       "      <td>0.4513</td>\n",
       "    </tr>\n",
       "    <tr>\n",
       "      <th>MLEIFCTX Index</th>\n",
       "      <td>0.0243</td>\n",
       "      <td>0.0567</td>\n",
       "      <td>0.4283</td>\n",
       "    </tr>\n",
       "    <tr>\n",
       "      <th>HDG US Equity</th>\n",
       "      <td>0.0140</td>\n",
       "      <td>0.0592</td>\n",
       "      <td>0.2365</td>\n",
       "    </tr>\n",
       "    <tr>\n",
       "      <th>QAI US Equity</th>\n",
       "      <td>0.0116</td>\n",
       "      <td>0.0489</td>\n",
       "      <td>0.2366</td>\n",
       "    </tr>\n",
       "    <tr>\n",
       "      <th>SPY US Equity</th>\n",
       "      <td>0.1213</td>\n",
       "      <td>0.1456</td>\n",
       "      <td>0.8327</td>\n",
       "    </tr>\n",
       "  </tbody>\n",
       "</table>\n",
       "</div>"
      ],
      "text/plain": [
       "                  Mean     Vol  Sharpe\n",
       "HFRIFWI Index   0.0429  0.0609  0.7038\n",
       "MLEIFCTR Index  0.0257  0.0569  0.4513\n",
       "MLEIFCTX Index  0.0243  0.0567  0.4283\n",
       "HDG US Equity   0.0140  0.0592  0.2365\n",
       "QAI US Equity   0.0116  0.0489  0.2366\n",
       "SPY US Equity   0.1213  0.1456  0.8327"
      ]
     },
     "execution_count": 4,
     "metadata": {},
     "output_type": "execute_result"
    }
   ],
   "source": [
    "summary_stats(hf_data.join(factor_data['SPY US Equity']),12)"
   ]
  },
  {
   "cell_type": "markdown",
   "id": "0d6ded96",
   "metadata": {},
   "source": [
    "# Question 2: Tail Risk Statistics\n",
    "For the series in the “hedge fund series” tab, calculate the following statistics related to tail- risk.  \n",
    "(a) Skewness  \n",
    "(b) Excess Kurtosis (in excess of 3)  \n",
    "(c) VaR (.05) - the fifth quantile of historic returns  \n",
    "(d) CVaR (.05) - the mean of the returns at or below the fifth quantile  \n",
    "(e) Maximum drawdown - include the dates of the max/min/recovery within the max drawdown period.  "
   ]
  },
  {
   "cell_type": "code",
   "execution_count": 5,
   "id": "f70c134c",
   "metadata": {},
   "outputs": [],
   "source": [
    "def tail_risk_report(data, q):\n",
    "    df = data.copy()\n",
    "    df.index = data.index.date\n",
    "    report = pd.DataFrame(columns = df.columns)\n",
    "    \n",
    "    report.loc['Skewness'] = df.skew()\n",
    "    report.loc['Excess Kurtosis'] = df.kurtosis()\n",
    "    report.loc['VaR'] = df.quantile(q)\n",
    "    report.loc['Expected Shortfall(CVaR)'] = df[df < df.quantile(q)].mean()\n",
    "    \n",
    "    cum_ret = (1 + df).cumprod()\n",
    "    rolling_max = cum_ret.cummax()\n",
    "    drawdown = (cum_ret - rolling_max) / rolling_max\n",
    "    report.loc['Max Drawdown'] = drawdown.min()\n",
    "    report.loc['MDD Start'] = None\n",
    "    report.loc['MDD End'] = drawdown.idxmin()\n",
    "    report.loc['Recovery Date'] = None\n",
    "    \n",
    "    for col in df.columns:\n",
    "        report.loc['MDD Start', col] = (rolling_max.loc[:report.loc['MDD End', col]])[col].idxmax()\n",
    "        recovery_df = (drawdown.loc[report.loc['MDD End', col]:])[col]\n",
    "        # modify the threshold for recovery from 0 to 0.001\n",
    "        try:\n",
    "            report.loc['Recovery Date', col] = recovery_df[recovery_df >= 0].index[0]\n",
    "            report.loc['Recovery period (days)'] = (report.loc['Recovery Date'] - report.loc['MDD Start']).dt.days\n",
    "\n",
    "        except:\n",
    "            report.loc['Recovery Date', col] = None\n",
    "            report.loc['Recovery period (days)',col] = None\n",
    "\n",
    "    return round(report,4)"
   ]
  },
  {
   "cell_type": "code",
   "execution_count": 6,
   "id": "d96359aa",
   "metadata": {},
   "outputs": [
    {
     "data": {
      "text/html": [
       "<div>\n",
       "<style scoped>\n",
       "    .dataframe tbody tr th:only-of-type {\n",
       "        vertical-align: middle;\n",
       "    }\n",
       "\n",
       "    .dataframe tbody tr th {\n",
       "        vertical-align: top;\n",
       "    }\n",
       "\n",
       "    .dataframe thead th {\n",
       "        text-align: right;\n",
       "    }\n",
       "</style>\n",
       "<table border=\"1\" class=\"dataframe\">\n",
       "  <thead>\n",
       "    <tr style=\"text-align: right;\">\n",
       "      <th></th>\n",
       "      <th>HFRIFWI Index</th>\n",
       "      <th>MLEIFCTR Index</th>\n",
       "      <th>MLEIFCTX Index</th>\n",
       "      <th>HDG US Equity</th>\n",
       "      <th>QAI US Equity</th>\n",
       "      <th>SPY US Equity</th>\n",
       "    </tr>\n",
       "  </thead>\n",
       "  <tbody>\n",
       "    <tr>\n",
       "      <th>Skewness</th>\n",
       "      <td>-1.020683</td>\n",
       "      <td>-0.315513</td>\n",
       "      <td>-0.304807</td>\n",
       "      <td>-0.298573</td>\n",
       "      <td>-0.634129</td>\n",
       "      <td>-0.413602</td>\n",
       "    </tr>\n",
       "    <tr>\n",
       "      <th>Excess Kurtosis</th>\n",
       "      <td>6.163102</td>\n",
       "      <td>1.778696</td>\n",
       "      <td>1.741807</td>\n",
       "      <td>1.931106</td>\n",
       "      <td>1.913339</td>\n",
       "      <td>0.936671</td>\n",
       "    </tr>\n",
       "    <tr>\n",
       "      <th>VaR</th>\n",
       "      <td>-0.025585</td>\n",
       "      <td>-0.029652</td>\n",
       "      <td>-0.029867</td>\n",
       "      <td>-0.031528</td>\n",
       "      <td>-0.021245</td>\n",
       "      <td>-0.069215</td>\n",
       "    </tr>\n",
       "    <tr>\n",
       "      <th>Expected Shortfall(CVaR)</th>\n",
       "      <td>-0.039205</td>\n",
       "      <td>-0.036865</td>\n",
       "      <td>-0.036763</td>\n",
       "      <td>-0.038482</td>\n",
       "      <td>-0.034401</td>\n",
       "      <td>-0.089169</td>\n",
       "    </tr>\n",
       "    <tr>\n",
       "      <th>Max Drawdown</th>\n",
       "      <td>-0.115473</td>\n",
       "      <td>-0.124302</td>\n",
       "      <td>-0.124388</td>\n",
       "      <td>-0.14072</td>\n",
       "      <td>-0.137714</td>\n",
       "      <td>-0.239271</td>\n",
       "    </tr>\n",
       "    <tr>\n",
       "      <th>MDD Start</th>\n",
       "      <td>2019-12-31</td>\n",
       "      <td>2021-06-30</td>\n",
       "      <td>2021-06-30</td>\n",
       "      <td>2021-06-30</td>\n",
       "      <td>2021-06-30</td>\n",
       "      <td>2021-12-31</td>\n",
       "    </tr>\n",
       "    <tr>\n",
       "      <th>MDD End</th>\n",
       "      <td>2020-03-31</td>\n",
       "      <td>2022-09-30</td>\n",
       "      <td>2022-09-30</td>\n",
       "      <td>2022-09-30</td>\n",
       "      <td>2022-09-30</td>\n",
       "      <td>2022-09-30</td>\n",
       "    </tr>\n",
       "    <tr>\n",
       "      <th>Recovery Date</th>\n",
       "      <td>2020-08-31</td>\n",
       "      <td>None</td>\n",
       "      <td>None</td>\n",
       "      <td>None</td>\n",
       "      <td>None</td>\n",
       "      <td>None</td>\n",
       "    </tr>\n",
       "    <tr>\n",
       "      <th>Recovery period (days)</th>\n",
       "      <td>244.0</td>\n",
       "      <td>None</td>\n",
       "      <td>None</td>\n",
       "      <td>None</td>\n",
       "      <td>None</td>\n",
       "      <td>None</td>\n",
       "    </tr>\n",
       "  </tbody>\n",
       "</table>\n",
       "</div>"
      ],
      "text/plain": [
       "                         HFRIFWI Index MLEIFCTR Index MLEIFCTX Index  \\\n",
       "Skewness                     -1.020683      -0.315513      -0.304807   \n",
       "Excess Kurtosis               6.163102       1.778696       1.741807   \n",
       "VaR                          -0.025585      -0.029652      -0.029867   \n",
       "Expected Shortfall(CVaR)     -0.039205      -0.036865      -0.036763   \n",
       "Max Drawdown                 -0.115473      -0.124302      -0.124388   \n",
       "MDD Start                   2019-12-31     2021-06-30     2021-06-30   \n",
       "MDD End                     2020-03-31     2022-09-30     2022-09-30   \n",
       "Recovery Date               2020-08-31           None           None   \n",
       "Recovery period (days)           244.0           None           None   \n",
       "\n",
       "                         HDG US Equity QAI US Equity SPY US Equity  \n",
       "Skewness                     -0.298573     -0.634129     -0.413602  \n",
       "Excess Kurtosis               1.931106      1.913339      0.936671  \n",
       "VaR                          -0.031528     -0.021245     -0.069215  \n",
       "Expected Shortfall(CVaR)     -0.038482     -0.034401     -0.089169  \n",
       "Max Drawdown                  -0.14072     -0.137714     -0.239271  \n",
       "MDD Start                   2021-06-30    2021-06-30    2021-12-31  \n",
       "MDD End                     2022-09-30    2022-09-30    2022-09-30  \n",
       "Recovery Date                     None          None          None  \n",
       "Recovery period (days)            None          None          None  "
      ]
     },
     "execution_count": 6,
     "metadata": {},
     "output_type": "execute_result"
    }
   ],
   "source": [
    "tail_risk_report(hf_data.join(factor_data['SPY US Equity']),0.05)"
   ]
  },
  {
   "cell_type": "markdown",
   "id": "ec99ea93",
   "metadata": {},
   "source": [
    "# Question 3: Regression-based statistics  \n",
    "\n",
    "For the series in the “hedge fund series” tab, run a regression of each against SPY (found in the “merrill factors” tab.) Include an intercept. Report the following regression-based statistics:  \n",
    "(a) Market Beta  \n",
    "(b) Treynor Ratio  \n",
    "(c) Information ratio  \n",
    "Annualize these three statistics as appropriate."
   ]
  },
  {
   "cell_type": "code",
   "execution_count": 7,
   "id": "2e35054c",
   "metadata": {},
   "outputs": [
    {
     "data": {
      "text/html": [
       "<div>\n",
       "<style scoped>\n",
       "    .dataframe tbody tr th:only-of-type {\n",
       "        vertical-align: middle;\n",
       "    }\n",
       "\n",
       "    .dataframe tbody tr th {\n",
       "        vertical-align: top;\n",
       "    }\n",
       "\n",
       "    .dataframe thead th {\n",
       "        text-align: right;\n",
       "    }\n",
       "</style>\n",
       "<table border=\"1\" class=\"dataframe\">\n",
       "  <thead>\n",
       "    <tr style=\"text-align: right;\">\n",
       "      <th></th>\n",
       "      <th>beta</th>\n",
       "      <th>Treynor Ratio</th>\n",
       "      <th>Information Ratio</th>\n",
       "    </tr>\n",
       "  </thead>\n",
       "  <tbody>\n",
       "    <tr>\n",
       "      <th>HFRIFWI Index</th>\n",
       "      <td>0.3500</td>\n",
       "      <td>0.1225</td>\n",
       "      <td>0.0130</td>\n",
       "    </tr>\n",
       "    <tr>\n",
       "      <th>MLEIFCTR Index</th>\n",
       "      <td>0.3549</td>\n",
       "      <td>0.0723</td>\n",
       "      <td>-0.7315</td>\n",
       "    </tr>\n",
       "    <tr>\n",
       "      <th>MLEIFCTX Index</th>\n",
       "      <td>0.3536</td>\n",
       "      <td>0.0687</td>\n",
       "      <td>-0.7846</td>\n",
       "    </tr>\n",
       "    <tr>\n",
       "      <th>HDG US Equity</th>\n",
       "      <td>0.3631</td>\n",
       "      <td>0.0386</td>\n",
       "      <td>-1.1237</td>\n",
       "    </tr>\n",
       "    <tr>\n",
       "      <th>QAI US Equity</th>\n",
       "      <td>0.2919</td>\n",
       "      <td>0.0397</td>\n",
       "      <td>-0.9838</td>\n",
       "    </tr>\n",
       "  </tbody>\n",
       "</table>\n",
       "</div>"
      ],
      "text/plain": [
       "                  beta  Treynor Ratio  Information Ratio\n",
       "HFRIFWI Index   0.3500         0.1225             0.0130\n",
       "MLEIFCTR Index  0.3549         0.0723            -0.7315\n",
       "MLEIFCTX Index  0.3536         0.0687            -0.7846\n",
       "HDG US Equity   0.3631         0.0386            -1.1237\n",
       "QAI US Equity   0.2919         0.0397            -0.9838"
      ]
     },
     "execution_count": 7,
     "metadata": {},
     "output_type": "execute_result"
    }
   ],
   "source": [
    "def reg_stats(df, annual_fac):\n",
    "    reg_stats = pd.DataFrame(data = None, index = df.columns, columns = ['beta', \n",
    "                                                                         'Treynor Ratio', \n",
    "                                                                'Information Ratio'])\n",
    "    for col in df.columns:\n",
    "        # Drop the NAs in y\n",
    "        y = df[col].dropna()\n",
    "        # Align the X with y \n",
    "        X = sm.add_constant(factor_data['SPY US Equity'].loc[y.index])\n",
    "        reg = sm.OLS(y, X).fit()\n",
    "        reg_stats.loc[col, 'beta'] = reg.params[1]\n",
    "        reg_stats.loc[col, 'Treynor Ratio'] = (df[col].mean() * annual_fac) / reg.params[1]\n",
    "        reg_stats.loc[col, 'Information Ratio'] = (reg.params[0] / reg.resid.std()) * np.sqrt(annual_fac)\n",
    "      \n",
    "    return reg_stats.astype(float).round(4)\n",
    "reg_stats(hf_data,12)"
   ]
  },
  {
   "cell_type": "markdown",
   "id": "dbdb14ea",
   "metadata": {},
   "source": [
    "# Queation 4: Relative Performance\n",
    "Discuss the previous statistics, and what they tell us about...  \n",
    "### (a) Differences between SPY and the hedge-fund series?\n",
    "\n",
    "The SPY has a higher mean, volatility and Sharpe Ratio.\n",
    "\n",
    "The SPY has more tail risks as it has smaller VaR, and CVaR, meaning that all hedge fund chosed to be more prudent this year. Besides, all hedge-fund series except **HFRIFWI** have a negative information ratio, which indicates that they fail to beat the market, while **HFRIFWI** beat the market.\n",
    "\n",
    "### (b) Which performs better between HDG and QAI.\n",
    "\n",
    "Although HDG has a slightly higher mean return, it also has a higher volatility, so they have almost the same Sharpe Ratio (QAI slightly higher).\n",
    "\n",
    "In addition, HDG contains more tail risks as it has smaller VaR, CVaR, and Maximum Drawdown.\n",
    "\n",
    "QAI is also less correlated to the market(See the heat map below), and has a slightly higher Treynor Ratio and Information Ratio. Therefore, **QAI performs better than HDG.**\n",
    "\n",
    "### (c) Whether HDG and the ML series capture the most notable properties of HFRI.\n",
    "\n",
    "Both HDG and the ML series fail to deliver the same high returns compensated with the high risk of HRFI.  \n",
    "The HFRI has an excess kurtosis higher than those of ML and HDG, and a skewness lower than those of ML and HDG.  \n",
    "So HDG and the ML series can't replicate(capture) the properties of HFRI."
   ]
  },
  {
   "cell_type": "markdown",
   "id": "f4074ad0",
   "metadata": {},
   "source": [
    "# Question 5: Correlation Matrix  \n",
    "(a) Show the correlations as a heat map.  "
   ]
  },
  {
   "cell_type": "code",
   "execution_count": 8,
   "id": "3575f3f7",
   "metadata": {},
   "outputs": [],
   "source": [
    "#display corrolation as a heatmap\n",
    "def display_correlation(df,list_maxmin=True):\n",
    "    \n",
    "    corrmat = df.corr()\n",
    "    #ignore self-correlation\n",
    "    \n",
    "    # heatmap of the correlation\n",
    "    fig1 = plt.subplots(figsize=(10,8) ) \n",
    "    fig1 = sns.heatmap(corrmat, cmap='Blues', annot=True) \n",
    "    fig1.set_title('Correlation Matrix',fontsize = 13) \n",
    "    plt.show()\n",
    "    \n",
    "### Make the diagonals NaN so we can find the highest and lowest pairwise correlations\n",
    "    corrmat[corrmat==1] = None\n",
    "\n",
    "    if list_maxmin:\n",
    "        corr_rank = corrmat.unstack().sort_values().dropna()\n",
    "        pair_max = corr_rank.index[-1]\n",
    "        pair_min = corr_rank.index[0]\n",
    "\n",
    "        print(f'MIN Correlation pair is {pair_min}')\n",
    "        print(f'MAX Correlation pair is {pair_max}')"
   ]
  },
  {
   "cell_type": "code",
   "execution_count": 9,
   "id": "879a9af4",
   "metadata": {},
   "outputs": [
    {
     "data": {
      "image/png": "[encoded data removed]",
      "text/plain": [
       "<Figure size 720x576 with 2 Axes>"
      ]
     },
     "metadata": {
      "needs_background": "light"
     },
     "output_type": "display_data"
    },
    {
     "name": "stdout",
     "output_type": "stream",
     "text": [
      "MIN Correlation pair is ('HFRIFWI Index', 'SPY US Equity')\n",
      "MAX Correlation pair is ('MLEIFCTR Index', 'MLEIFCTX Index')\n"
     ]
    }
   ],
   "source": [
    "display_correlation(hf_data.join(factor_data['SPY US Equity']),True)"
   ]
  },
  {
   "cell_type": "markdown",
   "id": "312049fe",
   "metadata": {},
   "source": [
    "(b) Which series have the highest and lowest correlations?  \n",
    "\n",
    "As is shown below, MLEIFCTX Index and MLEIFCTR Index has highest correlation;  \n",
    "\n",
    "HFRIFWI Index, SPY US Equity has lowest correlation."
   ]
  },
  {
   "cell_type": "markdown",
   "id": "90233eec",
   "metadata": {},
   "source": [
    "# Question 6: Replicate HFRI  \n",
    "Replicate HFRI with the six factors listed on the “merrill factors” tab. Include a constant, and run the unrestricted regression  "
   ]
  },
  {
   "cell_type": "code",
   "execution_count": 10,
   "id": "02062754",
   "metadata": {},
   "outputs": [],
   "source": [
    "y = hf_data['HFRIFWI Index']\n",
    "X = sm.add_constant(factor_data)\n",
    "static_model = sm.OLS(y,X).fit()"
   ]
  },
  {
   "cell_type": "markdown",
   "id": "46b43873",
   "metadata": {},
   "source": [
    "## (a) Intercept and beta"
   ]
  },
  {
   "cell_type": "code",
   "execution_count": 11,
   "id": "9dcadc70",
   "metadata": {},
   "outputs": [
    {
     "data": {
      "text/html": [
       "<div>\n",
       "<style scoped>\n",
       "    .dataframe tbody tr th:only-of-type {\n",
       "        vertical-align: middle;\n",
       "    }\n",
       "\n",
       "    .dataframe tbody tr th {\n",
       "        vertical-align: top;\n",
       "    }\n",
       "\n",
       "    .dataframe thead th {\n",
       "        text-align: right;\n",
       "    }\n",
       "</style>\n",
       "<table border=\"1\" class=\"dataframe\">\n",
       "  <thead>\n",
       "    <tr style=\"text-align: right;\">\n",
       "      <th></th>\n",
       "      <th>Regression Parameters</th>\n",
       "    </tr>\n",
       "  </thead>\n",
       "  <tbody>\n",
       "    <tr>\n",
       "      <th>const</th>\n",
       "      <td>0.001142</td>\n",
       "    </tr>\n",
       "    <tr>\n",
       "      <th>SPY US Equity</th>\n",
       "      <td>0.025589</td>\n",
       "    </tr>\n",
       "    <tr>\n",
       "      <th>USGG3M Index</th>\n",
       "      <td>0.834569</td>\n",
       "    </tr>\n",
       "    <tr>\n",
       "      <th>EEM US Equity</th>\n",
       "      <td>0.074135</td>\n",
       "    </tr>\n",
       "    <tr>\n",
       "      <th>EFA US Equity</th>\n",
       "      <td>0.105604</td>\n",
       "    </tr>\n",
       "    <tr>\n",
       "      <th>EUO US Equity</th>\n",
       "      <td>0.023240</td>\n",
       "    </tr>\n",
       "    <tr>\n",
       "      <th>IWM US Equity</th>\n",
       "      <td>0.147375</td>\n",
       "    </tr>\n",
       "  </tbody>\n",
       "</table>\n",
       "</div>"
      ],
      "text/plain": [
       "               Regression Parameters\n",
       "const                       0.001142\n",
       "SPY US Equity               0.025589\n",
       "USGG3M Index                0.834569\n",
       "EEM US Equity               0.074135\n",
       "EFA US Equity               0.105604\n",
       "EUO US Equity               0.023240\n",
       "IWM US Equity               0.147375"
      ]
     },
     "execution_count": 11,
     "metadata": {},
     "output_type": "execute_result"
    }
   ],
   "source": [
    "static_model.params.to_frame('Regression Parameters')"
   ]
  },
  {
   "cell_type": "markdown",
   "id": "07e81c91",
   "metadata": {},
   "source": [
    "## (b) Are the betas realistic position sizes, or do they require huge long-short positions?  \n",
    "The betas look like realistic position sizes. They do not require huge long-short positions."
   ]
  },
  {
   "cell_type": "markdown",
   "id": "78bc5d1c",
   "metadata": {},
   "source": [
    "## (c) Report the R-squared."
   ]
  },
  {
   "cell_type": "code",
   "execution_count": 12,
   "id": "9a225a3f",
   "metadata": {},
   "outputs": [
    {
     "data": {
      "text/plain": [
       "0.8213"
      ]
     },
     "execution_count": 12,
     "metadata": {},
     "output_type": "execute_result"
    }
   ],
   "source": [
    "round(static_model.rsquared,4)"
   ]
  },
  {
   "cell_type": "markdown",
   "id": "7ad5e784",
   "metadata": {},
   "source": [
    "## (d) Report the volatility of $\\epsilon^{merr}$, (the tracking error.)"
   ]
  },
  {
   "cell_type": "code",
   "execution_count": 13,
   "id": "ddfe7923",
   "metadata": {},
   "outputs": [
    {
     "data": {
      "text/plain": [
       "0.0258"
      ]
     },
     "execution_count": 13,
     "metadata": {},
     "output_type": "execute_result"
    }
   ],
   "source": [
    "round(static_model.resid.std() * np.sqrt(12),4)"
   ]
  },
  {
   "cell_type": "markdown",
   "id": "98e110d3",
   "metadata": {},
   "source": [
    "# Queation 7: Let's examine the replication out-of-sample.  \n",
    "## Estimates of regression parameters"
   ]
  },
  {
   "cell_type": "code",
   "execution_count": 14,
   "id": "0aea99f5",
   "metadata": {},
   "outputs": [
    {
     "data": {
      "text/html": [
       "<div>\n",
       "<style scoped>\n",
       "    .dataframe tbody tr th:only-of-type {\n",
       "        vertical-align: middle;\n",
       "    }\n",
       "\n",
       "    .dataframe tbody tr th {\n",
       "        vertical-align: top;\n",
       "    }\n",
       "\n",
       "    .dataframe thead th {\n",
       "        text-align: right;\n",
       "    }\n",
       "</style>\n",
       "<table border=\"1\" class=\"dataframe\">\n",
       "  <thead>\n",
       "    <tr style=\"text-align: right;\">\n",
       "      <th></th>\n",
       "      <th>const</th>\n",
       "      <th>SPY US Equity</th>\n",
       "      <th>USGG3M Index</th>\n",
       "      <th>EEM US Equity</th>\n",
       "      <th>EFA US Equity</th>\n",
       "      <th>EUO US Equity</th>\n",
       "      <th>IWM US Equity</th>\n",
       "    </tr>\n",
       "  </thead>\n",
       "  <tbody>\n",
       "    <tr>\n",
       "      <th>2011-08-31</th>\n",
       "      <td>NaN</td>\n",
       "      <td>NaN</td>\n",
       "      <td>NaN</td>\n",
       "      <td>NaN</td>\n",
       "      <td>NaN</td>\n",
       "      <td>NaN</td>\n",
       "      <td>NaN</td>\n",
       "    </tr>\n",
       "    <tr>\n",
       "      <th>2011-09-30</th>\n",
       "      <td>NaN</td>\n",
       "      <td>NaN</td>\n",
       "      <td>NaN</td>\n",
       "      <td>NaN</td>\n",
       "      <td>NaN</td>\n",
       "      <td>NaN</td>\n",
       "      <td>NaN</td>\n",
       "    </tr>\n",
       "    <tr>\n",
       "      <th>2011-10-31</th>\n",
       "      <td>NaN</td>\n",
       "      <td>NaN</td>\n",
       "      <td>NaN</td>\n",
       "      <td>NaN</td>\n",
       "      <td>NaN</td>\n",
       "      <td>NaN</td>\n",
       "      <td>NaN</td>\n",
       "    </tr>\n",
       "    <tr>\n",
       "      <th>2011-11-30</th>\n",
       "      <td>NaN</td>\n",
       "      <td>NaN</td>\n",
       "      <td>NaN</td>\n",
       "      <td>NaN</td>\n",
       "      <td>NaN</td>\n",
       "      <td>NaN</td>\n",
       "      <td>NaN</td>\n",
       "    </tr>\n",
       "    <tr>\n",
       "      <th>2011-12-31</th>\n",
       "      <td>NaN</td>\n",
       "      <td>NaN</td>\n",
       "      <td>NaN</td>\n",
       "      <td>NaN</td>\n",
       "      <td>NaN</td>\n",
       "      <td>NaN</td>\n",
       "      <td>NaN</td>\n",
       "    </tr>\n",
       "    <tr>\n",
       "      <th>...</th>\n",
       "      <td>...</td>\n",
       "      <td>...</td>\n",
       "      <td>...</td>\n",
       "      <td>...</td>\n",
       "      <td>...</td>\n",
       "      <td>...</td>\n",
       "      <td>...</td>\n",
       "    </tr>\n",
       "    <tr>\n",
       "      <th>2022-05-31</th>\n",
       "      <td>0.004084</td>\n",
       "      <td>0.014981</td>\n",
       "      <td>-2.033076</td>\n",
       "      <td>0.108451</td>\n",
       "      <td>0.115181</td>\n",
       "      <td>0.033973</td>\n",
       "      <td>0.175357</td>\n",
       "    </tr>\n",
       "    <tr>\n",
       "      <th>2022-06-30</th>\n",
       "      <td>0.004204</td>\n",
       "      <td>0.011314</td>\n",
       "      <td>-2.009264</td>\n",
       "      <td>0.106422</td>\n",
       "      <td>0.111324</td>\n",
       "      <td>0.028605</td>\n",
       "      <td>0.181174</td>\n",
       "    </tr>\n",
       "    <tr>\n",
       "      <th>2022-07-31</th>\n",
       "      <td>0.004532</td>\n",
       "      <td>0.001035</td>\n",
       "      <td>-2.399443</td>\n",
       "      <td>0.118317</td>\n",
       "      <td>0.107350</td>\n",
       "      <td>0.020165</td>\n",
       "      <td>0.176503</td>\n",
       "    </tr>\n",
       "    <tr>\n",
       "      <th>2022-08-31</th>\n",
       "      <td>0.004210</td>\n",
       "      <td>-0.001067</td>\n",
       "      <td>-1.796845</td>\n",
       "      <td>0.128498</td>\n",
       "      <td>0.076688</td>\n",
       "      <td>0.018624</td>\n",
       "      <td>0.189947</td>\n",
       "    </tr>\n",
       "    <tr>\n",
       "      <th>2022-09-30</th>\n",
       "      <td>0.003941</td>\n",
       "      <td>-0.045773</td>\n",
       "      <td>-0.356888</td>\n",
       "      <td>0.086782</td>\n",
       "      <td>0.090389</td>\n",
       "      <td>0.005495</td>\n",
       "      <td>0.224953</td>\n",
       "    </tr>\n",
       "  </tbody>\n",
       "</table>\n",
       "<p>134 rows × 7 columns</p>\n",
       "</div>"
      ],
      "text/plain": [
       "               const  SPY US Equity  USGG3M Index  EEM US Equity  \\\n",
       "2011-08-31       NaN            NaN           NaN            NaN   \n",
       "2011-09-30       NaN            NaN           NaN            NaN   \n",
       "2011-10-31       NaN            NaN           NaN            NaN   \n",
       "2011-11-30       NaN            NaN           NaN            NaN   \n",
       "2011-12-31       NaN            NaN           NaN            NaN   \n",
       "...              ...            ...           ...            ...   \n",
       "2022-05-31  0.004084       0.014981     -2.033076       0.108451   \n",
       "2022-06-30  0.004204       0.011314     -2.009264       0.106422   \n",
       "2022-07-31  0.004532       0.001035     -2.399443       0.118317   \n",
       "2022-08-31  0.004210      -0.001067     -1.796845       0.128498   \n",
       "2022-09-30  0.003941      -0.045773     -0.356888       0.086782   \n",
       "\n",
       "            EFA US Equity  EUO US Equity  IWM US Equity  \n",
       "2011-08-31            NaN            NaN            NaN  \n",
       "2011-09-30            NaN            NaN            NaN  \n",
       "2011-10-31            NaN            NaN            NaN  \n",
       "2011-11-30            NaN            NaN            NaN  \n",
       "2011-12-31            NaN            NaN            NaN  \n",
       "...                   ...            ...            ...  \n",
       "2022-05-31       0.115181       0.033973       0.175357  \n",
       "2022-06-30       0.111324       0.028605       0.181174  \n",
       "2022-07-31       0.107350       0.020165       0.176503  \n",
       "2022-08-31       0.076688       0.018624       0.189947  \n",
       "2022-09-30       0.090389       0.005495       0.224953  \n",
       "\n",
       "[134 rows x 7 columns]"
      ]
     },
     "execution_count": 14,
     "metadata": {},
     "output_type": "execute_result"
    }
   ],
   "source": [
    "model = RollingOLS(y,X,window=60)\n",
    "rolling_betas = model.fit().params.copy()\n",
    "rolling_betas"
   ]
  },
  {
   "cell_type": "code",
   "execution_count": 15,
   "id": "4a0e7a2b",
   "metadata": {},
   "outputs": [],
   "source": [
    "rep_IS = (rolling_betas * X).sum(axis=1,skipna=False)\n",
    "# first-order derivative\n",
    "rep_OOS = (rolling_betas.shift() * X).sum(axis=1,skipna=False)\n",
    "replication = hf_data[['HFRIFWI Index']].copy()\n",
    "replication['Static-IS-Int'] = static_model.fittedvalues\n",
    "replication['Rolling-IS-Int'] = rep_IS\n",
    "replication['Rolling-OOS-Int'] = rep_OOS"
   ]
  },
  {
   "cell_type": "code",
   "execution_count": 16,
   "id": "1b233329",
   "metadata": {},
   "outputs": [
    {
     "data": {
      "text/html": [
       "<div>\n",
       "<style scoped>\n",
       "    .dataframe tbody tr th:only-of-type {\n",
       "        vertical-align: middle;\n",
       "    }\n",
       "\n",
       "    .dataframe tbody tr th {\n",
       "        vertical-align: top;\n",
       "    }\n",
       "\n",
       "    .dataframe thead th {\n",
       "        text-align: right;\n",
       "    }\n",
       "</style>\n",
       "<table border=\"1\" class=\"dataframe\">\n",
       "  <thead>\n",
       "    <tr style=\"text-align: right;\">\n",
       "      <th></th>\n",
       "      <th>HFRIFWI Index</th>\n",
       "      <th>Static-IS-Int</th>\n",
       "      <th>Rolling-IS-Int</th>\n",
       "      <th>Rolling-OOS-Int</th>\n",
       "    </tr>\n",
       "  </thead>\n",
       "  <tbody>\n",
       "    <tr>\n",
       "      <th>HFRIFWI Index</th>\n",
       "      <td>1.000000</td>\n",
       "      <td>0.906244</td>\n",
       "      <td>0.930242</td>\n",
       "      <td>0.887358</td>\n",
       "    </tr>\n",
       "    <tr>\n",
       "      <th>Static-IS-Int</th>\n",
       "      <td>0.906244</td>\n",
       "      <td>1.000000</td>\n",
       "      <td>0.990015</td>\n",
       "      <td>0.986613</td>\n",
       "    </tr>\n",
       "    <tr>\n",
       "      <th>Rolling-IS-Int</th>\n",
       "      <td>0.930242</td>\n",
       "      <td>0.990015</td>\n",
       "      <td>1.000000</td>\n",
       "      <td>0.993332</td>\n",
       "    </tr>\n",
       "    <tr>\n",
       "      <th>Rolling-OOS-Int</th>\n",
       "      <td>0.887358</td>\n",
       "      <td>0.986613</td>\n",
       "      <td>0.993332</td>\n",
       "      <td>1.000000</td>\n",
       "    </tr>\n",
       "  </tbody>\n",
       "</table>\n",
       "</div>"
      ],
      "text/plain": [
       "                 HFRIFWI Index  Static-IS-Int  Rolling-IS-Int  Rolling-OOS-Int\n",
       "HFRIFWI Index         1.000000       0.906244        0.930242         0.887358\n",
       "Static-IS-Int         0.906244       1.000000        0.990015         0.986613\n",
       "Rolling-IS-Int        0.930242       0.990015        1.000000         0.993332\n",
       "Rolling-OOS-Int       0.887358       0.986613        0.993332         1.000000"
      ]
     },
     "execution_count": 16,
     "metadata": {},
     "output_type": "execute_result"
    }
   ],
   "source": [
    "replication.corr()"
   ]
  },
  {
   "cell_type": "code",
   "execution_count": 17,
   "id": "f43f5f49",
   "metadata": {},
   "outputs": [
    {
     "data": {
      "text/plain": [
       "<AxesSubplot:>"
      ]
     },
     "execution_count": 17,
     "metadata": {},
     "output_type": "execute_result"
    },
    {
     "data": {
      "image/png": "[encoded data removed]",
      "text/plain": [
       "<Figure size 432x288 with 1 Axes>"
      ]
     },
     "metadata": {
      "needs_background": "light"
     },
     "output_type": "display_data"
    }
   ],
   "source": [
    "replication[['Rolling-OOS-Int','HFRIFWI Index']].plot()"
   ]
  },
  {
   "cell_type": "markdown",
   "id": "2053168e",
   "metadata": {},
   "source": [
    "## Out-of-sample replication perform\n",
    "The out-of-sample replication performs very well with respect to the target. It has a very high correlation to the HFRI."
   ]
  },
  {
   "cell_type": "markdown",
   "id": "643909b6",
   "metadata": {},
   "source": [
    "# Question 8.\n",
    "We estimated the replications using an intercept. Try the full-sample estimation, but this time without an intercept."
   ]
  },
  {
   "cell_type": "code",
   "execution_count": 18,
   "id": "0f392b75",
   "metadata": {},
   "outputs": [],
   "source": [
    "y = hf_data['HFRIFWI Index']\n",
    "X = factor_data\n",
    "static_model_noint = sm.OLS(y,X).fit()"
   ]
  },
  {
   "cell_type": "markdown",
   "id": "f64cbe77",
   "metadata": {},
   "source": [
    "## (a)  Report the regression beta. How does it compare to the estimated beta with an intercept, $\\hat{\\beta}^{merr}$?  \n",
    "\n",
    "Without an intercept, the betas are almost identical, except the beta in the **3-month T-bills**.  \n",
    "\n",
    "Becasue T-bills have **low volatility**, they act like an intercept. Thus, the regression performance is very similar."
   ]
  },
  {
   "cell_type": "code",
   "execution_count": 19,
   "id": "75b4bf06",
   "metadata": {},
   "outputs": [
    {
     "data": {
      "text/html": [
       "<div>\n",
       "<style scoped>\n",
       "    .dataframe tbody tr th:only-of-type {\n",
       "        vertical-align: middle;\n",
       "    }\n",
       "\n",
       "    .dataframe tbody tr th {\n",
       "        vertical-align: top;\n",
       "    }\n",
       "\n",
       "    .dataframe thead th {\n",
       "        text-align: right;\n",
       "    }\n",
       "</style>\n",
       "<table border=\"1\" class=\"dataframe\">\n",
       "  <thead>\n",
       "    <tr style=\"text-align: right;\">\n",
       "      <th></th>\n",
       "      <th>const</th>\n",
       "      <th>SPY US Equity</th>\n",
       "      <th>USGG3M Index</th>\n",
       "      <th>EEM US Equity</th>\n",
       "      <th>EFA US Equity</th>\n",
       "      <th>EUO US Equity</th>\n",
       "      <th>IWM US Equity</th>\n",
       "    </tr>\n",
       "  </thead>\n",
       "  <tbody>\n",
       "    <tr>\n",
       "      <th>Yes Intercept</th>\n",
       "      <td>0.001142</td>\n",
       "      <td>0.025589</td>\n",
       "      <td>0.834569</td>\n",
       "      <td>0.074135</td>\n",
       "      <td>0.105604</td>\n",
       "      <td>0.023240</td>\n",
       "      <td>0.147375</td>\n",
       "    </tr>\n",
       "    <tr>\n",
       "      <th>No Intercept</th>\n",
       "      <td>NaN</td>\n",
       "      <td>0.040448</td>\n",
       "      <td>1.551706</td>\n",
       "      <td>0.073052</td>\n",
       "      <td>0.100760</td>\n",
       "      <td>0.024909</td>\n",
       "      <td>0.144352</td>\n",
       "    </tr>\n",
       "  </tbody>\n",
       "</table>\n",
       "</div>"
      ],
      "text/plain": [
       "                  const  SPY US Equity  USGG3M Index  EEM US Equity  \\\n",
       "Yes Intercept  0.001142       0.025589      0.834569       0.074135   \n",
       "No Intercept        NaN       0.040448      1.551706       0.073052   \n",
       "\n",
       "               EFA US Equity  EUO US Equity  IWM US Equity  \n",
       "Yes Intercept       0.105604       0.023240       0.147375  \n",
       "No Intercept        0.100760       0.024909       0.144352  "
      ]
     },
     "execution_count": 19,
     "metadata": {},
     "output_type": "execute_result"
    }
   ],
   "source": [
    "betas = pd.DataFrame(static_model.params,columns=['Yes Intercept']).T\n",
    "betas.loc['No Intercept'] = static_model_noint.params\n",
    "betas"
   ]
  },
  {
   "cell_type": "markdown",
   "id": "d1556fe3",
   "metadata": {},
   "source": [
    "## (b) Mean of the fitted value, $\\check{r}_t^{hfri}$  \n",
    "The mean of the fitted value $\\check{r}_t^{hfri}$ is **smaller** than the mean of the HFRI"
   ]
  },
  {
   "cell_type": "code",
   "execution_count": 20,
   "id": "ef255db3",
   "metadata": {},
   "outputs": [
    {
     "name": "stdout",
     "output_type": "stream",
     "text": [
      "The mean of the fitted value is 0.0348\n"
     ]
    }
   ],
   "source": [
    "print(\"The mean of the fitted value is\", round(static_model_noint.fittedvalues.mean(),4)*12)"
   ]
  },
  {
   "cell_type": "code",
   "execution_count": 21,
   "id": "bd380dcc",
   "metadata": {},
   "outputs": [
    {
     "name": "stdout",
     "output_type": "stream",
     "text": [
      "The mean of the HFRI is 0.0432\n"
     ]
    }
   ],
   "source": [
    "print(\"The mean of the HFRI is\",round(hf_data['HFRIFWI Index'].mean(),4)*12)"
   ]
  },
  {
   "cell_type": "markdown",
   "id": "bd642ead",
   "metadata": {},
   "source": [
    "## (c) Correlations of the fitted values,$\\check{r}_t^{hfri}$  \n",
    " \n",
    "The correlations of the fitted values of model without an intercept to the HFRI are **high**.(corr=0.905696)\n",
    "\n",
    "This correlation are very similar to that of the fitted values of the model with an intercept.(corr=0.906244)"
   ]
  },
  {
   "cell_type": "code",
   "execution_count": 22,
   "id": "ac044dc9",
   "metadata": {},
   "outputs": [
    {
     "data": {
      "text/html": [
       "<div>\n",
       "<style scoped>\n",
       "    .dataframe tbody tr th:only-of-type {\n",
       "        vertical-align: middle;\n",
       "    }\n",
       "\n",
       "    .dataframe tbody tr th {\n",
       "        vertical-align: top;\n",
       "    }\n",
       "\n",
       "    .dataframe thead th {\n",
       "        text-align: right;\n",
       "    }\n",
       "</style>\n",
       "<table border=\"1\" class=\"dataframe\">\n",
       "  <thead>\n",
       "    <tr style=\"text-align: right;\">\n",
       "      <th></th>\n",
       "      <th>HFRIFWI Index</th>\n",
       "      <th>Static-IS-Int</th>\n",
       "      <th>Rolling-IS-Int</th>\n",
       "      <th>Rolling-OOS-Int</th>\n",
       "      <th>Static-IS-NoInt</th>\n",
       "    </tr>\n",
       "  </thead>\n",
       "  <tbody>\n",
       "    <tr>\n",
       "      <th>HFRIFWI Index</th>\n",
       "      <td>1.000000</td>\n",
       "      <td>0.906244</td>\n",
       "      <td>0.930242</td>\n",
       "      <td>0.887358</td>\n",
       "      <td>0.905696</td>\n",
       "    </tr>\n",
       "    <tr>\n",
       "      <th>Static-IS-Int</th>\n",
       "      <td>0.906244</td>\n",
       "      <td>1.000000</td>\n",
       "      <td>0.990015</td>\n",
       "      <td>0.986613</td>\n",
       "      <td>0.999395</td>\n",
       "    </tr>\n",
       "    <tr>\n",
       "      <th>Rolling-IS-Int</th>\n",
       "      <td>0.930242</td>\n",
       "      <td>0.990015</td>\n",
       "      <td>1.000000</td>\n",
       "      <td>0.993332</td>\n",
       "      <td>0.987919</td>\n",
       "    </tr>\n",
       "    <tr>\n",
       "      <th>Rolling-OOS-Int</th>\n",
       "      <td>0.887358</td>\n",
       "      <td>0.986613</td>\n",
       "      <td>0.993332</td>\n",
       "      <td>1.000000</td>\n",
       "      <td>0.984103</td>\n",
       "    </tr>\n",
       "    <tr>\n",
       "      <th>Static-IS-NoInt</th>\n",
       "      <td>0.905696</td>\n",
       "      <td>0.999395</td>\n",
       "      <td>0.987919</td>\n",
       "      <td>0.984103</td>\n",
       "      <td>1.000000</td>\n",
       "    </tr>\n",
       "  </tbody>\n",
       "</table>\n",
       "</div>"
      ],
      "text/plain": [
       "                 HFRIFWI Index  Static-IS-Int  Rolling-IS-Int  \\\n",
       "HFRIFWI Index         1.000000       0.906244        0.930242   \n",
       "Static-IS-Int         0.906244       1.000000        0.990015   \n",
       "Rolling-IS-Int        0.930242       0.990015        1.000000   \n",
       "Rolling-OOS-Int       0.887358       0.986613        0.993332   \n",
       "Static-IS-NoInt       0.905696       0.999395        0.987919   \n",
       "\n",
       "                 Rolling-OOS-Int  Static-IS-NoInt  \n",
       "HFRIFWI Index           0.887358         0.905696  \n",
       "Static-IS-Int           0.986613         0.999395  \n",
       "Rolling-IS-Int          0.993332         0.987919  \n",
       "Rolling-OOS-Int         1.000000         0.984103  \n",
       "Static-IS-NoInt         0.984103         1.000000  "
      ]
     },
     "execution_count": 22,
     "metadata": {},
     "output_type": "execute_result"
    }
   ],
   "source": [
    "replication['Static-IS-NoInt'] = static_model_noint.fittedvalues\n",
    "replication.corr()"
   ]
  },
  {
   "cell_type": "markdown",
   "id": "1b995dd3",
   "metadata": {},
   "source": [
    "## Do you think Merrill and ProShares fit their replicators with an intercept or not? \n",
    "If we want construct an ETF to replicate hedge-fund returns (including behaviors like mean and SR), then we should not include an intercept in the regression.\n",
    "\n",
    "If we want to construct a hedge or a similar variation, then we should include an intercept. As a result, the portfolio we construct will have lower mean and matched variance.\n",
    "\n",
    "In general, we desire higher mean return, thus we **should not include intercept.**"
   ]
  }
 ],
 "metadata": {
  "kernelspec": {
   "display_name": "Python 3 (ipykernel)",
   "language": "python",
   "name": "python3"
  },
  "language_info": {
   "codemirror_mode": {
    "name": "ipython",
    "version": 3
   },
   "file_extension": ".py",
   "mimetype": "text/x-python",
   "name": "python",
   "nbconvert_exporter": "python",
   "pygments_lexer": "ipython3",
   "version": "3.9.7"
  }
 },
 "nbformat": 4,
 "nbformat_minor": 5
}
