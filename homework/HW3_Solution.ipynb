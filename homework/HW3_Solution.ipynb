{
 "cells": [
  {
   "cell_type": "markdown",
   "id": "81d55812",
   "metadata": {},
   "source": [
    "# Homework 3 Solutions"
   ]
  },
  {
   "cell_type": "markdown",
   "id": "e7e21213",
   "metadata": {},
   "source": [
    "## Imports"
   ]
  },
  {
   "cell_type": "code",
   "execution_count": 1,
   "id": "705f16cf",
   "metadata": {},
   "outputs": [],
   "source": [
    "import pandas as pd\n",
    "import numpy as np\n",
    "import matplotlib.pyplot as plt\n",
    "import statsmodels.api as sm\n",
    "from arch import arch_model\n",
    "from arch.univariate import GARCH, EWMAVariance \n",
    "from sklearn import linear_model\n",
    "import scipy.stats as stats\n",
    "from statsmodels.regression.rolling import RollingOLS\n",
    "import seaborn as sns\n",
    "import warnings\n",
    "warnings.filterwarnings(\"ignore\")\n",
    "pd.set_option(\"display.precision\", 4)"
   ]
  },
  {
   "cell_type": "code",
   "execution_count": 2,
   "id": "d4adb14e",
   "metadata": {},
   "outputs": [
    {
     "data": {
      "text/plain": [
       "'C:\\\\Users\\\\Olivi\\\\Desktop\\\\Uchi Code\\\\Risk\\\\HW3'"
      ]
     },
     "execution_count": 2,
     "metadata": {},
     "output_type": "execute_result"
    }
   ],
   "source": [
    "import os\n",
    "os.getcwd()"
   ]
  },
  {
   "cell_type": "code",
   "execution_count": 3,
   "id": "8bd1db54",
   "metadata": {},
   "outputs": [
    {
     "data": {
      "text/html": [
       "<div>\n",
       "<style scoped>\n",
       "    .dataframe tbody tr th:only-of-type {\n",
       "        vertical-align: middle;\n",
       "    }\n",
       "\n",
       "    .dataframe tbody tr th {\n",
       "        vertical-align: top;\n",
       "    }\n",
       "\n",
       "    .dataframe thead th {\n",
       "        text-align: right;\n",
       "    }\n",
       "</style>\n",
       "<table border=\"1\" class=\"dataframe\">\n",
       "  <thead>\n",
       "    <tr style=\"text-align: right;\">\n",
       "      <th></th>\n",
       "      <th>SPX</th>\n",
       "      <th>TB1M</th>\n",
       "    </tr>\n",
       "    <tr>\n",
       "      <th>date</th>\n",
       "      <th></th>\n",
       "      <th></th>\n",
       "    </tr>\n",
       "  </thead>\n",
       "  <tbody>\n",
       "    <tr>\n",
       "      <th>1926-01-30</th>\n",
       "      <td>-0.0018</td>\n",
       "      <td>0.0031</td>\n",
       "    </tr>\n",
       "    <tr>\n",
       "      <th>1926-02-27</th>\n",
       "      <td>-0.0333</td>\n",
       "      <td>0.0026</td>\n",
       "    </tr>\n",
       "    <tr>\n",
       "      <th>1926-03-31</th>\n",
       "      <td>-0.0577</td>\n",
       "      <td>0.0026</td>\n",
       "    </tr>\n",
       "    <tr>\n",
       "      <th>1926-04-30</th>\n",
       "      <td>0.0385</td>\n",
       "      <td>0.0023</td>\n",
       "    </tr>\n",
       "    <tr>\n",
       "      <th>1926-05-28</th>\n",
       "      <td>0.0136</td>\n",
       "      <td>0.0027</td>\n",
       "    </tr>\n",
       "  </tbody>\n",
       "</table>\n",
       "</div>"
      ],
      "text/plain": [
       "               SPX    TB1M\n",
       "date                      \n",
       "1926-01-30 -0.0018  0.0031\n",
       "1926-02-27 -0.0333  0.0026\n",
       "1926-03-31 -0.0577  0.0026\n",
       "1926-04-30  0.0385  0.0023\n",
       "1926-05-28  0.0136  0.0027"
      ]
     },
     "execution_count": 3,
     "metadata": {},
     "output_type": "execute_result"
    }
   ],
   "source": [
    "df = pd.read_excel('barnstable_analysis_data.xlsx', sheet_name = 1)\n",
    "\n",
    "df = df.set_index('date')\n",
    "\n",
    "df.head()"
   ]
  },
  {
   "cell_type": "code",
   "execution_count": 4,
   "id": "0ad536d9",
   "metadata": {},
   "outputs": [
    {
     "data": {
      "text/html": [
       "<div>\n",
       "<style scoped>\n",
       "    .dataframe tbody tr th:only-of-type {\n",
       "        vertical-align: middle;\n",
       "    }\n",
       "\n",
       "    .dataframe tbody tr th {\n",
       "        vertical-align: top;\n",
       "    }\n",
       "\n",
       "    .dataframe thead th {\n",
       "        text-align: right;\n",
       "    }\n",
       "</style>\n",
       "<table border=\"1\" class=\"dataframe\">\n",
       "  <thead>\n",
       "    <tr style=\"text-align: right;\">\n",
       "      <th></th>\n",
       "      <th>SPX</th>\n",
       "      <th>TB1M</th>\n",
       "    </tr>\n",
       "    <tr>\n",
       "      <th>date</th>\n",
       "      <th></th>\n",
       "      <th></th>\n",
       "    </tr>\n",
       "  </thead>\n",
       "  <tbody>\n",
       "    <tr>\n",
       "      <th>2022-04-29</th>\n",
       "      <td>-0.0876</td>\n",
       "      <td>0.0003</td>\n",
       "    </tr>\n",
       "    <tr>\n",
       "      <th>2022-05-31</th>\n",
       "      <td>0.0004</td>\n",
       "      <td>0.0006</td>\n",
       "    </tr>\n",
       "    <tr>\n",
       "      <th>2022-06-30</th>\n",
       "      <td>-0.0814</td>\n",
       "      <td>0.0009</td>\n",
       "    </tr>\n",
       "    <tr>\n",
       "      <th>2022-07-29</th>\n",
       "      <td>0.0937</td>\n",
       "      <td>0.0018</td>\n",
       "    </tr>\n",
       "    <tr>\n",
       "      <th>2022-08-31</th>\n",
       "      <td>-0.0402</td>\n",
       "      <td>0.0020</td>\n",
       "    </tr>\n",
       "  </tbody>\n",
       "</table>\n",
       "</div>"
      ],
      "text/plain": [
       "               SPX    TB1M\n",
       "date                      \n",
       "2022-04-29 -0.0876  0.0003\n",
       "2022-05-31  0.0004  0.0006\n",
       "2022-06-30 -0.0814  0.0009\n",
       "2022-07-29  0.0937  0.0018\n",
       "2022-08-31 -0.0402  0.0020"
      ]
     },
     "execution_count": 4,
     "metadata": {},
     "output_type": "execute_result"
    }
   ],
   "source": [
    "df.tail()"
   ]
  },
  {
   "cell_type": "code",
   "execution_count": 5,
   "id": "b29127ee",
   "metadata": {},
   "outputs": [
    {
     "data": {
      "text/html": [
       "<div>\n",
       "<style scoped>\n",
       "    .dataframe tbody tr th:only-of-type {\n",
       "        vertical-align: middle;\n",
       "    }\n",
       "\n",
       "    .dataframe tbody tr th {\n",
       "        vertical-align: top;\n",
       "    }\n",
       "\n",
       "    .dataframe thead th {\n",
       "        text-align: right;\n",
       "    }\n",
       "</style>\n",
       "<table border=\"1\" class=\"dataframe\">\n",
       "  <thead>\n",
       "    <tr style=\"text-align: right;\">\n",
       "      <th></th>\n",
       "      <th>SPX</th>\n",
       "      <th>TB1M</th>\n",
       "    </tr>\n",
       "    <tr>\n",
       "      <th>date</th>\n",
       "      <th></th>\n",
       "      <th></th>\n",
       "    </tr>\n",
       "  </thead>\n",
       "  <tbody>\n",
       "    <tr>\n",
       "      <th>1926-01-30</th>\n",
       "      <td>-0.0018</td>\n",
       "      <td>0.0031</td>\n",
       "    </tr>\n",
       "    <tr>\n",
       "      <th>1926-02-27</th>\n",
       "      <td>-0.0339</td>\n",
       "      <td>0.0026</td>\n",
       "    </tr>\n",
       "    <tr>\n",
       "      <th>1926-03-31</th>\n",
       "      <td>-0.0594</td>\n",
       "      <td>0.0026</td>\n",
       "    </tr>\n",
       "    <tr>\n",
       "      <th>1926-04-30</th>\n",
       "      <td>0.0378</td>\n",
       "      <td>0.0023</td>\n",
       "    </tr>\n",
       "    <tr>\n",
       "      <th>1926-05-28</th>\n",
       "      <td>0.0135</td>\n",
       "      <td>0.0027</td>\n",
       "    </tr>\n",
       "  </tbody>\n",
       "</table>\n",
       "</div>"
      ],
      "text/plain": [
       "               SPX    TB1M\n",
       "date                      \n",
       "1926-01-30 -0.0018  0.0031\n",
       "1926-02-27 -0.0339  0.0026\n",
       "1926-03-31 -0.0594  0.0026\n",
       "1926-04-30  0.0378  0.0023\n",
       "1926-05-28  0.0135  0.0027"
      ]
     },
     "execution_count": 5,
     "metadata": {},
     "output_type": "execute_result"
    }
   ],
   "source": [
    "log_df = np.log(1 + df)\n",
    "\n",
    "log_df.head()"
   ]
  },
  {
   "cell_type": "markdown",
   "id": "c928f0ba",
   "metadata": {},
   "source": [
    "# Modeling Volatility and VaR\n",
    "## 1. Historic VaR.\n",
    "### a. Plot"
   ]
  },
  {
   "cell_type": "code",
   "execution_count": 6,
   "id": "a2728bed",
   "metadata": {},
   "outputs": [
    {
     "data": {
      "text/html": [
       "<div>\n",
       "<style scoped>\n",
       "    .dataframe tbody tr th:only-of-type {\n",
       "        vertical-align: middle;\n",
       "    }\n",
       "\n",
       "    .dataframe tbody tr th {\n",
       "        vertical-align: top;\n",
       "    }\n",
       "\n",
       "    .dataframe thead th {\n",
       "        text-align: right;\n",
       "    }\n",
       "</style>\n",
       "<table border=\"1\" class=\"dataframe\">\n",
       "  <thead>\n",
       "    <tr style=\"text-align: right;\">\n",
       "      <th></th>\n",
       "      <th>SPX</th>\n",
       "      <th>TB1M</th>\n",
       "      <th>$\\tilde{r}$</th>\n",
       "    </tr>\n",
       "    <tr>\n",
       "      <th>date</th>\n",
       "      <th></th>\n",
       "      <th></th>\n",
       "      <th></th>\n",
       "    </tr>\n",
       "  </thead>\n",
       "  <tbody>\n",
       "    <tr>\n",
       "      <th>1926-01-30</th>\n",
       "      <td>-0.0018</td>\n",
       "      <td>0.0031</td>\n",
       "      <td>-0.0048</td>\n",
       "    </tr>\n",
       "    <tr>\n",
       "      <th>1926-02-27</th>\n",
       "      <td>-0.0333</td>\n",
       "      <td>0.0026</td>\n",
       "      <td>-0.0359</td>\n",
       "    </tr>\n",
       "    <tr>\n",
       "      <th>1926-03-31</th>\n",
       "      <td>-0.0577</td>\n",
       "      <td>0.0026</td>\n",
       "      <td>-0.0603</td>\n",
       "    </tr>\n",
       "    <tr>\n",
       "      <th>1926-04-30</th>\n",
       "      <td>0.0385</td>\n",
       "      <td>0.0023</td>\n",
       "      <td>0.0363</td>\n",
       "    </tr>\n",
       "    <tr>\n",
       "      <th>1926-05-28</th>\n",
       "      <td>0.0136</td>\n",
       "      <td>0.0027</td>\n",
       "      <td>0.0109</td>\n",
       "    </tr>\n",
       "  </tbody>\n",
       "</table>\n",
       "</div>"
      ],
      "text/plain": [
       "               SPX    TB1M  $\\tilde{r}$\n",
       "date                                   \n",
       "1926-01-30 -0.0018  0.0031      -0.0048\n",
       "1926-02-27 -0.0333  0.0026      -0.0359\n",
       "1926-03-31 -0.0577  0.0026      -0.0603\n",
       "1926-04-30  0.0385  0.0023       0.0363\n",
       "1926-05-28  0.0136  0.0027       0.0109"
      ]
     },
     "execution_count": 6,
     "metadata": {},
     "output_type": "execute_result"
    }
   ],
   "source": [
    "df[r'$\\tilde{r}$'] = df['SPX'] - df['TB1M']\n",
    "df.dropna(inplace = True)\n",
    "\n",
    "df.head()"
   ]
  },
  {
   "cell_type": "code",
   "execution_count": 7,
   "id": "d7091832",
   "metadata": {},
   "outputs": [
    {
     "data": {
      "image/png": "[encoded data removed]",
      "text/plain": [
       "<Figure size 432x288 with 1 Axes>"
      ]
     },
     "metadata": {
      "needs_background": "light"
     },
     "output_type": "display_data"
    }
   ],
   "source": [
    "historic_VaR = df[r'$\\tilde{r}$'].shift().expanding(min_periods = 60).quantile(.05)\n",
    "historic_VaR.plot()\n",
    "\n",
    "plt.title('Historic VaR')\n",
    "plt.ylabel('VaR')\n",
    "plt.xlabel('Date')\n",
    "plt.show()"
   ]
  },
  {
   "cell_type": "markdown",
   "id": "7a030a51",
   "metadata": {},
   "source": [
    "### b. Frequency of periods"
   ]
  },
  {
   "cell_type": "code",
   "execution_count": 8,
   "id": "f36e35ce",
   "metadata": {},
   "outputs": [
    {
     "data": {
      "text/plain": [
       "0.0303"
      ]
     },
     "execution_count": 8,
     "metadata": {},
     "output_type": "execute_result"
    }
   ],
   "source": [
    "round(len(df[r'$\\tilde{r}$'][df[r'$\\tilde{r}$'] < historic_VaR]) / len(historic_VaR.dropna()), 4)"
   ]
  },
  {
   "cell_type": "markdown",
   "id": "1b881a64",
   "metadata": {},
   "source": [
    "### c. Drawback\n",
    "By definition of VaR, number instances of return be less than 5%-VaR should be close to 5%, but in our case it is less than 3%\n",
    "\n",
    "\n",
    "This method of calculation is valid if there is a **smooth tail**, and does not give correct result if tails are not smooth.\n",
    "\n",
    "It shows the problem of historical VaR: Give past data equal weight regardless of how old they are. (New/Present data should have more weight.)"
   ]
  },
  {
   "cell_type": "markdown",
   "id": "e6dda4fe",
   "metadata": {},
   "source": [
    "## 2. Volatility\n",
    "Expanding and Rolling Windows:"
   ]
  },
  {
   "cell_type": "code",
   "execution_count": 9,
   "id": "0a368c07",
   "metadata": {},
   "outputs": [],
   "source": [
    "stdev = np.sqrt((df[r'$\\tilde{r}$']**2).shift(1).expanding(60).mean().to_frame('Expanding Window'))\n",
    "\n",
    "stdev['Rolling Window'] = np.sqrt((df[r'$\\tilde{r}$']**2).shift(1).rolling(60).mean())"
   ]
  },
  {
   "cell_type": "code",
   "execution_count": 10,
   "id": "171b37a2",
   "metadata": {},
   "outputs": [
    {
     "data": {
      "text/html": [
       "<div>\n",
       "<style scoped>\n",
       "    .dataframe tbody tr th:only-of-type {\n",
       "        vertical-align: middle;\n",
       "    }\n",
       "\n",
       "    .dataframe tbody tr th {\n",
       "        vertical-align: top;\n",
       "    }\n",
       "\n",
       "    .dataframe thead th {\n",
       "        text-align: right;\n",
       "    }\n",
       "</style>\n",
       "<table border=\"1\" class=\"dataframe\">\n",
       "  <thead>\n",
       "    <tr style=\"text-align: right;\">\n",
       "      <th></th>\n",
       "      <th>Expanding Window</th>\n",
       "      <th>Rolling Window</th>\n",
       "    </tr>\n",
       "    <tr>\n",
       "      <th>date</th>\n",
       "      <th></th>\n",
       "      <th></th>\n",
       "    </tr>\n",
       "  </thead>\n",
       "  <tbody>\n",
       "    <tr>\n",
       "      <th>1926-01-30</th>\n",
       "      <td>NaN</td>\n",
       "      <td>NaN</td>\n",
       "    </tr>\n",
       "    <tr>\n",
       "      <th>1926-02-27</th>\n",
       "      <td>NaN</td>\n",
       "      <td>NaN</td>\n",
       "    </tr>\n",
       "    <tr>\n",
       "      <th>1926-03-31</th>\n",
       "      <td>NaN</td>\n",
       "      <td>NaN</td>\n",
       "    </tr>\n",
       "    <tr>\n",
       "      <th>1926-04-30</th>\n",
       "      <td>NaN</td>\n",
       "      <td>NaN</td>\n",
       "    </tr>\n",
       "    <tr>\n",
       "      <th>1926-05-28</th>\n",
       "      <td>NaN</td>\n",
       "      <td>NaN</td>\n",
       "    </tr>\n",
       "  </tbody>\n",
       "</table>\n",
       "</div>"
      ],
      "text/plain": [
       "            Expanding Window  Rolling Window\n",
       "date                                        \n",
       "1926-01-30               NaN             NaN\n",
       "1926-02-27               NaN             NaN\n",
       "1926-03-31               NaN             NaN\n",
       "1926-04-30               NaN             NaN\n",
       "1926-05-28               NaN             NaN"
      ]
     },
     "execution_count": 10,
     "metadata": {},
     "output_type": "execute_result"
    }
   ],
   "source": [
    "stdev.head()"
   ]
  },
  {
   "cell_type": "markdown",
   "id": "32f62f65",
   "metadata": {},
   "source": [
    "### a. Plot Sigma"
   ]
  },
  {
   "cell_type": "code",
   "execution_count": 11,
   "id": "7c5be261",
   "metadata": {},
   "outputs": [
    {
     "data": {
      "image/png": "[encoded data removed]",
      "text/plain": [
       "<Figure size 432x288 with 1 Axes>"
      ]
     },
     "metadata": {
      "needs_background": "light"
     },
     "output_type": "display_data"
    }
   ],
   "source": [
    "### Initialize with the given parameter\n",
    "stdev.iloc[0,2:] = 0.15\n",
    "\n",
    "### Simulate the rest of the period using the initial stdev given\n",
    "    ### Forecast variance by plugging the GARCH and IGARCH parameters into their respective equations   \n",
    "stdev.dropna(inplace = True)\n",
    "\n",
    "stdev.plot()\n",
    "\n",
    "plt.title('Volatility Forecasts')\n",
    "plt.ylabel(r'$\\sigma_{t}$')\n",
    "plt.xlabel('Date')\n",
    "plt.show()"
   ]
  },
  {
   "cell_type": "markdown",
   "id": "fef1dd00",
   "metadata": {},
   "source": [
    "### b. 5th percentile 1-month-ahead VaR"
   ]
  },
  {
   "cell_type": "code",
   "execution_count": 12,
   "id": "650876a5",
   "metadata": {},
   "outputs": [
    {
     "data": {
      "text/html": [
       "<div>\n",
       "<style scoped>\n",
       "    .dataframe tbody tr th:only-of-type {\n",
       "        vertical-align: middle;\n",
       "    }\n",
       "\n",
       "    .dataframe tbody tr th {\n",
       "        vertical-align: top;\n",
       "    }\n",
       "\n",
       "    .dataframe thead th {\n",
       "        text-align: right;\n",
       "    }\n",
       "</style>\n",
       "<table border=\"1\" class=\"dataframe\">\n",
       "  <thead>\n",
       "    <tr style=\"text-align: right;\">\n",
       "      <th></th>\n",
       "      <th>Expanding Window</th>\n",
       "      <th>Rolling Window</th>\n",
       "    </tr>\n",
       "    <tr>\n",
       "      <th>date</th>\n",
       "      <th></th>\n",
       "      <th></th>\n",
       "    </tr>\n",
       "  </thead>\n",
       "  <tbody>\n",
       "    <tr>\n",
       "      <th>1931-01-31</th>\n",
       "      <td>-0.0992</td>\n",
       "      <td>-0.0992</td>\n",
       "    </tr>\n",
       "    <tr>\n",
       "      <th>1931-02-28</th>\n",
       "      <td>-0.0992</td>\n",
       "      <td>-0.1000</td>\n",
       "    </tr>\n",
       "    <tr>\n",
       "      <th>1931-03-31</th>\n",
       "      <td>-0.1010</td>\n",
       "      <td>-0.1024</td>\n",
       "    </tr>\n",
       "    <tr>\n",
       "      <th>1931-04-30</th>\n",
       "      <td>-0.1013</td>\n",
       "      <td>-0.1027</td>\n",
       "    </tr>\n",
       "    <tr>\n",
       "      <th>1931-05-29</th>\n",
       "      <td>-0.1023</td>\n",
       "      <td>-0.1043</td>\n",
       "    </tr>\n",
       "  </tbody>\n",
       "</table>\n",
       "</div>"
      ],
      "text/plain": [
       "            Expanding Window  Rolling Window\n",
       "date                                        \n",
       "1931-01-31           -0.0992         -0.0992\n",
       "1931-02-28           -0.0992         -0.1000\n",
       "1931-03-31           -0.1010         -0.1024\n",
       "1931-04-30           -0.1013         -0.1027\n",
       "1931-05-29           -0.1023         -0.1043"
      ]
     },
     "execution_count": 12,
     "metadata": {},
     "output_type": "execute_result"
    }
   ],
   "source": [
    "VaR = -1.65 * stdev\n",
    "VaR.head()"
   ]
  },
  {
   "cell_type": "code",
   "execution_count": 13,
   "id": "1d0043cb",
   "metadata": {},
   "outputs": [
    {
     "data": {
      "image/png": "[encoded data removed]",
      "text/plain": [
       "<Figure size 432x288 with 1 Axes>"
      ]
     },
     "metadata": {
      "needs_background": "light"
     },
     "output_type": "display_data"
    }
   ],
   "source": [
    "VaR.plot()\n",
    "plt.title('VaR')\n",
    "plt.ylabel('VaR')\n",
    "plt.xlabel('Date')\n",
    "plt.show()"
   ]
  },
  {
   "cell_type": "markdown",
   "id": "ba25c6bf",
   "metadata": {},
   "source": [
    "### c. Frequency"
   ]
  },
  {
   "cell_type": "code",
   "execution_count": 14,
   "id": "ac7c402f",
   "metadata": {},
   "outputs": [
    {
     "data": {
      "text/html": [
       "<div>\n",
       "<style scoped>\n",
       "    .dataframe tbody tr th:only-of-type {\n",
       "        vertical-align: middle;\n",
       "    }\n",
       "\n",
       "    .dataframe tbody tr th {\n",
       "        vertical-align: top;\n",
       "    }\n",
       "\n",
       "    .dataframe thead th {\n",
       "        text-align: right;\n",
       "    }\n",
       "</style>\n",
       "<table border=\"1\" class=\"dataframe\">\n",
       "  <thead>\n",
       "    <tr style=\"text-align: right;\">\n",
       "      <th></th>\n",
       "      <th>Expanding Window</th>\n",
       "      <th>Rolling Window</th>\n",
       "    </tr>\n",
       "  </thead>\n",
       "  <tbody>\n",
       "    <tr>\n",
       "      <th>Frequency</th>\n",
       "      <td>0.0175</td>\n",
       "      <td>0.0496</td>\n",
       "    </tr>\n",
       "  </tbody>\n",
       "</table>\n",
       "</div>"
      ],
      "text/plain": [
       "           Expanding Window  Rolling Window\n",
       "Frequency            0.0175          0.0496"
      ]
     },
     "execution_count": 14,
     "metadata": {},
     "output_type": "execute_result"
    }
   ],
   "source": [
    "freq_df = pd.DataFrame(index = ['Frequency'], columns = VaR.columns)\n",
    "\n",
    "for col in freq_df:\n",
    "    freq_df[col] = len(VaR[df.loc[VaR.index, r'$\\tilde{r}$'] < VaR[col]]) / len(VaR[col].dropna().index)\n",
    "    \n",
    "round(freq_df, 4)"
   ]
  },
  {
   "cell_type": "code",
   "execution_count": 15,
   "id": "a1859a3e",
   "metadata": {},
   "outputs": [
    {
     "data": {
      "text/html": [
       "<div>\n",
       "<style scoped>\n",
       "    .dataframe tbody tr th:only-of-type {\n",
       "        vertical-align: middle;\n",
       "    }\n",
       "\n",
       "    .dataframe tbody tr th {\n",
       "        vertical-align: top;\n",
       "    }\n",
       "\n",
       "    .dataframe thead th {\n",
       "        text-align: right;\n",
       "    }\n",
       "</style>\n",
       "<table border=\"1\" class=\"dataframe\">\n",
       "  <thead>\n",
       "    <tr style=\"text-align: right;\">\n",
       "      <th></th>\n",
       "      <th>Expanding Window</th>\n",
       "      <th>Rolling Window</th>\n",
       "    </tr>\n",
       "    <tr>\n",
       "      <th>date</th>\n",
       "      <th></th>\n",
       "      <th></th>\n",
       "    </tr>\n",
       "  </thead>\n",
       "  <tbody>\n",
       "    <tr>\n",
       "      <th>1931-01-31</th>\n",
       "      <td>-0.0992</td>\n",
       "      <td>-0.0992</td>\n",
       "    </tr>\n",
       "    <tr>\n",
       "      <th>1931-02-28</th>\n",
       "      <td>-0.0992</td>\n",
       "      <td>-0.1000</td>\n",
       "    </tr>\n",
       "    <tr>\n",
       "      <th>1931-03-31</th>\n",
       "      <td>-0.1010</td>\n",
       "      <td>-0.1024</td>\n",
       "    </tr>\n",
       "    <tr>\n",
       "      <th>1931-04-30</th>\n",
       "      <td>-0.1013</td>\n",
       "      <td>-0.1027</td>\n",
       "    </tr>\n",
       "    <tr>\n",
       "      <th>1931-05-29</th>\n",
       "      <td>-0.1023</td>\n",
       "      <td>-0.1043</td>\n",
       "    </tr>\n",
       "  </tbody>\n",
       "</table>\n",
       "</div>"
      ],
      "text/plain": [
       "            Expanding Window  Rolling Window\n",
       "date                                        \n",
       "1931-01-31           -0.0992         -0.0992\n",
       "1931-02-28           -0.0992         -0.1000\n",
       "1931-03-31           -0.1010         -0.1024\n",
       "1931-04-30           -0.1013         -0.1027\n",
       "1931-05-29           -0.1023         -0.1043"
      ]
     },
     "execution_count": 15,
     "metadata": {},
     "output_type": "execute_result"
    }
   ],
   "source": [
    "VaR.head()"
   ]
  },
  {
   "cell_type": "markdown",
   "id": "acb4eaee",
   "metadata": {},
   "source": [
    "### d. Compare"
   ]
  },
  {
   "cell_type": "markdown",
   "id": "ea2cc03c",
   "metadata": {},
   "source": [
    "## 3. CVaR\n",
    "### Historical Window"
   ]
  },
  {
   "cell_type": "code",
   "execution_count": 16,
   "id": "9c62348c",
   "metadata": {},
   "outputs": [
    {
     "data": {
      "text/plain": [
       "date\n",
       "1926-01-30   NaN\n",
       "1926-02-27   NaN\n",
       "1926-03-31   NaN\n",
       "1926-04-30   NaN\n",
       "1926-05-28   NaN\n",
       "dtype: float64"
      ]
     },
     "execution_count": 16,
     "metadata": {},
     "output_type": "execute_result"
    }
   ],
   "source": [
    "historical_CVaR = pd.Series(index = historic_VaR.index)\n",
    "for i in historical_CVaR.index:\n",
    "    r = df[r'$\\tilde{r}$'].shift().loc[:i]\n",
    "    historical_CVaR.loc[i] = r[r < historic_VaR.loc[i]].mean()\n",
    "historical_CVaR.head()"
   ]
  },
  {
   "cell_type": "code",
   "execution_count": 17,
   "id": "ce847b40",
   "metadata": {},
   "outputs": [],
   "source": [
    "# Another way (similar) provided by TA in the discussion\n",
    "# The result is the same\n",
    "historic_CVaR = []\n",
    "return_data = df[r'$\\tilde{r}$']\n",
    "for i in range(len(return_data)):\n",
    "    if i < 61:\n",
    "        historic_CVaR.append(np.nan)\n",
    "    else:\n",
    "        window = return_data[:i-1]\n",
    "        CVaR = window[window < window.quantile(0.05)].mean()\n",
    "        historic_CVaR.append(CVaR)"
   ]
  },
  {
   "cell_type": "code",
   "execution_count": 18,
   "id": "57ca1158",
   "metadata": {},
   "outputs": [
    {
     "data": {
      "image/png": "[encoded data removed]",
      "text/plain": [
       "<Figure size 432x288 with 1 Axes>"
      ]
     },
     "metadata": {
      "needs_background": "light"
     },
     "output_type": "display_data"
    }
   ],
   "source": [
    "historical_CVaR.plot()\n",
    "plt.title('Historical CVaR')\n",
    "plt.ylabel('Historical CVaR')\n",
    "plt.xlabel('Date')\n",
    "plt.show()"
   ]
  },
  {
   "cell_type": "markdown",
   "id": "85f166a7",
   "metadata": {},
   "source": [
    "### Expanding Window"
   ]
  },
  {
   "cell_type": "code",
   "execution_count": 19,
   "id": "78affa3e",
   "metadata": {},
   "outputs": [
    {
     "data": {
      "text/html": [
       "<div>\n",
       "<style scoped>\n",
       "    .dataframe tbody tr th:only-of-type {\n",
       "        vertical-align: middle;\n",
       "    }\n",
       "\n",
       "    .dataframe tbody tr th {\n",
       "        vertical-align: top;\n",
       "    }\n",
       "\n",
       "    .dataframe thead th {\n",
       "        text-align: right;\n",
       "    }\n",
       "</style>\n",
       "<table border=\"1\" class=\"dataframe\">\n",
       "  <thead>\n",
       "    <tr style=\"text-align: right;\">\n",
       "      <th></th>\n",
       "      <th>Expanding Window</th>\n",
       "      <th>Rolling Window</th>\n",
       "    </tr>\n",
       "    <tr>\n",
       "      <th>date</th>\n",
       "      <th></th>\n",
       "      <th></th>\n",
       "    </tr>\n",
       "  </thead>\n",
       "  <tbody>\n",
       "    <tr>\n",
       "      <th>1931-01-31</th>\n",
       "      <td>-1.9844</td>\n",
       "      <td>-1.9844</td>\n",
       "    </tr>\n",
       "    <tr>\n",
       "      <th>1931-02-28</th>\n",
       "      <td>-1.9835</td>\n",
       "      <td>-1.9998</td>\n",
       "    </tr>\n",
       "    <tr>\n",
       "      <th>1931-03-31</th>\n",
       "      <td>-2.0204</td>\n",
       "      <td>-2.0480</td>\n",
       "    </tr>\n",
       "    <tr>\n",
       "      <th>1931-04-30</th>\n",
       "      <td>-2.0251</td>\n",
       "      <td>-2.0534</td>\n",
       "    </tr>\n",
       "    <tr>\n",
       "      <th>1931-05-29</th>\n",
       "      <td>-2.0460</td>\n",
       "      <td>-2.0861</td>\n",
       "    </tr>\n",
       "  </tbody>\n",
       "</table>\n",
       "</div>"
      ],
      "text/plain": [
       "            Expanding Window  Rolling Window\n",
       "date                                        \n",
       "1931-01-31           -1.9844         -1.9844\n",
       "1931-02-28           -1.9835         -1.9998\n",
       "1931-03-31           -2.0204         -2.0480\n",
       "1931-04-30           -2.0251         -2.0534\n",
       "1931-05-29           -2.0460         -2.0861"
      ]
     },
     "execution_count": 19,
     "metadata": {},
     "output_type": "execute_result"
    }
   ],
   "source": [
    "CVaR = -1.65 * stdev / 0.05\n",
    "CVaR.head()"
   ]
  },
  {
   "cell_type": "code",
   "execution_count": 20,
   "id": "82ba72d9",
   "metadata": {},
   "outputs": [
    {
     "data": {
      "text/plain": [
       "date\n",
       "1936-02-29   -0.2192\n",
       "1936-03-31   -0.2192\n",
       "1936-04-30   -0.2192\n",
       "1936-05-29   -0.2192\n",
       "1936-06-30   -0.2192\n",
       "dtype: float64"
      ]
     },
     "execution_count": 20,
     "metadata": {},
     "output_type": "execute_result"
    }
   ],
   "source": [
    "expanding_CVaR = pd.Series(index = VaR.index[60:])\n",
    "for i in expanding_CVaR.index:\n",
    "    r = df[r'$\\tilde{r}$'].shift().loc[:i]\n",
    "    expanding_CVaR.loc[i] = r[r < VaR.loc[i,'Expanding Window']].mean()\n",
    "expanding_CVaR.head()"
   ]
  },
  {
   "cell_type": "code",
   "execution_count": 21,
   "id": "1e9a6048",
   "metadata": {},
   "outputs": [
    {
     "data": {
      "image/png": "[encoded data removed]",
      "text/plain": [
       "<Figure size 432x288 with 1 Axes>"
      ]
     },
     "metadata": {
      "needs_background": "light"
     },
     "output_type": "display_data"
    }
   ],
   "source": [
    "# expanding_CVaR.plot()\n",
    "CVaR['Expanding Window'].plot()\n",
    "plt.title('Expanding CVaR')\n",
    "plt.ylabel('Expanding CVaR')\n",
    "plt.xlabel('Date')\n",
    "plt.show()"
   ]
  },
  {
   "cell_type": "markdown",
   "id": "123a4498",
   "metadata": {},
   "source": [
    "### Rolling Window"
   ]
  },
  {
   "cell_type": "code",
   "execution_count": 22,
   "id": "40ddbcf4",
   "metadata": {},
   "outputs": [
    {
     "data": {
      "text/plain": [
       "date\n",
       "1936-02-29   -0.2603\n",
       "1936-03-31   -0.2603\n",
       "1936-04-30   -0.2603\n",
       "1936-05-29   -0.2603\n",
       "1936-06-30   -0.2603\n",
       "dtype: float64"
      ]
     },
     "execution_count": 22,
     "metadata": {},
     "output_type": "execute_result"
    }
   ],
   "source": [
    "rolling_CVaR = pd.Series(index = VaR.index[60:])\n",
    "for i in rolling_CVaR.index:\n",
    "    r = df[r'$\\tilde{r}$'].shift().loc[:i]\n",
    "    rolling_CVaR.loc[i] = r[r < VaR.loc[i,'Rolling Window']].mean()\n",
    "rolling_CVaR.head()"
   ]
  },
  {
   "cell_type": "code",
   "execution_count": 23,
   "id": "78baae43",
   "metadata": {},
   "outputs": [
    {
     "data": {
      "image/png": "[encoded data removed]",
      "text/plain": [
       "<Figure size 432x288 with 1 Axes>"
      ]
     },
     "metadata": {
      "needs_background": "light"
     },
     "output_type": "display_data"
    }
   ],
   "source": [
    "# rolling_CVaR.plot()\n",
    "CVaR['Rolling Window'].plot()\n",
    "plt.title('Rolling CVaR')\n",
    "plt.ylabel('Rolling CVaR')\n",
    "plt.xlabel('Date')\n",
    "plt.show()"
   ]
  },
  {
   "cell_type": "markdown",
   "id": "9edb6b8f",
   "metadata": {},
   "source": [
    "## 4. Extra\n",
    "EWMA:"
   ]
  },
  {
   "cell_type": "code",
   "execution_count": 24,
   "id": "9bef4164",
   "metadata": {},
   "outputs": [
    {
     "name": "stdout",
     "output_type": "stream",
     "text": [
      "Iteration:      1,   Func. Count:      3,   Neg. LLF: 3984570.5364937778\n",
      "Iteration:      2,   Func. Count:     10,   Neg. LLF: -1858.8039187809004\n",
      "Optimization terminated successfully    (Exit mode 0)\n",
      "            Current function value: -1858.8039187817976\n",
      "            Iterations: 2\n",
      "            Function evaluations: 10\n",
      "            Gradient evaluations: 2\n"
     ]
    },
    {
     "data": {
      "text/plain": [
       "mu    0.007\n",
       "Name: params, dtype: float64"
      ]
     },
     "execution_count": 24,
     "metadata": {},
     "output_type": "execute_result"
    }
   ],
   "source": [
    "IGARCH = arch_model(df[r'$\\tilde{r}$'])\n",
    "\n",
    "theta = 0.97\n",
    "\n",
    "IGARCH.volatility = EWMAVariance(theta)\n",
    "\n",
    "IGARCH_model = IGARCH.fit()\n",
    "\n",
    "IGARCH_model.params"
   ]
  },
  {
   "cell_type": "markdown",
   "id": "7fddcc11",
   "metadata": {},
   "source": [
    "GARCH:"
   ]
  },
  {
   "cell_type": "code",
   "execution_count": 25,
   "id": "f9826256",
   "metadata": {},
   "outputs": [
    {
     "name": "stdout",
     "output_type": "stream",
     "text": [
      "Iteration:      1,   Func. Count:      6,   Neg. LLF: 38084950.95951727\n",
      "Iteration:      2,   Func. Count:     16,   Neg. LLF: -1909.9199599735189\n",
      "Optimization terminated successfully    (Exit mode 0)\n",
      "            Current function value: -1909.9199630529993\n",
      "            Iterations: 6\n",
      "            Function evaluations: 16\n",
      "            Gradient evaluations: 2\n"
     ]
    },
    {
     "data": {
      "text/plain": [
       "mu          7.8426e-03\n",
       "omega       5.8962e-05\n",
       "alpha[1]    1.0000e-01\n",
       "beta[1]     8.8000e-01\n",
       "Name: params, dtype: float64"
      ]
     },
     "execution_count": 25,
     "metadata": {},
     "output_type": "execute_result"
    }
   ],
   "source": [
    "GARCH = arch_model(df[r'$\\tilde{r}$'], vol='Garch', p=1, o=0, q=1, dist='Normal')\n",
    "\n",
    "GARCH_model = GARCH.fit()\n",
    "\n",
    "GARCH_model.params"
   ]
  },
  {
   "cell_type": "markdown",
   "id": "6726cae4",
   "metadata": {},
   "source": [
    "# 3. Underperformance\n",
    "## 1. Summary\n",
    "The earlier subsample has much higher mean returns, but similar excess returns due to the notable decrease in risk free rate.\n",
    "\n",
    "The log returns show lower mean returns as expected."
   ]
  },
  {
   "cell_type": "code",
   "execution_count": 26,
   "id": "04e10f3a",
   "metadata": {},
   "outputs": [],
   "source": [
    "def annualized_stats(data, annual_factor, log = False):\n",
    "    if log == False:\n",
    "        df = pd.DataFrame(data = None, \n",
    "                          index = [r'$r^{M}$',r'${\\tilde{r}^{M}}$',r'$r^{f}$'])\n",
    "    else: \n",
    "        df = pd.DataFrame(data = None, \n",
    "                      index = [r'log$r^{M}$',r'log${\\tilde{r}^{M}}$',r'log$r^{f}$'])\n",
    "        \n",
    "    df[str(data.index[0].year) + '-' + str(data.index[-1].year) + r' $\\mu$'] = [data['SPX'].mean(),\n",
    "                                                                                data['SPX'].mean()-data['TB1M'].mean(),\n",
    "                                                                                data['TB1M'].mean()] \n",
    "    \n",
    "    df[str(data.index[0].year) + '-' + str(data.index[-1].year) + r' $\\mu$'] *= annual_factor\n",
    "    \n",
    "    df[str(data.index[0].year) + '-' + str(data.index[-1].year) + r' $\\sigma$'] = [data['SPX'].std(),\n",
    "                                                                                   (data['SPX']-data['TB1M']).std(),\n",
    "                                                                                   data['TB1M'].std()] \n",
    "    \n",
    "    df[str(data.index[0].year) + '-' + str(data.index[-1].year) + r' $\\sigma$'] *= np.sqrt(annual_factor)\n",
    "    \n",
    "    return df"
   ]
  },
  {
   "cell_type": "code",
   "execution_count": 27,
   "id": "40ba8b85",
   "metadata": {},
   "outputs": [],
   "source": [
    "def join(df_list):\n",
    "    df = df_list[0]\n",
    "    \n",
    "    for df_ in df_list[1:]:\n",
    "        df = df.join(df_)\n",
    "    \n",
    "    return df"
   ]
  },
  {
   "cell_type": "code",
   "execution_count": 28,
   "id": "cda876f3",
   "metadata": {},
   "outputs": [
    {
     "data": {
      "text/html": [
       "<div>\n",
       "<style scoped>\n",
       "    .dataframe tbody tr th:only-of-type {\n",
       "        vertical-align: middle;\n",
       "    }\n",
       "\n",
       "    .dataframe tbody tr th {\n",
       "        vertical-align: top;\n",
       "    }\n",
       "\n",
       "    .dataframe thead th {\n",
       "        text-align: right;\n",
       "    }\n",
       "</style>\n",
       "<table border=\"1\" class=\"dataframe\">\n",
       "  <thead>\n",
       "    <tr style=\"text-align: right;\">\n",
       "      <th></th>\n",
       "      <th>1965-1999 $\\mu$</th>\n",
       "      <th>1965-1999 $\\sigma$</th>\n",
       "      <th>2000-2022 $\\mu$</th>\n",
       "      <th>2000-2022 $\\sigma$</th>\n",
       "      <th>1926-2022 $\\mu$</th>\n",
       "      <th>1926-2022 $\\sigma$</th>\n",
       "    </tr>\n",
       "  </thead>\n",
       "  <tbody>\n",
       "    <tr>\n",
       "      <th>$r^{M}$</th>\n",
       "      <td>0.1302</td>\n",
       "      <td>0.1495</td>\n",
       "      <td>0.0759</td>\n",
       "      <td>0.1526</td>\n",
       "      <td>0.1132</td>\n",
       "      <td>0.1878</td>\n",
       "    </tr>\n",
       "    <tr>\n",
       "      <th>${\\tilde{r}^{M}}$</th>\n",
       "      <td>0.0687</td>\n",
       "      <td>0.1502</td>\n",
       "      <td>0.0616</td>\n",
       "      <td>0.1531</td>\n",
       "      <td>0.0816</td>\n",
       "      <td>0.1881</td>\n",
       "    </tr>\n",
       "    <tr>\n",
       "      <th>$r^{f}$</th>\n",
       "      <td>0.0615</td>\n",
       "      <td>0.0072</td>\n",
       "      <td>0.0143</td>\n",
       "      <td>0.0050</td>\n",
       "      <td>0.0315</td>\n",
       "      <td>0.0086</td>\n",
       "    </tr>\n",
       "    <tr>\n",
       "      <th>log$r^{M}$</th>\n",
       "      <td>0.1176</td>\n",
       "      <td>0.1496</td>\n",
       "      <td>0.0640</td>\n",
       "      <td>0.1537</td>\n",
       "      <td>0.0957</td>\n",
       "      <td>0.1867</td>\n",
       "    </tr>\n",
       "    <tr>\n",
       "      <th>log${\\tilde{r}^{M}}$</th>\n",
       "      <td>0.0563</td>\n",
       "      <td>0.1504</td>\n",
       "      <td>0.0497</td>\n",
       "      <td>0.1542</td>\n",
       "      <td>0.0642</td>\n",
       "      <td>0.1873</td>\n",
       "    </tr>\n",
       "    <tr>\n",
       "      <th>log$r^{f}$</th>\n",
       "      <td>0.0613</td>\n",
       "      <td>0.0071</td>\n",
       "      <td>0.0143</td>\n",
       "      <td>0.0050</td>\n",
       "      <td>0.0315</td>\n",
       "      <td>0.0085</td>\n",
       "    </tr>\n",
       "  </tbody>\n",
       "</table>\n",
       "</div>"
      ],
      "text/plain": [
       "                      1965-1999 $\\mu$  1965-1999 $\\sigma$  2000-2022 $\\mu$  \\\n",
       "$r^{M}$                        0.1302              0.1495           0.0759   \n",
       "${\\tilde{r}^{M}}$              0.0687              0.1502           0.0616   \n",
       "$r^{f}$                        0.0615              0.0072           0.0143   \n",
       "log$r^{M}$                     0.1176              0.1496           0.0640   \n",
       "log${\\tilde{r}^{M}}$           0.0563              0.1504           0.0497   \n",
       "log$r^{f}$                     0.0613              0.0071           0.0143   \n",
       "\n",
       "                      2000-2022 $\\sigma$  1926-2022 $\\mu$  1926-2022 $\\sigma$  \n",
       "$r^{M}$                           0.1526           0.1132              0.1878  \n",
       "${\\tilde{r}^{M}}$                 0.1531           0.0816              0.1881  \n",
       "$r^{f}$                           0.0050           0.0315              0.0086  \n",
       "log$r^{M}$                        0.1537           0.0957              0.1867  \n",
       "log${\\tilde{r}^{M}}$              0.1542           0.0642              0.1873  \n",
       "log$r^{f}$                        0.0050           0.0315              0.0085  "
      ]
     },
     "execution_count": 28,
     "metadata": {},
     "output_type": "execute_result"
    }
   ],
   "source": [
    "stats_ = join([annualized_stats(df.loc['1965':'1999'], 12),\n",
    "             annualized_stats(df.loc['2000':], 12),\n",
    "             annualized_stats(df.loc['1926':], 12)])\n",
    "\n",
    "log_stats = join([annualized_stats(log_df.loc['1965':'1999'], 12, log = True),\n",
    "                 annualized_stats(log_df.loc['2000':], 12, log = True),\n",
    "                 annualized_stats(log_df.loc['1926':], 12, log = True)])\n",
    "\n",
    "stats_df = stats_.append(log_stats)\n",
    "stats_df"
   ]
  },
  {
   "cell_type": "markdown",
   "id": "f6ad19c8",
   "metadata": {},
   "source": [
    "## 2. Prob(Market underperform risk-free)"
   ]
  },
  {
   "cell_type": "code",
   "execution_count": 29,
   "id": "0dc356f0",
   "metadata": {},
   "outputs": [],
   "source": [
    "def prob_calc(h, tilde_mu, tilde_sigma):\n",
    "    return stats.norm.cdf(- np.sqrt(h) * tilde_mu / tilde_sigma)\n",
    "\n",
    "def prob(h, tilde_mu, tilde_sigma):\n",
    "    prob_df = pd.DataFrame(data = h, columns = ['h'])\n",
    "    \n",
    "    prob_df['Probability'] = prob_calc(prob_df['h'], tilde_mu, tilde_sigma)\n",
    "    \n",
    "    prob_df = prob_df.set_index('h')\n",
    "    \n",
    "    return prob_df"
   ]
  },
  {
   "cell_type": "code",
   "execution_count": 30,
   "id": "fe6a8dba",
   "metadata": {},
   "outputs": [
    {
     "data": {
      "text/html": [
       "<div>\n",
       "<style scoped>\n",
       "    .dataframe tbody tr th:only-of-type {\n",
       "        vertical-align: middle;\n",
       "    }\n",
       "\n",
       "    .dataframe tbody tr th {\n",
       "        vertical-align: top;\n",
       "    }\n",
       "\n",
       "    .dataframe thead th {\n",
       "        text-align: right;\n",
       "    }\n",
       "</style>\n",
       "<table border=\"1\" class=\"dataframe\">\n",
       "  <thead>\n",
       "    <tr style=\"text-align: right;\">\n",
       "      <th></th>\n",
       "      <th>1965-1999 $\\mu$</th>\n",
       "      <th>1965-1999 $\\sigma$</th>\n",
       "      <th>2000-2022 $\\mu$</th>\n",
       "      <th>2000-2022 $\\sigma$</th>\n",
       "      <th>1926-2022 $\\mu$</th>\n",
       "      <th>1926-2022 $\\sigma$</th>\n",
       "    </tr>\n",
       "  </thead>\n",
       "  <tbody>\n",
       "    <tr>\n",
       "      <th>$r^{M}$</th>\n",
       "      <td>0.1302</td>\n",
       "      <td>0.1495</td>\n",
       "      <td>0.0759</td>\n",
       "      <td>0.1526</td>\n",
       "      <td>0.1132</td>\n",
       "      <td>0.1878</td>\n",
       "    </tr>\n",
       "    <tr>\n",
       "      <th>${\\tilde{r}^{M}}$</th>\n",
       "      <td>0.0687</td>\n",
       "      <td>0.1502</td>\n",
       "      <td>0.0616</td>\n",
       "      <td>0.1531</td>\n",
       "      <td>0.0816</td>\n",
       "      <td>0.1881</td>\n",
       "    </tr>\n",
       "    <tr>\n",
       "      <th>$r^{f}$</th>\n",
       "      <td>0.0615</td>\n",
       "      <td>0.0072</td>\n",
       "      <td>0.0143</td>\n",
       "      <td>0.0050</td>\n",
       "      <td>0.0315</td>\n",
       "      <td>0.0086</td>\n",
       "    </tr>\n",
       "    <tr>\n",
       "      <th>log$r^{M}$</th>\n",
       "      <td>0.1176</td>\n",
       "      <td>0.1496</td>\n",
       "      <td>0.0640</td>\n",
       "      <td>0.1537</td>\n",
       "      <td>0.0957</td>\n",
       "      <td>0.1867</td>\n",
       "    </tr>\n",
       "    <tr>\n",
       "      <th>log${\\tilde{r}^{M}}$</th>\n",
       "      <td>0.0563</td>\n",
       "      <td>0.1504</td>\n",
       "      <td>0.0497</td>\n",
       "      <td>0.1542</td>\n",
       "      <td>0.0642</td>\n",
       "      <td>0.1873</td>\n",
       "    </tr>\n",
       "    <tr>\n",
       "      <th>log$r^{f}$</th>\n",
       "      <td>0.0613</td>\n",
       "      <td>0.0071</td>\n",
       "      <td>0.0143</td>\n",
       "      <td>0.0050</td>\n",
       "      <td>0.0315</td>\n",
       "      <td>0.0085</td>\n",
       "    </tr>\n",
       "  </tbody>\n",
       "</table>\n",
       "</div>"
      ],
      "text/plain": [
       "                      1965-1999 $\\mu$  1965-1999 $\\sigma$  2000-2022 $\\mu$  \\\n",
       "$r^{M}$                        0.1302              0.1495           0.0759   \n",
       "${\\tilde{r}^{M}}$              0.0687              0.1502           0.0616   \n",
       "$r^{f}$                        0.0615              0.0072           0.0143   \n",
       "log$r^{M}$                     0.1176              0.1496           0.0640   \n",
       "log${\\tilde{r}^{M}}$           0.0563              0.1504           0.0497   \n",
       "log$r^{f}$                     0.0613              0.0071           0.0143   \n",
       "\n",
       "                      2000-2022 $\\sigma$  1926-2022 $\\mu$  1926-2022 $\\sigma$  \n",
       "$r^{M}$                           0.1526           0.1132              0.1878  \n",
       "${\\tilde{r}^{M}}$                 0.1531           0.0816              0.1881  \n",
       "$r^{f}$                           0.0050           0.0315              0.0086  \n",
       "log$r^{M}$                        0.1537           0.0957              0.1867  \n",
       "log${\\tilde{r}^{M}}$              0.1542           0.0642              0.1873  \n",
       "log$r^{f}$                        0.0050           0.0315              0.0085  "
      ]
     },
     "execution_count": 30,
     "metadata": {},
     "output_type": "execute_result"
    }
   ],
   "source": [
    "stats_df"
   ]
  },
  {
   "cell_type": "markdown",
   "id": "91c08869",
   "metadata": {},
   "source": [
    "### (a)"
   ]
  },
  {
   "cell_type": "code",
   "execution_count": 31,
   "id": "e3e0843b",
   "metadata": {},
   "outputs": [
    {
     "data": {
      "text/html": [
       "<div>\n",
       "<style scoped>\n",
       "    .dataframe tbody tr th:only-of-type {\n",
       "        vertical-align: middle;\n",
       "    }\n",
       "\n",
       "    .dataframe tbody tr th {\n",
       "        vertical-align: top;\n",
       "    }\n",
       "\n",
       "    .dataframe thead th {\n",
       "        text-align: right;\n",
       "    }\n",
       "</style>\n",
       "<table border=\"1\" class=\"dataframe\">\n",
       "  <thead>\n",
       "    <tr style=\"text-align: right;\">\n",
       "      <th></th>\n",
       "      <th>Probability</th>\n",
       "    </tr>\n",
       "    <tr>\n",
       "      <th>h</th>\n",
       "      <th></th>\n",
       "    </tr>\n",
       "  </thead>\n",
       "  <tbody>\n",
       "    <tr>\n",
       "      <th>22</th>\n",
       "      <td>0.0396</td>\n",
       "    </tr>\n",
       "  </tbody>\n",
       "</table>\n",
       "</div>"
      ],
      "text/plain": [
       "    Probability\n",
       "h              \n",
       "22       0.0396"
      ]
     },
     "execution_count": 31,
     "metadata": {},
     "output_type": "execute_result"
    }
   ],
   "source": [
    "mu_tilde = stats_df.iloc[4, 0]\n",
    "sigma_tilde = stats_df.iloc[4, 1]\n",
    "h = 2021 - 1999\n",
    "\n",
    "prob([h], mu_tilde, sigma_tilde)"
   ]
  },
  {
   "cell_type": "markdown",
   "id": "829d18e3",
   "metadata": {},
   "source": [
    "### (b) Precise probability for h = 15 and h = 30 years are shown below."
   ]
  },
  {
   "cell_type": "code",
   "execution_count": 32,
   "id": "eb9a8012",
   "metadata": {},
   "outputs": [
    {
     "data": {
      "text/html": [
       "<div>\n",
       "<style scoped>\n",
       "    .dataframe tbody tr th:only-of-type {\n",
       "        vertical-align: middle;\n",
       "    }\n",
       "\n",
       "    .dataframe tbody tr th {\n",
       "        vertical-align: top;\n",
       "    }\n",
       "\n",
       "    .dataframe thead th {\n",
       "        text-align: right;\n",
       "    }\n",
       "</style>\n",
       "<table border=\"1\" class=\"dataframe\">\n",
       "  <thead>\n",
       "    <tr style=\"text-align: right;\">\n",
       "      <th></th>\n",
       "      <th>Probability</th>\n",
       "    </tr>\n",
       "    <tr>\n",
       "      <th>h</th>\n",
       "      <th></th>\n",
       "    </tr>\n",
       "  </thead>\n",
       "  <tbody>\n",
       "    <tr>\n",
       "      <th>15</th>\n",
       "      <td>0.0736</td>\n",
       "    </tr>\n",
       "    <tr>\n",
       "      <th>30</th>\n",
       "      <td>0.0202</td>\n",
       "    </tr>\n",
       "  </tbody>\n",
       "</table>\n",
       "</div>"
      ],
      "text/plain": [
       "    Probability\n",
       "h              \n",
       "15       0.0736\n",
       "30       0.0202"
      ]
     },
     "execution_count": 32,
     "metadata": {},
     "output_type": "execute_result"
    }
   ],
   "source": [
    "prob([15, 30], mu_tilde, sigma_tilde)"
   ]
  },
  {
   "cell_type": "markdown",
   "id": "2fd986fc",
   "metadata": {},
   "source": [
    "### (c)"
   ]
  },
  {
   "cell_type": "code",
   "execution_count": 33,
   "id": "a823602e",
   "metadata": {},
   "outputs": [
    {
     "data": {
      "image/png": "[encoded data removed]",
      "text/plain": [
       "<Figure size 432x288 with 1 Axes>"
      ]
     },
     "metadata": {
      "needs_background": "light"
     },
     "output_type": "display_data"
    }
   ],
   "source": [
    "prob_horizon = prob(list(range(1, 31)), mu_tilde, sigma_tilde)\n",
    "\n",
    "prob_horizon.plot() \n",
    "plt.title('Probability by Investment Horizon')\n",
    "plt.ylabel('Prob. of Shortfall')\n",
    "plt.show()"
   ]
  },
  {
   "cell_type": "markdown",
   "id": "cf243faf",
   "metadata": {},
   "source": [
    "## 3. Calculating Probabilities 1965-2022"
   ]
  },
  {
   "cell_type": "code",
   "execution_count": 34,
   "id": "506c168f",
   "metadata": {},
   "outputs": [
    {
     "data": {
      "text/html": [
       "<div>\n",
       "<style scoped>\n",
       "    .dataframe tbody tr th:only-of-type {\n",
       "        vertical-align: middle;\n",
       "    }\n",
       "\n",
       "    .dataframe tbody tr th {\n",
       "        vertical-align: top;\n",
       "    }\n",
       "\n",
       "    .dataframe thead th {\n",
       "        text-align: right;\n",
       "    }\n",
       "</style>\n",
       "<table border=\"1\" class=\"dataframe\">\n",
       "  <thead>\n",
       "    <tr style=\"text-align: right;\">\n",
       "      <th></th>\n",
       "      <th>Probability</th>\n",
       "    </tr>\n",
       "    <tr>\n",
       "      <th>h</th>\n",
       "      <th></th>\n",
       "    </tr>\n",
       "  </thead>\n",
       "  <tbody>\n",
       "    <tr>\n",
       "      <th>5</th>\n",
       "      <td>0.2124</td>\n",
       "    </tr>\n",
       "    <tr>\n",
       "      <th>10</th>\n",
       "      <td>0.1295</td>\n",
       "    </tr>\n",
       "    <tr>\n",
       "      <th>15</th>\n",
       "      <td>0.0834</td>\n",
       "    </tr>\n",
       "    <tr>\n",
       "      <th>20</th>\n",
       "      <td>0.0552</td>\n",
       "    </tr>\n",
       "    <tr>\n",
       "      <th>25</th>\n",
       "      <td>0.0372</td>\n",
       "    </tr>\n",
       "    <tr>\n",
       "      <th>30</th>\n",
       "      <td>0.0253</td>\n",
       "    </tr>\n",
       "  </tbody>\n",
       "</table>\n",
       "</div>"
      ],
      "text/plain": [
       "    Probability\n",
       "h              \n",
       "5        0.2124\n",
       "10       0.1295\n",
       "15       0.0834\n",
       "20       0.0552\n",
       "25       0.0372\n",
       "30       0.0253"
      ]
     },
     "execution_count": 34,
     "metadata": {},
     "output_type": "execute_result"
    }
   ],
   "source": [
    "log_df1965 = log_df.loc['1965':].dropna()\n",
    "mu_tilde = (log_df1965['SPX'].mean()-log_df1965['TB1M'].mean()) * 12\n",
    "sigma_tilde = (log_df1965['SPX']-log_df1965['TB1M']).std() * np.sqrt(12)\n",
    "\n",
    "prob(list(range(5,35, 5)), mu_tilde, sigma_tilde)"
   ]
  },
  {
   "attachments": {},
   "cell_type": "markdown",
   "id": "9c286a6b",
   "metadata": {},
   "source": [
    "## 4. Barnstable's Expectations\n",
    "Barnstable theory assumes that **log returns are normally distributed and i.i.d.**, thus the mean of our portfolio will be proportional to the holding period, while the standard deviation of the portfolio will be proportional to the square root of the holding period, making the probability of beating the benchmark higher and higher with the increase of the holding period."
   ]
  },
  {
   "cell_type": "code",
   "execution_count": 35,
   "id": "27e1e7ec",
   "metadata": {},
   "outputs": [
    {
     "data": {
      "text/html": [
       "<div>\n",
       "<style scoped>\n",
       "    .dataframe tbody tr th:only-of-type {\n",
       "        vertical-align: middle;\n",
       "    }\n",
       "\n",
       "    .dataframe tbody tr th {\n",
       "        vertical-align: top;\n",
       "    }\n",
       "\n",
       "    .dataframe thead th {\n",
       "        text-align: right;\n",
       "    }\n",
       "</style>\n",
       "<table border=\"1\" class=\"dataframe\">\n",
       "  <thead>\n",
       "    <tr style=\"text-align: right;\">\n",
       "      <th></th>\n",
       "      <th>Probability</th>\n",
       "    </tr>\n",
       "    <tr>\n",
       "      <th>h</th>\n",
       "      <th></th>\n",
       "    </tr>\n",
       "  </thead>\n",
       "  <tbody>\n",
       "    <tr>\n",
       "      <th>23</th>\n",
       "      <td>0.0429</td>\n",
       "    </tr>\n",
       "  </tbody>\n",
       "</table>\n",
       "</div>"
      ],
      "text/plain": [
       "    Probability\n",
       "h              \n",
       "23       0.0429"
      ]
     },
     "execution_count": 35,
     "metadata": {},
     "output_type": "execute_result"
    }
   ],
   "source": [
    "mu = stats_df.iloc[3,0]\n",
    "bar_r = stats_df.iloc[3,2]\n",
    "sigma = stats_df.iloc[3,1]\n",
    "\n",
    "prob([23], mu - bar_r, sigma)"
   ]
  },
  {
   "cell_type": "code",
   "execution_count": 36,
   "id": "688cf923",
   "metadata": {},
   "outputs": [
    {
     "data": {
      "text/html": [
       "<div>\n",
       "<style scoped>\n",
       "    .dataframe tbody tr th:only-of-type {\n",
       "        vertical-align: middle;\n",
       "    }\n",
       "\n",
       "    .dataframe tbody tr th {\n",
       "        vertical-align: top;\n",
       "    }\n",
       "\n",
       "    .dataframe thead th {\n",
       "        text-align: right;\n",
       "    }\n",
       "</style>\n",
       "<table border=\"1\" class=\"dataframe\">\n",
       "  <thead>\n",
       "    <tr style=\"text-align: right;\">\n",
       "      <th></th>\n",
       "      <th>Probability</th>\n",
       "    </tr>\n",
       "    <tr>\n",
       "      <th>h</th>\n",
       "      <th></th>\n",
       "    </tr>\n",
       "  </thead>\n",
       "  <tbody>\n",
       "    <tr>\n",
       "      <th>7</th>\n",
       "      <td>0.1567</td>\n",
       "    </tr>\n",
       "  </tbody>\n",
       "</table>\n",
       "</div>"
      ],
      "text/plain": [
       "   Probability\n",
       "h             \n",
       "7       0.1567"
      ]
     },
     "execution_count": 36,
     "metadata": {},
     "output_type": "execute_result"
    }
   ],
   "source": [
    "strike = np.log(1.06)\n",
    "\n",
    "mu65 = log_df1965['SPX'].mean() * 12\n",
    "\n",
    "sigma65 = log_df1965['SPX'].std() * np.sqrt(12)\n",
    "\n",
    "mu = 23/7 * (stats_df.iloc[3, 2] - strike) + mu65 - strike\n",
    "\n",
    "prob([7], mu, sigma65)"
   ]
  },
  {
   "cell_type": "code",
   "execution_count": null,
   "id": "c9895605",
   "metadata": {},
   "outputs": [],
   "source": []
  }
 ],
 "metadata": {
  "kernelspec": {
   "display_name": "Python 3 (ipykernel)",
   "language": "python",
   "name": "python3"
  },
  "language_info": {
   "codemirror_mode": {
    "name": "ipython",
    "version": 3
   },
   "file_extension": ".py",
   "mimetype": "text/x-python",
   "name": "python",
   "nbconvert_exporter": "python",
   "pygments_lexer": "ipython3",
   "version": "3.9.12"
  }
 },
 "nbformat": 4,
 "nbformat_minor": 5
}
