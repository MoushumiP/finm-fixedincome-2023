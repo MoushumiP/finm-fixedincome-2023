{
 "cells": [
  {
   "cell_type": "markdown",
   "id": "03468f03",
   "metadata": {},
   "source": [
    "## 36700 Homework 7"
   ]
  },
  {
   "cell_type": "code",
   "execution_count": 6,
   "id": "61aa1c9b",
   "metadata": {},
   "outputs": [],
   "source": [
    "import pandas as pd\n",
    "import numpy as np\n",
    "import matplotlib.pyplot as plt\n",
    "import statsmodels.api as sm\n",
    "from arch import arch_model\n",
    "from arch.univariate import GARCH, EWMAVariance \n",
    "from sklearn import linear_model\n",
    "import scipy.stats as stats\n",
    "from statsmodels.regression.rolling import RollingOLS\n",
    "import seaborn as sns\n",
    "import warnings\n",
    "warnings.filterwarnings(\"ignore\")"
   ]
  },
  {
   "cell_type": "markdown",
   "id": "7d85b2ef",
   "metadata": {},
   "source": [
    "### Descriptions"
   ]
  },
  {
   "cell_type": "code",
   "execution_count": 108,
   "id": "893531e3",
   "metadata": {},
   "outputs": [
    {
     "data": {
      "text/html": [
       "<div>\n",
       "<style scoped>\n",
       "    .dataframe tbody tr th:only-of-type {\n",
       "        vertical-align: middle;\n",
       "    }\n",
       "\n",
       "    .dataframe tbody tr th {\n",
       "        vertical-align: top;\n",
       "    }\n",
       "\n",
       "    .dataframe thead th {\n",
       "        text-align: right;\n",
       "    }\n",
       "</style>\n",
       "<table border=\"1\" class=\"dataframe\">\n",
       "  <thead>\n",
       "    <tr style=\"text-align: right;\">\n",
       "      <th></th>\n",
       "      <th>Ticker</th>\n",
       "      <th>Unit</th>\n",
       "      <th>Type</th>\n",
       "      <th>Description</th>\n",
       "    </tr>\n",
       "  </thead>\n",
       "  <tbody>\n",
       "    <tr>\n",
       "      <th>0</th>\n",
       "      <td>DP</td>\n",
       "      <td>Ratio</td>\n",
       "      <td>Index</td>\n",
       "      <td>Dividend-Price Ratio of the S&amp;P500</td>\n",
       "    </tr>\n",
       "    <tr>\n",
       "      <th>1</th>\n",
       "      <td>EP</td>\n",
       "      <td>Ratio</td>\n",
       "      <td>Index</td>\n",
       "      <td>Earnings-Price Ratio of the S&amp;P500</td>\n",
       "    </tr>\n",
       "    <tr>\n",
       "      <th>2</th>\n",
       "      <td>US10Y</td>\n",
       "      <td>Yield</td>\n",
       "      <td>Index</td>\n",
       "      <td>10-Year Tnotes</td>\n",
       "    </tr>\n",
       "    <tr>\n",
       "      <th>3</th>\n",
       "      <td>SPY</td>\n",
       "      <td>Total Return</td>\n",
       "      <td>ETF</td>\n",
       "      <td>S&amp;P 500</td>\n",
       "    </tr>\n",
       "    <tr>\n",
       "      <th>4</th>\n",
       "      <td>GMWAX</td>\n",
       "      <td>Total Return</td>\n",
       "      <td>Mutual Fund</td>\n",
       "      <td>GMO</td>\n",
       "    </tr>\n",
       "    <tr>\n",
       "      <th>5</th>\n",
       "      <td>RF</td>\n",
       "      <td>Total Return</td>\n",
       "      <td>Index</td>\n",
       "      <td>3-Month Tbills</td>\n",
       "    </tr>\n",
       "  </tbody>\n",
       "</table>\n",
       "</div>"
      ],
      "text/plain": [
       "  Ticker          Unit         Type                         Description\n",
       "0     DP         Ratio        Index  Dividend-Price Ratio of the S&P500\n",
       "1     EP         Ratio        Index  Earnings-Price Ratio of the S&P500\n",
       "2  US10Y         Yield        Index                      10-Year Tnotes\n",
       "3    SPY  Total Return          ETF                             S&P 500\n",
       "4  GMWAX  Total Return  Mutual Fund                                 GMO\n",
       "5     RF  Total Return        Index                      3-Month Tbills"
      ]
     },
     "execution_count": 108,
     "metadata": {},
     "output_type": "execute_result"
    }
   ],
   "source": [
    "descriptions = pd.read_excel('gmo_analysis_data.xlsx', sheet_name='descriptions').dropna()\n",
    "descriptions.rename( columns={'Unnamed: 0':'Ticker'}, inplace=True )\n",
    "descriptions"
   ]
  },
  {
   "cell_type": "markdown",
   "id": "f4957c18",
   "metadata": {},
   "source": [
    "### Signals"
   ]
  },
  {
   "cell_type": "code",
   "execution_count": 91,
   "id": "eb515beb",
   "metadata": {},
   "outputs": [
    {
     "data": {
      "text/html": [
       "<div>\n",
       "<style scoped>\n",
       "    .dataframe tbody tr th:only-of-type {\n",
       "        vertical-align: middle;\n",
       "    }\n",
       "\n",
       "    .dataframe tbody tr th {\n",
       "        vertical-align: top;\n",
       "    }\n",
       "\n",
       "    .dataframe thead th {\n",
       "        text-align: right;\n",
       "    }\n",
       "</style>\n",
       "<table border=\"1\" class=\"dataframe\">\n",
       "  <thead>\n",
       "    <tr style=\"text-align: right;\">\n",
       "      <th></th>\n",
       "      <th>DP</th>\n",
       "      <th>EP</th>\n",
       "      <th>US10Y</th>\n",
       "    </tr>\n",
       "    <tr>\n",
       "      <th>Date</th>\n",
       "      <th></th>\n",
       "      <th></th>\n",
       "      <th></th>\n",
       "    </tr>\n",
       "  </thead>\n",
       "  <tbody>\n",
       "    <tr>\n",
       "      <th>1993-02-28</th>\n",
       "      <td>2.82</td>\n",
       "      <td>4.44</td>\n",
       "      <td>6.03</td>\n",
       "    </tr>\n",
       "    <tr>\n",
       "      <th>1993-03-31</th>\n",
       "      <td>2.77</td>\n",
       "      <td>4.41</td>\n",
       "      <td>6.03</td>\n",
       "    </tr>\n",
       "    <tr>\n",
       "      <th>1993-04-30</th>\n",
       "      <td>2.82</td>\n",
       "      <td>4.44</td>\n",
       "      <td>6.05</td>\n",
       "    </tr>\n",
       "    <tr>\n",
       "      <th>1993-05-31</th>\n",
       "      <td>2.81</td>\n",
       "      <td>4.38</td>\n",
       "      <td>6.16</td>\n",
       "    </tr>\n",
       "    <tr>\n",
       "      <th>1993-06-30</th>\n",
       "      <td>2.79</td>\n",
       "      <td>4.31</td>\n",
       "      <td>5.80</td>\n",
       "    </tr>\n",
       "  </tbody>\n",
       "</table>\n",
       "</div>"
      ],
      "text/plain": [
       "              DP    EP  US10Y\n",
       "Date                         \n",
       "1993-02-28  2.82  4.44   6.03\n",
       "1993-03-31  2.77  4.41   6.03\n",
       "1993-04-30  2.82  4.44   6.05\n",
       "1993-05-31  2.81  4.38   6.16\n",
       "1993-06-30  2.79  4.31   5.80"
      ]
     },
     "execution_count": 91,
     "metadata": {},
     "output_type": "execute_result"
    }
   ],
   "source": [
    "signals = pd.read_excel('gmo_analysis_data.xlsx', sheet_name='signals').dropna()\n",
    "signals.rename( columns={'Unnamed: 0':'Date'}, inplace=True )\n",
    "signals.set_index('Date',inplace=True, drop=True)\n",
    "signals.head()"
   ]
  },
  {
   "cell_type": "markdown",
   "id": "409d6cdc",
   "metadata": {},
   "source": [
    "### Returns"
   ]
  },
  {
   "cell_type": "code",
   "execution_count": 80,
   "id": "f57065a5",
   "metadata": {},
   "outputs": [
    {
     "data": {
      "text/html": [
       "<div>\n",
       "<style scoped>\n",
       "    .dataframe tbody tr th:only-of-type {\n",
       "        vertical-align: middle;\n",
       "    }\n",
       "\n",
       "    .dataframe tbody tr th {\n",
       "        vertical-align: top;\n",
       "    }\n",
       "\n",
       "    .dataframe thead th {\n",
       "        text-align: right;\n",
       "    }\n",
       "</style>\n",
       "<table border=\"1\" class=\"dataframe\">\n",
       "  <thead>\n",
       "    <tr style=\"text-align: right;\">\n",
       "      <th></th>\n",
       "      <th>SPY</th>\n",
       "      <th>GMWAX</th>\n",
       "    </tr>\n",
       "    <tr>\n",
       "      <th>Date</th>\n",
       "      <th></th>\n",
       "      <th></th>\n",
       "    </tr>\n",
       "  </thead>\n",
       "  <tbody>\n",
       "    <tr>\n",
       "      <th>1996-11-30</th>\n",
       "      <td>0.06873</td>\n",
       "      <td>0.04091</td>\n",
       "    </tr>\n",
       "    <tr>\n",
       "      <th>1996-12-31</th>\n",
       "      <td>-0.02815</td>\n",
       "      <td>-0.01563</td>\n",
       "    </tr>\n",
       "    <tr>\n",
       "      <th>1997-01-31</th>\n",
       "      <td>0.05749</td>\n",
       "      <td>0.01044</td>\n",
       "    </tr>\n",
       "    <tr>\n",
       "      <th>1997-02-28</th>\n",
       "      <td>0.00522</td>\n",
       "      <td>0.01792</td>\n",
       "    </tr>\n",
       "    <tr>\n",
       "      <th>1997-03-31</th>\n",
       "      <td>-0.04860</td>\n",
       "      <td>-0.01961</td>\n",
       "    </tr>\n",
       "  </tbody>\n",
       "</table>\n",
       "</div>"
      ],
      "text/plain": [
       "                SPY    GMWAX\n",
       "Date                        \n",
       "1996-11-30  0.06873  0.04091\n",
       "1996-12-31 -0.02815 -0.01563\n",
       "1997-01-31  0.05749  0.01044\n",
       "1997-02-28  0.00522  0.01792\n",
       "1997-03-31 -0.04860 -0.01961"
      ]
     },
     "execution_count": 80,
     "metadata": {},
     "output_type": "execute_result"
    }
   ],
   "source": [
    "ret = pd.read_excel('gmo_analysis_data.xlsx', sheet_name='returns (total)')\n",
    "ret.rename( columns={'Unnamed: 0':'Date'}, inplace=True )\n",
    "ret.set_index('Date',inplace=True, drop=True)\n",
    "returns = ret.dropna().subtract(riskfreerate['US3M'], axis=0).dropna()\n",
    "returns.head()"
   ]
  },
  {
   "cell_type": "markdown",
   "id": "ff8b159f",
   "metadata": {},
   "source": [
    "### Risk-free rate"
   ]
  },
  {
   "cell_type": "code",
   "execution_count": 61,
   "id": "98c1b3e7",
   "metadata": {},
   "outputs": [
    {
     "data": {
      "text/html": [
       "<div>\n",
       "<style scoped>\n",
       "    .dataframe tbody tr th:only-of-type {\n",
       "        vertical-align: middle;\n",
       "    }\n",
       "\n",
       "    .dataframe tbody tr th {\n",
       "        vertical-align: top;\n",
       "    }\n",
       "\n",
       "    .dataframe thead th {\n",
       "        text-align: right;\n",
       "    }\n",
       "</style>\n",
       "<table border=\"1\" class=\"dataframe\">\n",
       "  <thead>\n",
       "    <tr style=\"text-align: right;\">\n",
       "      <th></th>\n",
       "      <th>US3M</th>\n",
       "    </tr>\n",
       "    <tr>\n",
       "      <th>Date</th>\n",
       "      <th></th>\n",
       "    </tr>\n",
       "  </thead>\n",
       "  <tbody>\n",
       "    <tr>\n",
       "      <th>1993-02-28</th>\n",
       "      <td>0.00251</td>\n",
       "    </tr>\n",
       "    <tr>\n",
       "      <th>1993-03-31</th>\n",
       "      <td>0.00246</td>\n",
       "    </tr>\n",
       "    <tr>\n",
       "      <th>1993-04-30</th>\n",
       "      <td>0.00248</td>\n",
       "    </tr>\n",
       "    <tr>\n",
       "      <th>1993-05-31</th>\n",
       "      <td>0.00261</td>\n",
       "    </tr>\n",
       "    <tr>\n",
       "      <th>1993-06-30</th>\n",
       "      <td>0.00258</td>\n",
       "    </tr>\n",
       "  </tbody>\n",
       "</table>\n",
       "</div>"
      ],
      "text/plain": [
       "               US3M\n",
       "Date               \n",
       "1993-02-28  0.00251\n",
       "1993-03-31  0.00246\n",
       "1993-04-30  0.00248\n",
       "1993-05-31  0.00261\n",
       "1993-06-30  0.00258"
      ]
     },
     "execution_count": 61,
     "metadata": {},
     "output_type": "execute_result"
    }
   ],
   "source": [
    "riskfreerate = pd.read_excel('gmo_analysis_data.xlsx', sheet_name='risk-free rate').dropna()\n",
    "riskfreerate.rename( columns={'Unnamed: 0':'Date'}, inplace=True )\n",
    "riskfreerate.set_index('Date',inplace=True, drop=True)\n",
    "riskfreerate.head()"
   ]
  },
  {
   "cell_type": "markdown",
   "id": "3c7c9d56",
   "metadata": {},
   "source": [
    "# 2. Analyzing GMO"
   ]
  },
  {
   "cell_type": "markdown",
   "id": "b0ec173f",
   "metadata": {},
   "source": [
    "#### 2.1"
   ]
  },
  {
   "cell_type": "code",
   "execution_count": 62,
   "id": "831854fe",
   "metadata": {},
   "outputs": [],
   "source": [
    "def summary_stats(df, annual_fac = 12):\n",
    "    stats_df = pd.DataFrame(data = None)\n",
    "    stats_df['Mean'] = df.mean()*annual_fac\n",
    "    stats_df['Vol'] = df.std()*np.sqrt(annual_fac)\n",
    "    stats_df['Sharpe'] = df.mean()/df.std()*np.sqrt(annual_fac)\n",
    "    \n",
    "    return stats_df"
   ]
  },
  {
   "cell_type": "markdown",
   "id": "ff5c1fc0",
   "metadata": {},
   "source": [
    "#### From inception to 2011"
   ]
  },
  {
   "cell_type": "code",
   "execution_count": 63,
   "id": "74429feb",
   "metadata": {},
   "outputs": [
    {
     "data": {
      "text/html": [
       "<div>\n",
       "<style scoped>\n",
       "    .dataframe tbody tr th:only-of-type {\n",
       "        vertical-align: middle;\n",
       "    }\n",
       "\n",
       "    .dataframe tbody tr th {\n",
       "        vertical-align: top;\n",
       "    }\n",
       "\n",
       "    .dataframe thead th {\n",
       "        text-align: right;\n",
       "    }\n",
       "</style>\n",
       "<table border=\"1\" class=\"dataframe\">\n",
       "  <thead>\n",
       "    <tr style=\"text-align: right;\">\n",
       "      <th></th>\n",
       "      <th>Mean</th>\n",
       "      <th>Vol</th>\n",
       "      <th>Sharpe</th>\n",
       "    </tr>\n",
       "  </thead>\n",
       "  <tbody>\n",
       "    <tr>\n",
       "      <th>GMWAX</th>\n",
       "      <td>0.01583</td>\n",
       "      <td>0.12501</td>\n",
       "      <td>0.1266</td>\n",
       "    </tr>\n",
       "  </tbody>\n",
       "</table>\n",
       "</div>"
      ],
      "text/plain": [
       "          Mean      Vol  Sharpe\n",
       "GMWAX  0.01583  0.12501  0.1266"
      ]
     },
     "execution_count": 63,
     "metadata": {},
     "output_type": "execute_result"
    }
   ],
   "source": [
    "summary_stats(returns.loc[:'2011', ['GMWAX']])"
   ]
  },
  {
   "cell_type": "markdown",
   "id": "e69206a8",
   "metadata": {},
   "source": [
    "#### 2012 to present"
   ]
  },
  {
   "cell_type": "code",
   "execution_count": 64,
   "id": "066dfd4f",
   "metadata": {},
   "outputs": [
    {
     "data": {
      "text/html": [
       "<div>\n",
       "<style scoped>\n",
       "    .dataframe tbody tr th:only-of-type {\n",
       "        vertical-align: middle;\n",
       "    }\n",
       "\n",
       "    .dataframe tbody tr th {\n",
       "        vertical-align: top;\n",
       "    }\n",
       "\n",
       "    .dataframe thead th {\n",
       "        text-align: right;\n",
       "    }\n",
       "</style>\n",
       "<table border=\"1\" class=\"dataframe\">\n",
       "  <thead>\n",
       "    <tr style=\"text-align: right;\">\n",
       "      <th></th>\n",
       "      <th>Mean</th>\n",
       "      <th>Vol</th>\n",
       "      <th>Sharpe</th>\n",
       "    </tr>\n",
       "  </thead>\n",
       "  <tbody>\n",
       "    <tr>\n",
       "      <th>GMWAX</th>\n",
       "      <td>0.03664</td>\n",
       "      <td>0.092</td>\n",
       "      <td>0.39823</td>\n",
       "    </tr>\n",
       "  </tbody>\n",
       "</table>\n",
       "</div>"
      ],
      "text/plain": [
       "          Mean    Vol   Sharpe\n",
       "GMWAX  0.03664  0.092  0.39823"
      ]
     },
     "execution_count": 64,
     "metadata": {},
     "output_type": "execute_result"
    }
   ],
   "source": [
    "summary_stats(returns.loc['2012':, ['GMWAX']])"
   ]
  },
  {
   "cell_type": "markdown",
   "id": "ad012889",
   "metadata": {},
   "source": [
    "#### Inception to present"
   ]
  },
  {
   "cell_type": "code",
   "execution_count": 65,
   "id": "7acf4504",
   "metadata": {},
   "outputs": [
    {
     "data": {
      "text/html": [
       "<div>\n",
       "<style scoped>\n",
       "    .dataframe tbody tr th:only-of-type {\n",
       "        vertical-align: middle;\n",
       "    }\n",
       "\n",
       "    .dataframe tbody tr th {\n",
       "        vertical-align: top;\n",
       "    }\n",
       "\n",
       "    .dataframe thead th {\n",
       "        text-align: right;\n",
       "    }\n",
       "</style>\n",
       "<table border=\"1\" class=\"dataframe\">\n",
       "  <thead>\n",
       "    <tr style=\"text-align: right;\">\n",
       "      <th></th>\n",
       "      <th>Mean</th>\n",
       "      <th>Vol</th>\n",
       "      <th>Sharpe</th>\n",
       "    </tr>\n",
       "  </thead>\n",
       "  <tbody>\n",
       "    <tr>\n",
       "      <th>GMWAX</th>\n",
       "      <td>0.0245</td>\n",
       "      <td>0.11231</td>\n",
       "      <td>0.21811</td>\n",
       "    </tr>\n",
       "  </tbody>\n",
       "</table>\n",
       "</div>"
      ],
      "text/plain": [
       "         Mean      Vol   Sharpe\n",
       "GMWAX  0.0245  0.11231  0.21811"
      ]
     },
     "execution_count": 65,
     "metadata": {},
     "output_type": "execute_result"
    }
   ],
   "source": [
    "summary_stats(returns[['GMWAX']])"
   ]
  },
  {
   "cell_type": "markdown",
   "id": "ecb3001e",
   "metadata": {},
   "source": [
    "Even though the return has stayed fairly constant over time, the volatility was relatively higher until 2011. This is reflected in the lower sharpe ratio before 2012."
   ]
  },
  {
   "cell_type": "markdown",
   "id": "38785824",
   "metadata": {},
   "source": [
    "#### 2.2"
   ]
  },
  {
   "cell_type": "code",
   "execution_count": 66,
   "id": "c061ef70",
   "metadata": {},
   "outputs": [],
   "source": [
    "def tail_risk(df):\n",
    "    tr_df = pd.DataFrame(data = None)\n",
    "    tr_df['Min return'] = df.min()\n",
    "    tr_df['VaR-5th'] = df.quantile(.05)\n",
    "    cum_ret = (1 + df).cumprod()\n",
    "    rolling_max = cum_ret.cummax()\n",
    "    drawdown = (cum_ret - rolling_max) / rolling_max\n",
    "    tr_df['Max Drawdown'] = drawdown.min()\n",
    "    \n",
    "    return tr_df"
   ]
  },
  {
   "cell_type": "markdown",
   "id": "0dc51966",
   "metadata": {},
   "source": [
    "Minimum return, 5th percentile, maximum drawdown"
   ]
  },
  {
   "cell_type": "markdown",
   "id": "57084233",
   "metadata": {},
   "source": [
    "#### From inception to 2011"
   ]
  },
  {
   "cell_type": "code",
   "execution_count": 67,
   "id": "5ecda9fb",
   "metadata": {},
   "outputs": [
    {
     "data": {
      "text/html": [
       "<div>\n",
       "<style scoped>\n",
       "    .dataframe tbody tr th:only-of-type {\n",
       "        vertical-align: middle;\n",
       "    }\n",
       "\n",
       "    .dataframe tbody tr th {\n",
       "        vertical-align: top;\n",
       "    }\n",
       "\n",
       "    .dataframe thead th {\n",
       "        text-align: right;\n",
       "    }\n",
       "</style>\n",
       "<table border=\"1\" class=\"dataframe\">\n",
       "  <thead>\n",
       "    <tr style=\"text-align: right;\">\n",
       "      <th></th>\n",
       "      <th>Min return</th>\n",
       "      <th>VaR-5th</th>\n",
       "      <th>Max Drawdown</th>\n",
       "    </tr>\n",
       "  </thead>\n",
       "  <tbody>\n",
       "    <tr>\n",
       "      <th>GMWAX</th>\n",
       "      <td>-0.14918</td>\n",
       "      <td>-0.05981</td>\n",
       "      <td>-0.47295</td>\n",
       "    </tr>\n",
       "    <tr>\n",
       "      <th>SPY</th>\n",
       "      <td>-0.16557</td>\n",
       "      <td>-0.08022</td>\n",
       "      <td>-0.56001</td>\n",
       "    </tr>\n",
       "  </tbody>\n",
       "</table>\n",
       "</div>"
      ],
      "text/plain": [
       "       Min return  VaR-5th  Max Drawdown\n",
       "GMWAX    -0.14918 -0.05981      -0.47295\n",
       "SPY      -0.16557 -0.08022      -0.56001"
      ]
     },
     "execution_count": 67,
     "metadata": {},
     "output_type": "execute_result"
    }
   ],
   "source": [
    "tail_risk(returns.loc[:'2011', ['GMWAX','SPY']])"
   ]
  },
  {
   "cell_type": "markdown",
   "id": "e3f9a640",
   "metadata": {},
   "source": [
    "#### 2012 to present"
   ]
  },
  {
   "cell_type": "code",
   "execution_count": 68,
   "id": "de0ea832",
   "metadata": {},
   "outputs": [
    {
     "data": {
      "text/html": [
       "<div>\n",
       "<style scoped>\n",
       "    .dataframe tbody tr th:only-of-type {\n",
       "        vertical-align: middle;\n",
       "    }\n",
       "\n",
       "    .dataframe tbody tr th {\n",
       "        vertical-align: top;\n",
       "    }\n",
       "\n",
       "    .dataframe thead th {\n",
       "        text-align: right;\n",
       "    }\n",
       "</style>\n",
       "<table border=\"1\" class=\"dataframe\">\n",
       "  <thead>\n",
       "    <tr style=\"text-align: right;\">\n",
       "      <th></th>\n",
       "      <th>Min return</th>\n",
       "      <th>VaR-5th</th>\n",
       "      <th>Max Drawdown</th>\n",
       "    </tr>\n",
       "  </thead>\n",
       "  <tbody>\n",
       "    <tr>\n",
       "      <th>GMWAX</th>\n",
       "      <td>-0.11865</td>\n",
       "      <td>-0.03969</td>\n",
       "      <td>-0.22605</td>\n",
       "    </tr>\n",
       "    <tr>\n",
       "      <th>SPY</th>\n",
       "      <td>-0.12473</td>\n",
       "      <td>-0.06866</td>\n",
       "      <td>-0.24813</td>\n",
       "    </tr>\n",
       "  </tbody>\n",
       "</table>\n",
       "</div>"
      ],
      "text/plain": [
       "       Min return  VaR-5th  Max Drawdown\n",
       "GMWAX    -0.11865 -0.03969      -0.22605\n",
       "SPY      -0.12473 -0.06866      -0.24813"
      ]
     },
     "execution_count": 68,
     "metadata": {},
     "output_type": "execute_result"
    }
   ],
   "source": [
    "tail_risk(returns.loc['2012':, ['GMWAX','SPY']])"
   ]
  },
  {
   "cell_type": "code",
   "execution_count": 69,
   "id": "e56052cc",
   "metadata": {},
   "outputs": [
    {
     "data": {
      "text/html": [
       "<div>\n",
       "<style scoped>\n",
       "    .dataframe tbody tr th:only-of-type {\n",
       "        vertical-align: middle;\n",
       "    }\n",
       "\n",
       "    .dataframe tbody tr th {\n",
       "        vertical-align: top;\n",
       "    }\n",
       "\n",
       "    .dataframe thead th {\n",
       "        text-align: right;\n",
       "    }\n",
       "</style>\n",
       "<table border=\"1\" class=\"dataframe\">\n",
       "  <thead>\n",
       "    <tr style=\"text-align: right;\">\n",
       "      <th></th>\n",
       "      <th>Min return</th>\n",
       "      <th>VaR-5th</th>\n",
       "      <th>Max Drawdown</th>\n",
       "    </tr>\n",
       "  </thead>\n",
       "  <tbody>\n",
       "    <tr>\n",
       "      <th>GMWAX</th>\n",
       "      <td>-0.14918</td>\n",
       "      <td>-0.04829</td>\n",
       "      <td>-0.47295</td>\n",
       "    </tr>\n",
       "    <tr>\n",
       "      <th>SPY</th>\n",
       "      <td>-0.16557</td>\n",
       "      <td>-0.08001</td>\n",
       "      <td>-0.56001</td>\n",
       "    </tr>\n",
       "  </tbody>\n",
       "</table>\n",
       "</div>"
      ],
      "text/plain": [
       "       Min return  VaR-5th  Max Drawdown\n",
       "GMWAX    -0.14918 -0.04829      -0.47295\n",
       "SPY      -0.16557 -0.08001      -0.56001"
      ]
     },
     "execution_count": 69,
     "metadata": {},
     "output_type": "execute_result"
    }
   ],
   "source": [
    "tail_risk(returns[['GMWAX','SPY']])"
   ]
  },
  {
   "cell_type": "markdown",
   "id": "bd42bbb5",
   "metadata": {},
   "source": [
    "GMWAX shows higher tail risk from inception to 2011 than from 2012 till date. Same is the case with maximum drawdown as well. Minimum returns of GMWAX are lower pre-2011 than post-2012."
   ]
  },
  {
   "cell_type": "markdown",
   "id": "a3bda821",
   "metadata": {},
   "source": [
    "#### 2.3"
   ]
  },
  {
   "cell_type": "code",
   "execution_count": 70,
   "id": "18c185f2",
   "metadata": {},
   "outputs": [],
   "source": [
    "def reg_params(df, y_col, X_col, intercept = True, annual_fac=12):\n",
    "    y = df[y_col]\n",
    "    if intercept == True:\n",
    "        X = sm.add_constant(df[X_col])\n",
    "    else:\n",
    "        X = df[X_col]\n",
    "    \n",
    "    model = sm.OLS(y, X, missing = 'drop').fit()\n",
    "    reg_df = model.params.to_frame('Regression Parameters')\n",
    "    reg_df.loc[r'$R^{2}$'] = model.rsquared\n",
    "    \n",
    "    if intercept == True:\n",
    "        reg_df.loc['const'] *= annual_fac\n",
    "    \n",
    "    return reg_df"
   ]
  },
  {
   "cell_type": "markdown",
   "id": "86a260f7",
   "metadata": {},
   "source": [
    "a. alpha, beta, R squared"
   ]
  },
  {
   "cell_type": "code",
   "execution_count": 71,
   "id": "bc6bd514",
   "metadata": {},
   "outputs": [
    {
     "data": {
      "text/html": [
       "<div>\n",
       "<style scoped>\n",
       "    .dataframe tbody tr th:only-of-type {\n",
       "        vertical-align: middle;\n",
       "    }\n",
       "\n",
       "    .dataframe tbody tr th {\n",
       "        vertical-align: top;\n",
       "    }\n",
       "\n",
       "    .dataframe thead th {\n",
       "        text-align: right;\n",
       "    }\n",
       "</style>\n",
       "<table border=\"1\" class=\"dataframe\">\n",
       "  <thead>\n",
       "    <tr style=\"text-align: right;\">\n",
       "      <th></th>\n",
       "      <th>Regression Parameters</th>\n",
       "    </tr>\n",
       "  </thead>\n",
       "  <tbody>\n",
       "    <tr>\n",
       "      <th>const</th>\n",
       "      <td>-0.01699</td>\n",
       "    </tr>\n",
       "    <tr>\n",
       "      <th>SPY</th>\n",
       "      <td>0.54560</td>\n",
       "    </tr>\n",
       "    <tr>\n",
       "      <th>$R^{2}$</th>\n",
       "      <td>0.57774</td>\n",
       "    </tr>\n",
       "  </tbody>\n",
       "</table>\n",
       "</div>"
      ],
      "text/plain": [
       "         Regression Parameters\n",
       "const                 -0.01699\n",
       "SPY                    0.54560\n",
       "$R^{2}$                0.57774"
      ]
     },
     "execution_count": 71,
     "metadata": {},
     "output_type": "execute_result"
    }
   ],
   "source": [
    "reg_params(returns, 'GMWAX', 'SPY')"
   ]
  },
  {
   "cell_type": "markdown",
   "id": "8f7e1bce",
   "metadata": {},
   "source": [
    "b. While GMO has moderate exposure to the market and it's market beta is not very low, we can consider it a low-beta strategy. The beta is consistent across the subsamples so GMO's exposure to the market has not changed."
   ]
  },
  {
   "cell_type": "markdown",
   "id": "5cde9750",
   "metadata": {},
   "source": [
    "c. GMO does not provide alpha in either subsample as alpha is negative."
   ]
  },
  {
   "cell_type": "markdown",
   "id": "6776e2b9",
   "metadata": {},
   "source": [
    "# 3. Forecast regressions"
   ]
  },
  {
   "cell_type": "code",
   "execution_count": 92,
   "id": "5fbd4705",
   "metadata": {},
   "outputs": [
    {
     "data": {
      "text/html": [
       "<div>\n",
       "<style scoped>\n",
       "    .dataframe tbody tr th:only-of-type {\n",
       "        vertical-align: middle;\n",
       "    }\n",
       "\n",
       "    .dataframe tbody tr th {\n",
       "        vertical-align: top;\n",
       "    }\n",
       "\n",
       "    .dataframe thead th {\n",
       "        text-align: right;\n",
       "    }\n",
       "</style>\n",
       "<table border=\"1\" class=\"dataframe\">\n",
       "  <thead>\n",
       "    <tr style=\"text-align: right;\">\n",
       "      <th></th>\n",
       "      <th>DP</th>\n",
       "      <th>EP</th>\n",
       "      <th>US10Y</th>\n",
       "      <th>SPY</th>\n",
       "    </tr>\n",
       "    <tr>\n",
       "      <th>Date</th>\n",
       "      <th></th>\n",
       "      <th></th>\n",
       "      <th></th>\n",
       "      <th></th>\n",
       "    </tr>\n",
       "  </thead>\n",
       "  <tbody>\n",
       "    <tr>\n",
       "      <th>1993-02-28</th>\n",
       "      <td>NaN</td>\n",
       "      <td>NaN</td>\n",
       "      <td>NaN</td>\n",
       "      <td>0.01067</td>\n",
       "    </tr>\n",
       "    <tr>\n",
       "      <th>1993-03-31</th>\n",
       "      <td>2.82</td>\n",
       "      <td>4.44</td>\n",
       "      <td>6.03</td>\n",
       "      <td>0.02241</td>\n",
       "    </tr>\n",
       "    <tr>\n",
       "      <th>1993-04-30</th>\n",
       "      <td>2.77</td>\n",
       "      <td>4.41</td>\n",
       "      <td>6.03</td>\n",
       "      <td>-0.02559</td>\n",
       "    </tr>\n",
       "    <tr>\n",
       "      <th>1993-05-31</th>\n",
       "      <td>2.82</td>\n",
       "      <td>4.44</td>\n",
       "      <td>6.05</td>\n",
       "      <td>0.02697</td>\n",
       "    </tr>\n",
       "    <tr>\n",
       "      <th>1993-06-30</th>\n",
       "      <td>2.81</td>\n",
       "      <td>4.38</td>\n",
       "      <td>6.16</td>\n",
       "      <td>0.00367</td>\n",
       "    </tr>\n",
       "  </tbody>\n",
       "</table>\n",
       "</div>"
      ],
      "text/plain": [
       "              DP    EP  US10Y      SPY\n",
       "Date                                  \n",
       "1993-02-28   NaN   NaN    NaN  0.01067\n",
       "1993-03-31  2.82  4.44   6.03  0.02241\n",
       "1993-04-30  2.77  4.41   6.03 -0.02559\n",
       "1993-05-31  2.82  4.44   6.05  0.02697\n",
       "1993-06-30  2.81  4.38   6.16  0.00367"
      ]
     },
     "execution_count": 92,
     "metadata": {},
     "output_type": "execute_result"
    }
   ],
   "source": [
    "signals = signals.shift()\n",
    "signals['SPY'] = ret['SPY']\n",
    "signals.head()"
   ]
  },
  {
   "cell_type": "markdown",
   "id": "156674b2",
   "metadata": {},
   "source": [
    "Dividend-price ratio"
   ]
  },
  {
   "cell_type": "code",
   "execution_count": 94,
   "id": "8b9a76c1",
   "metadata": {},
   "outputs": [
    {
     "data": {
      "text/html": [
       "<div>\n",
       "<style scoped>\n",
       "    .dataframe tbody tr th:only-of-type {\n",
       "        vertical-align: middle;\n",
       "    }\n",
       "\n",
       "    .dataframe tbody tr th {\n",
       "        vertical-align: top;\n",
       "    }\n",
       "\n",
       "    .dataframe thead th {\n",
       "        text-align: right;\n",
       "    }\n",
       "</style>\n",
       "<table border=\"1\" class=\"dataframe\">\n",
       "  <thead>\n",
       "    <tr style=\"text-align: right;\">\n",
       "      <th></th>\n",
       "      <th>Regression Parameters</th>\n",
       "    </tr>\n",
       "  </thead>\n",
       "  <tbody>\n",
       "    <tr>\n",
       "      <th>const</th>\n",
       "      <td>-0.11286</td>\n",
       "    </tr>\n",
       "    <tr>\n",
       "      <th>DP</th>\n",
       "      <td>0.00943</td>\n",
       "    </tr>\n",
       "    <tr>\n",
       "      <th>$R^{2}$</th>\n",
       "      <td>0.00936</td>\n",
       "    </tr>\n",
       "  </tbody>\n",
       "</table>\n",
       "</div>"
      ],
      "text/plain": [
       "         Regression Parameters\n",
       "const                 -0.11286\n",
       "DP                     0.00943\n",
       "$R^{2}$                0.00936"
      ]
     },
     "execution_count": 94,
     "metadata": {},
     "output_type": "execute_result"
    }
   ],
   "source": [
    "DP = reg_params(signals, 'SPY', 'DP')\n",
    "DP"
   ]
  },
  {
   "cell_type": "markdown",
   "id": "ffdecd8c",
   "metadata": {},
   "source": [
    "Earning-price ratio"
   ]
  },
  {
   "cell_type": "code",
   "execution_count": 96,
   "id": "b8832313",
   "metadata": {},
   "outputs": [
    {
     "data": {
      "text/html": [
       "<div>\n",
       "<style scoped>\n",
       "    .dataframe tbody tr th:only-of-type {\n",
       "        vertical-align: middle;\n",
       "    }\n",
       "\n",
       "    .dataframe tbody tr th {\n",
       "        vertical-align: top;\n",
       "    }\n",
       "\n",
       "    .dataframe thead th {\n",
       "        text-align: right;\n",
       "    }\n",
       "</style>\n",
       "<table border=\"1\" class=\"dataframe\">\n",
       "  <thead>\n",
       "    <tr style=\"text-align: right;\">\n",
       "      <th></th>\n",
       "      <th>Regression Parameters</th>\n",
       "    </tr>\n",
       "  </thead>\n",
       "  <tbody>\n",
       "    <tr>\n",
       "      <th>const</th>\n",
       "      <td>-0.07121</td>\n",
       "    </tr>\n",
       "    <tr>\n",
       "      <th>EP</th>\n",
       "      <td>0.00320</td>\n",
       "    </tr>\n",
       "    <tr>\n",
       "      <th>$R^{2}$</th>\n",
       "      <td>0.00861</td>\n",
       "    </tr>\n",
       "  </tbody>\n",
       "</table>\n",
       "</div>"
      ],
      "text/plain": [
       "         Regression Parameters\n",
       "const                 -0.07121\n",
       "EP                     0.00320\n",
       "$R^{2}$                0.00861"
      ]
     },
     "execution_count": 96,
     "metadata": {},
     "output_type": "execute_result"
    }
   ],
   "source": [
    "EP = reg_params(signals, 'SPY', 'EP')\n",
    "EP"
   ]
  },
  {
   "cell_type": "markdown",
   "id": "d13905fb",
   "metadata": {},
   "source": [
    "Dividend-price ratio, earnings-price ratio, and 10Y yeild"
   ]
  },
  {
   "cell_type": "code",
   "execution_count": 97,
   "id": "aab73199",
   "metadata": {},
   "outputs": [
    {
     "data": {
      "text/html": [
       "<div>\n",
       "<style scoped>\n",
       "    .dataframe tbody tr th:only-of-type {\n",
       "        vertical-align: middle;\n",
       "    }\n",
       "\n",
       "    .dataframe tbody tr th {\n",
       "        vertical-align: top;\n",
       "    }\n",
       "\n",
       "    .dataframe thead th {\n",
       "        text-align: right;\n",
       "    }\n",
       "</style>\n",
       "<table border=\"1\" class=\"dataframe\">\n",
       "  <thead>\n",
       "    <tr style=\"text-align: right;\">\n",
       "      <th></th>\n",
       "      <th>Regression Parameters</th>\n",
       "    </tr>\n",
       "  </thead>\n",
       "  <tbody>\n",
       "    <tr>\n",
       "      <th>const</th>\n",
       "      <td>-0.17920</td>\n",
       "    </tr>\n",
       "    <tr>\n",
       "      <th>EP</th>\n",
       "      <td>0.00265</td>\n",
       "    </tr>\n",
       "    <tr>\n",
       "      <th>DP</th>\n",
       "      <td>0.00798</td>\n",
       "    </tr>\n",
       "    <tr>\n",
       "      <th>US10Y</th>\n",
       "      <td>-0.00097</td>\n",
       "    </tr>\n",
       "    <tr>\n",
       "      <th>$R^{2}$</th>\n",
       "      <td>0.01633</td>\n",
       "    </tr>\n",
       "  </tbody>\n",
       "</table>\n",
       "</div>"
      ],
      "text/plain": [
       "         Regression Parameters\n",
       "const                 -0.17920\n",
       "EP                     0.00265\n",
       "DP                     0.00798\n",
       "US10Y                 -0.00097\n",
       "$R^{2}$                0.01633"
      ]
     },
     "execution_count": 97,
     "metadata": {},
     "output_type": "execute_result"
    }
   ],
   "source": [
    "EP_DP_10Y = reg_params(signals, 'SPY', ['EP','DP','US10Y'])\n",
    "EP_DP_10Y"
   ]
  },
  {
   "cell_type": "markdown",
   "id": "5662c625",
   "metadata": {},
   "source": [
    "#### 3.2"
   ]
  },
  {
   "cell_type": "code",
   "execution_count": 101,
   "id": "3cb915c6",
   "metadata": {},
   "outputs": [],
   "source": [
    "w_DP = 100 * (DP.loc['const'][0]/12 + DP.loc['DP'][0] * signals['DP'])\n",
    "r_DP = (w_DP * signals['SPY']).dropna()\n",
    "w_EP = 100 * (EP.loc['const'][0]/12 + EP.loc['EP'][0] * signals['EP'])\n",
    "r_EP = (w_EP * signals['SPY']).dropna()\n",
    "w_3fac = 100 * (EP_DP_10Y.loc['const'][0]/12 + EP_DP_10Y.loc['EP'][0] * signals['EP']\\\n",
    "                                             + EP_DP_10Y.loc['DP'][0] * signals['DP']\\\n",
    "                                             + EP_DP_10Y.loc['US10Y'][0] * signals['US10Y'])\n",
    "r_3fac = (w_3fac * signals['SPY']).dropna()"
   ]
  },
  {
   "cell_type": "code",
   "execution_count": 121,
   "id": "beb10606",
   "metadata": {},
   "outputs": [],
   "source": [
    "def summary_stats_bm(series, bm, series_total,annual_fac=12):\n",
    "    ss_df = pd.DataFrame(data = None, index = ['Summary Stats'])\n",
    "    ss_df['Mean'] = series.mean() * annual_fac\n",
    "    ss_df['Vol'] = series.std() * np.sqrt(annual_fac)\n",
    "    ss_df['Sharpe (Mean/Vol)'] = ss_df['Mean'] / ss_df['Vol']\n",
    "    \n",
    "    y = series\n",
    "    X = sm.add_constant(bm.loc[series.index])\n",
    "    reg = sm.OLS(y,X).fit()\n",
    "    ss_df[r'$\\alpha$'] = reg.params[0] * annual_fac\n",
    "    ss_df[r'$\\beta^{SPY}$'] = reg.params[1]\n",
    "    \n",
    "    cum_ret = (1 + series_total).cumprod()\n",
    "    rolling_max = cum_ret.cummax()\n",
    "    drawdown = (cum_ret - rolling_max) / rolling_max\n",
    "    ss_df['Max Drawdown'] = drawdown.min()\n",
    "    \n",
    "    ss_df['Information ratio'] = (reg.params[0] / reg.resid.std()) * np.sqrt(annual_fac)\n",
    "    \n",
    "    return round(ss_df, 4)"
   ]
  },
  {
   "cell_type": "markdown",
   "id": "8dfcb2ec",
   "metadata": {},
   "source": [
    "Mean, vol, sharpe, max-drawdown, alpha, beta"
   ]
  },
  {
   "cell_type": "code",
   "execution_count": 122,
   "id": "a9dcae64",
   "metadata": {},
   "outputs": [
    {
     "data": {
      "text/html": [
       "<div>\n",
       "<style scoped>\n",
       "    .dataframe tbody tr th:only-of-type {\n",
       "        vertical-align: middle;\n",
       "    }\n",
       "\n",
       "    .dataframe tbody tr th {\n",
       "        vertical-align: top;\n",
       "    }\n",
       "\n",
       "    .dataframe thead th {\n",
       "        text-align: right;\n",
       "    }\n",
       "</style>\n",
       "<table border=\"1\" class=\"dataframe\">\n",
       "  <thead>\n",
       "    <tr style=\"text-align: right;\">\n",
       "      <th></th>\n",
       "      <th>Mean</th>\n",
       "      <th>Vol</th>\n",
       "      <th>Sharpe (Mean/Vol)</th>\n",
       "      <th>$\\alpha$</th>\n",
       "      <th>$\\beta^{SPY}$</th>\n",
       "      <th>Max Drawdown</th>\n",
       "      <th>Information ratio</th>\n",
       "    </tr>\n",
       "  </thead>\n",
       "  <tbody>\n",
       "    <tr>\n",
       "      <th>Summary Stats</th>\n",
       "      <td>0.1095</td>\n",
       "      <td>0.149</td>\n",
       "      <td>0.7348</td>\n",
       "      <td>0.0207</td>\n",
       "      <td>0.8611</td>\n",
       "      <td>-0.6463</td>\n",
       "      <td>0.2759</td>\n",
       "    </tr>\n",
       "  </tbody>\n",
       "</table>\n",
       "</div>"
      ],
      "text/plain": [
       "                 Mean    Vol  Sharpe (Mean/Vol)  $\\alpha$  $\\beta^{SPY}$  \\\n",
       "Summary Stats  0.1095  0.149             0.7348    0.0207         0.8611   \n",
       "\n",
       "               Max Drawdown  Information ratio  \n",
       "Summary Stats       -0.6463             0.2759  "
      ]
     },
     "execution_count": 122,
     "metadata": {},
     "output_type": "execute_result"
    }
   ],
   "source": [
    "r_DP_total = r_DP.add(riskfreerate['US3M'])\n",
    "r_DP_total.dropna()\n",
    "summary_stats_bm(r_DP, signals[['SPY']],r_DP_total )"
   ]
  },
  {
   "cell_type": "markdown",
   "id": "2544309a",
   "metadata": {},
   "source": [
    "#### 3.3"
   ]
  },
  {
   "cell_type": "markdown",
   "id": "a760b2ea",
   "metadata": {},
   "source": [
    "(a.)"
   ]
  },
  {
   "cell_type": "code",
   "execution_count": 124,
   "id": "cec33291",
   "metadata": {},
   "outputs": [
    {
     "data": {
      "text/html": [
       "<div>\n",
       "<style scoped>\n",
       "    .dataframe tbody tr th:only-of-type {\n",
       "        vertical-align: middle;\n",
       "    }\n",
       "\n",
       "    .dataframe tbody tr th {\n",
       "        vertical-align: top;\n",
       "    }\n",
       "\n",
       "    .dataframe thead th {\n",
       "        text-align: right;\n",
       "    }\n",
       "</style>\n",
       "<table border=\"1\" class=\"dataframe\">\n",
       "  <thead>\n",
       "    <tr style=\"text-align: right;\">\n",
       "      <th></th>\n",
       "      <th>5% VaR</th>\n",
       "    </tr>\n",
       "  </thead>\n",
       "  <tbody>\n",
       "    <tr>\n",
       "      <th>DP Strat</th>\n",
       "      <td>-0.05226</td>\n",
       "    </tr>\n",
       "    <tr>\n",
       "      <th>EP Strat</th>\n",
       "      <td>-0.05413</td>\n",
       "    </tr>\n",
       "    <tr>\n",
       "      <th>3-factor Strat</th>\n",
       "      <td>-0.06416</td>\n",
       "    </tr>\n",
       "    <tr>\n",
       "      <th>SPY</th>\n",
       "      <td>-0.07394</td>\n",
       "    </tr>\n",
       "    <tr>\n",
       "      <th>GMO</th>\n",
       "      <td>-0.04731</td>\n",
       "    </tr>\n",
       "  </tbody>\n",
       "</table>\n",
       "</div>"
      ],
      "text/plain": [
       "                 5% VaR\n",
       "DP Strat       -0.05226\n",
       "EP Strat       -0.05413\n",
       "3-factor Strat -0.06416\n",
       "SPY            -0.07394\n",
       "GMO            -0.04731"
      ]
     },
     "execution_count": 124,
     "metadata": {},
     "output_type": "execute_result"
    }
   ],
   "source": [
    "VaR = pd.DataFrame([r_DP.quantile(.05), r_EP.quantile(.05), r_3fac.quantile(.05), \n",
    "                    signals['SPY'].quantile(.05), \n",
    "                    ret['GMWAX'].quantile(.05)],\n",
    "                   index = ['DP Strat','EP Strat','3-factor Strat','SPY','GMO'], \n",
    "                   columns = ['5% VaR'])\n",
    "\n",
    "VaR"
   ]
  },
  {
   "cell_type": "markdown",
   "id": "c5621c53",
   "metadata": {},
   "source": [
    "(b.)"
   ]
  },
  {
   "cell_type": "code",
   "execution_count": 125,
   "id": "32c8adfd",
   "metadata": {},
   "outputs": [
    {
     "data": {
      "text/html": [
       "<div>\n",
       "<style scoped>\n",
       "    .dataframe tbody tr th:only-of-type {\n",
       "        vertical-align: middle;\n",
       "    }\n",
       "\n",
       "    .dataframe tbody tr th {\n",
       "        vertical-align: top;\n",
       "    }\n",
       "\n",
       "    .dataframe thead th {\n",
       "        text-align: right;\n",
       "    }\n",
       "</style>\n",
       "<table border=\"1\" class=\"dataframe\">\n",
       "  <thead>\n",
       "    <tr style=\"text-align: right;\">\n",
       "      <th></th>\n",
       "      <th>Mean</th>\n",
       "      <th>Vol</th>\n",
       "      <th>Sharpe</th>\n",
       "    </tr>\n",
       "  </thead>\n",
       "  <tbody>\n",
       "    <tr>\n",
       "      <th>DP Strat</th>\n",
       "      <td>0.03933</td>\n",
       "      <td>0.18421</td>\n",
       "      <td>0.21353</td>\n",
       "    </tr>\n",
       "  </tbody>\n",
       "</table>\n",
       "</div>"
      ],
      "text/plain": [
       "             Mean      Vol   Sharpe\n",
       "DP Strat  0.03933  0.18421  0.21353"
      ]
     },
     "execution_count": 125,
     "metadata": {},
     "output_type": "execute_result"
    }
   ],
   "source": [
    "summary_stats(r_DP.to_frame('DP Strat').loc['2000':'2011'])"
   ]
  },
  {
   "cell_type": "code",
   "execution_count": 126,
   "id": "604f477c",
   "metadata": {},
   "outputs": [
    {
     "data": {
      "text/html": [
       "<div>\n",
       "<style scoped>\n",
       "    .dataframe tbody tr th:only-of-type {\n",
       "        vertical-align: middle;\n",
       "    }\n",
       "\n",
       "    .dataframe tbody tr th {\n",
       "        vertical-align: top;\n",
       "    }\n",
       "\n",
       "    .dataframe thead th {\n",
       "        text-align: right;\n",
       "    }\n",
       "</style>\n",
       "<table border=\"1\" class=\"dataframe\">\n",
       "  <thead>\n",
       "    <tr style=\"text-align: right;\">\n",
       "      <th></th>\n",
       "      <th>Mean</th>\n",
       "      <th>Vol</th>\n",
       "      <th>Sharpe</th>\n",
       "    </tr>\n",
       "  </thead>\n",
       "  <tbody>\n",
       "    <tr>\n",
       "      <th>EP Strat</th>\n",
       "      <td>0.03727</td>\n",
       "      <td>0.1339</td>\n",
       "      <td>0.27835</td>\n",
       "    </tr>\n",
       "  </tbody>\n",
       "</table>\n",
       "</div>"
      ],
      "text/plain": [
       "             Mean     Vol   Sharpe\n",
       "EP Strat  0.03727  0.1339  0.27835"
      ]
     },
     "execution_count": 126,
     "metadata": {},
     "output_type": "execute_result"
    }
   ],
   "source": [
    "summary_stats(r_EP.to_frame('EP Strat').loc['2000':'2011'])"
   ]
  },
  {
   "cell_type": "code",
   "execution_count": 127,
   "id": "8a0d5d2c",
   "metadata": {},
   "outputs": [
    {
     "data": {
      "text/html": [
       "<div>\n",
       "<style scoped>\n",
       "    .dataframe tbody tr th:only-of-type {\n",
       "        vertical-align: middle;\n",
       "    }\n",
       "\n",
       "    .dataframe tbody tr th {\n",
       "        vertical-align: top;\n",
       "    }\n",
       "\n",
       "    .dataframe thead th {\n",
       "        text-align: right;\n",
       "    }\n",
       "</style>\n",
       "<table border=\"1\" class=\"dataframe\">\n",
       "  <thead>\n",
       "    <tr style=\"text-align: right;\">\n",
       "      <th></th>\n",
       "      <th>Mean</th>\n",
       "      <th>Vol</th>\n",
       "      <th>Sharpe</th>\n",
       "    </tr>\n",
       "  </thead>\n",
       "  <tbody>\n",
       "    <tr>\n",
       "      <th>3-factor Strat</th>\n",
       "      <td>0.0608</td>\n",
       "      <td>0.15739</td>\n",
       "      <td>0.3863</td>\n",
       "    </tr>\n",
       "  </tbody>\n",
       "</table>\n",
       "</div>"
      ],
      "text/plain": [
       "                  Mean      Vol  Sharpe\n",
       "3-factor Strat  0.0608  0.15739  0.3863"
      ]
     },
     "execution_count": 127,
     "metadata": {},
     "output_type": "execute_result"
    }
   ],
   "source": [
    "summary_stats(r_3fac.to_frame('3-factor Strat').loc['2000':'2011'])"
   ]
  },
  {
   "cell_type": "code",
   "execution_count": 129,
   "id": "c9c18e39",
   "metadata": {},
   "outputs": [
    {
     "data": {
      "text/html": [
       "<div>\n",
       "<style scoped>\n",
       "    .dataframe tbody tr th:only-of-type {\n",
       "        vertical-align: middle;\n",
       "    }\n",
       "\n",
       "    .dataframe tbody tr th {\n",
       "        vertical-align: top;\n",
       "    }\n",
       "\n",
       "    .dataframe thead th {\n",
       "        text-align: right;\n",
       "    }\n",
       "</style>\n",
       "<table border=\"1\" class=\"dataframe\">\n",
       "  <thead>\n",
       "    <tr style=\"text-align: right;\">\n",
       "      <th></th>\n",
       "      <th>Mean</th>\n",
       "      <th>Vol</th>\n",
       "      <th>Sharpe</th>\n",
       "    </tr>\n",
       "  </thead>\n",
       "  <tbody>\n",
       "    <tr>\n",
       "      <th>US3M</th>\n",
       "      <td>0.02306</td>\n",
       "      <td>0.00578</td>\n",
       "      <td>3.98663</td>\n",
       "    </tr>\n",
       "  </tbody>\n",
       "</table>\n",
       "</div>"
      ],
      "text/plain": [
       "         Mean      Vol   Sharpe\n",
       "US3M  0.02306  0.00578  3.98663"
      ]
     },
     "execution_count": 129,
     "metadata": {},
     "output_type": "execute_result"
    }
   ],
   "source": [
    "summary_stats(riskfreerate.loc['2000':'2011'])"
   ]
  },
  {
   "cell_type": "markdown",
   "id": "0cb5c6e2",
   "metadata": {},
   "source": [
    "All the dynamic strategies outperform the risk-free rate during 2000-2011."
   ]
  },
  {
   "cell_type": "markdown",
   "id": "ad47b709",
   "metadata": {},
   "source": [
    "(c.)"
   ]
  },
  {
   "cell_type": "code",
   "execution_count": 131,
   "id": "fd7dff95",
   "metadata": {},
   "outputs": [
    {
     "data": {
      "text/html": [
       "<div>\n",
       "<style scoped>\n",
       "    .dataframe tbody tr th:only-of-type {\n",
       "        vertical-align: middle;\n",
       "    }\n",
       "\n",
       "    .dataframe tbody tr th {\n",
       "        vertical-align: top;\n",
       "    }\n",
       "\n",
       "    .dataframe thead th {\n",
       "        text-align: right;\n",
       "    }\n",
       "</style>\n",
       "<table border=\"1\" class=\"dataframe\">\n",
       "  <thead>\n",
       "    <tr style=\"text-align: right;\">\n",
       "      <th></th>\n",
       "      <th>3-factor Strat</th>\n",
       "      <th>DP Strat</th>\n",
       "      <th>EP Strat</th>\n",
       "    </tr>\n",
       "  </thead>\n",
       "  <tbody>\n",
       "    <tr>\n",
       "      <th>% of periods underperforming $r^{f}$</th>\n",
       "      <td>37.07865</td>\n",
       "      <td>37.35955</td>\n",
       "      <td>37.35955</td>\n",
       "    </tr>\n",
       "  </tbody>\n",
       "</table>\n",
       "</div>"
      ],
      "text/plain": [
       "                                      3-factor Strat  DP Strat  EP Strat\n",
       "% of periods underperforming $r^{f}$        37.07865  37.35955  37.35955"
      ]
     },
     "execution_count": 131,
     "metadata": {},
     "output_type": "execute_result"
    }
   ],
   "source": [
    "r_df = r_3fac.to_frame('3-factor Strat')\n",
    "r_df['DP Strat'] = r_DP\n",
    "r_df['EP Strat'] = r_EP\n",
    "r_df['rf'] = riskfreerate['US3M']\n",
    "\n",
    "df_riskprem = pd.DataFrame(data=None, index=[r'% of periods underperforming $r^{f}$'])\n",
    "for col in r_df.columns[:3]:\n",
    "    df_riskprem[col] = len(r_df[r_df[col] < r_df['rf']])/len(r_df) * 100\n",
    "    \n",
    "df_riskprem"
   ]
  },
  {
   "cell_type": "markdown",
   "id": "e563b9da",
   "metadata": {},
   "source": [
    "(d.)"
   ]
  },
  {
   "cell_type": "markdown",
   "id": "dbc73162",
   "metadata": {},
   "source": [
    "As per the tail risk metrics and volatility of the dynamic strategies compared to SPY it **does not seem** like these strategies take on extra risk on the whole. But the strategies are dependent on running regressions with very little prediction power, so badly estimated parameters could lead to terrible performance. This is not evident in terms of very high volatility and tail risk in our backtesting period though."
   ]
  },
  {
   "cell_type": "markdown",
   "id": "08273c15",
   "metadata": {},
   "source": [
    "# 4. Out-of Sample Forecasting"
   ]
  },
  {
   "cell_type": "markdown",
   "id": "0fc1a679",
   "metadata": {},
   "source": [
    "#### 4.1"
   ]
  },
  {
   "cell_type": "code",
   "execution_count": 132,
   "id": "d238f345",
   "metadata": {},
   "outputs": [],
   "source": [
    "def OOS_r2(df, factors, start):\n",
    "    y = df['SPY']\n",
    "    X = sm.add_constant(df[factors])\n",
    "\n",
    "    forecast_err, null_err = [], []\n",
    "\n",
    "    for i,j in enumerate(df.index):\n",
    "        if i >= start:\n",
    "            currX = X.iloc[:i]\n",
    "            currY = y.iloc[:i]\n",
    "            reg = sm.OLS(currY, currX, missing = 'drop').fit()\n",
    "            null_forecast = currY.mean()\n",
    "            reg_predict = reg.predict(X.iloc[[i]])\n",
    "            actual = y.iloc[[i]]\n",
    "            forecast_err.append(reg_predict - actual)\n",
    "            null_err.append(null_forecast - actual)\n",
    "            \n",
    "    RSS = (np.array(forecast_err)**2).sum()\n",
    "    TSS = (np.array(null_err)**2).sum()\n",
    "    \n",
    "    return 1 - RSS/TSS"
   ]
  },
  {
   "cell_type": "code",
   "execution_count": 133,
   "id": "6a0d3776",
   "metadata": {},
   "outputs": [
    {
     "name": "stdout",
     "output_type": "stream",
     "text": [
      "EP OOS R-squared: -0.007\n"
     ]
    }
   ],
   "source": [
    "EP_OOS_r2 = OOS_r2(signals, ['EP'], 60)\n",
    "\n",
    "print('EP OOS R-squared: ' + str(round(EP_OOS_r2, 4)))"
   ]
  },
  {
   "cell_type": "code",
   "execution_count": 134,
   "id": "ec44404e",
   "metadata": {},
   "outputs": [
    {
     "name": "stdout",
     "output_type": "stream",
     "text": [
      "DP OOS R-squared: -0.0024\n"
     ]
    }
   ],
   "source": [
    "DP_OOS_r2 = OOS_r2(signals, ['DP'], 60)\n",
    "\n",
    "print('DP OOS R-squared: ' + str(round(DP_OOS_r2, 4)))"
   ]
  },
  {
   "cell_type": "markdown",
   "id": "e4c4cd99",
   "metadata": {},
   "source": [
    "No, this forecasting strategy produced a negative OOS R-squared."
   ]
  },
  {
   "cell_type": "markdown",
   "id": "c5bbbeea",
   "metadata": {},
   "source": [
    "#### 4.2"
   ]
  },
  {
   "cell_type": "code",
   "execution_count": 135,
   "id": "074d7869",
   "metadata": {},
   "outputs": [],
   "source": [
    "def OOS_strat(df, factors, start, weight):\n",
    "    returns = []\n",
    "    y = df['SPY']\n",
    "    X = sm.add_constant(df[factors])\n",
    "\n",
    "    for i,j in enumerate(df.index):\n",
    "        if i >= start:\n",
    "            currX = X.iloc[:i]\n",
    "            currY = y.iloc[:i]\n",
    "            reg = sm.OLS(currY, currX, missing = 'drop').fit()\n",
    "            pred = reg.predict(X.iloc[[i]])\n",
    "            w = pred * weight\n",
    "            returns.append((df.iloc[i]['SPY'] * w)[0])\n",
    "\n",
    "    df_strat = pd.DataFrame(data = returns, index = df.iloc[-(len(returns)):].index, columns = ['Strat Returns'])\n",
    "    return df_strat"
   ]
  },
  {
   "cell_type": "code",
   "execution_count": 140,
   "id": "7927e437",
   "metadata": {},
   "outputs": [
    {
     "data": {
      "text/html": [
       "<div>\n",
       "<style scoped>\n",
       "    .dataframe tbody tr th:only-of-type {\n",
       "        vertical-align: middle;\n",
       "    }\n",
       "\n",
       "    .dataframe tbody tr th {\n",
       "        vertical-align: top;\n",
       "    }\n",
       "\n",
       "    .dataframe thead th {\n",
       "        text-align: right;\n",
       "    }\n",
       "</style>\n",
       "<table border=\"1\" class=\"dataframe\">\n",
       "  <thead>\n",
       "    <tr style=\"text-align: right;\">\n",
       "      <th></th>\n",
       "      <th>Mean</th>\n",
       "      <th>Vol</th>\n",
       "      <th>Sharpe (Mean/Vol)</th>\n",
       "      <th>$\\alpha$</th>\n",
       "      <th>$\\beta^{SPY}$</th>\n",
       "      <th>Max Drawdown</th>\n",
       "      <th>Information ratio</th>\n",
       "    </tr>\n",
       "  </thead>\n",
       "  <tbody>\n",
       "    <tr>\n",
       "      <th>Summary Stats</th>\n",
       "      <td>0.0819</td>\n",
       "      <td>0.1654</td>\n",
       "      <td>0.4953</td>\n",
       "      <td>0.0353</td>\n",
       "      <td>0.5435</td>\n",
       "      <td>NaN</td>\n",
       "      <td>0.249</td>\n",
       "    </tr>\n",
       "  </tbody>\n",
       "</table>\n",
       "</div>"
      ],
      "text/plain": [
       "                 Mean     Vol  Sharpe (Mean/Vol)  $\\alpha$  $\\beta^{SPY}$  \\\n",
       "Summary Stats  0.0819  0.1654             0.4953    0.0353         0.5435   \n",
       "\n",
       "               Max Drawdown  Information ratio  \n",
       "Summary Stats           NaN              0.249  "
      ]
     },
     "execution_count": 140,
     "metadata": {},
     "output_type": "execute_result"
    }
   ],
   "source": [
    "OOS_EP = OOS_strat(signals, ['EP'], 60, 100)\n",
    "\n",
    "OOS_EP_total = OOS_EP.add(riskfreerate['US3M'])\n",
    "summary_stats_bm(OOS_EP['Strat Returns'], signals['SPY'],OOS_EP_total)"
   ]
  },
  {
   "cell_type": "code",
   "execution_count": 141,
   "id": "6b1f367f",
   "metadata": {},
   "outputs": [
    {
     "data": {
      "text/html": [
       "<div>\n",
       "<style scoped>\n",
       "    .dataframe tbody tr th:only-of-type {\n",
       "        vertical-align: middle;\n",
       "    }\n",
       "\n",
       "    .dataframe tbody tr th {\n",
       "        vertical-align: top;\n",
       "    }\n",
       "\n",
       "    .dataframe thead th {\n",
       "        text-align: right;\n",
       "    }\n",
       "</style>\n",
       "<table border=\"1\" class=\"dataframe\">\n",
       "  <thead>\n",
       "    <tr style=\"text-align: right;\">\n",
       "      <th></th>\n",
       "      <th>Mean</th>\n",
       "      <th>Vol</th>\n",
       "      <th>Sharpe (Mean/Vol)</th>\n",
       "      <th>$\\alpha$</th>\n",
       "      <th>$\\beta^{SPY}$</th>\n",
       "      <th>Max Drawdown</th>\n",
       "      <th>Information ratio</th>\n",
       "    </tr>\n",
       "  </thead>\n",
       "  <tbody>\n",
       "    <tr>\n",
       "      <th>Summary Stats</th>\n",
       "      <td>0.0798</td>\n",
       "      <td>0.1763</td>\n",
       "      <td>0.4525</td>\n",
       "      <td>-0.0069</td>\n",
       "      <td>1.0109</td>\n",
       "      <td>NaN</td>\n",
       "      <td>-0.088</td>\n",
       "    </tr>\n",
       "  </tbody>\n",
       "</table>\n",
       "</div>"
      ],
      "text/plain": [
       "                 Mean     Vol  Sharpe (Mean/Vol)  $\\alpha$  $\\beta^{SPY}$  \\\n",
       "Summary Stats  0.0798  0.1763             0.4525   -0.0069         1.0109   \n",
       "\n",
       "               Max Drawdown  Information ratio  \n",
       "Summary Stats           NaN             -0.088  "
      ]
     },
     "execution_count": 141,
     "metadata": {},
     "output_type": "execute_result"
    }
   ],
   "source": [
    "OOS_DP = OOS_strat(signals, ['DP'], 60, 100)\n",
    "\n",
    "OOS_DP_total = OOS_DP.add(riskfreerate['US3M'], axis=0).dropna()\n",
    "summary_stats_bm(OOS_DP['Strat Returns'], signals['SPY'],OOS_DP_total)"
   ]
  },
  {
   "cell_type": "markdown",
   "id": "9b4bac74",
   "metadata": {},
   "source": [
    "Based on the summary stats, the strategy in 3.2 seems better."
   ]
  },
  {
   "cell_type": "markdown",
   "id": "7f48a93f",
   "metadata": {},
   "source": [
    "#### 4.3"
   ]
  },
  {
   "cell_type": "markdown",
   "id": "b504e684",
   "metadata": {},
   "source": [
    "(a.)"
   ]
  },
  {
   "cell_type": "code",
   "execution_count": 142,
   "id": "2828ca6a",
   "metadata": {},
   "outputs": [
    {
     "data": {
      "text/html": [
       "<div>\n",
       "<style scoped>\n",
       "    .dataframe tbody tr th:only-of-type {\n",
       "        vertical-align: middle;\n",
       "    }\n",
       "\n",
       "    .dataframe tbody tr th {\n",
       "        vertical-align: top;\n",
       "    }\n",
       "\n",
       "    .dataframe thead th {\n",
       "        text-align: right;\n",
       "    }\n",
       "</style>\n",
       "<table border=\"1\" class=\"dataframe\">\n",
       "  <thead>\n",
       "    <tr style=\"text-align: right;\">\n",
       "      <th></th>\n",
       "      <th>5% VaR</th>\n",
       "    </tr>\n",
       "  </thead>\n",
       "  <tbody>\n",
       "    <tr>\n",
       "      <th>EP Strat</th>\n",
       "      <td>-0.07097</td>\n",
       "    </tr>\n",
       "    <tr>\n",
       "      <th>DP Strat</th>\n",
       "      <td>-0.07256</td>\n",
       "    </tr>\n",
       "    <tr>\n",
       "      <th>SPY</th>\n",
       "      <td>-0.07394</td>\n",
       "    </tr>\n",
       "    <tr>\n",
       "      <th>GMO</th>\n",
       "      <td>-0.04731</td>\n",
       "    </tr>\n",
       "  </tbody>\n",
       "</table>\n",
       "</div>"
      ],
      "text/plain": [
       "           5% VaR\n",
       "EP Strat -0.07097\n",
       "DP Strat -0.07256\n",
       "SPY      -0.07394\n",
       "GMO      -0.04731"
      ]
     },
     "execution_count": 142,
     "metadata": {},
     "output_type": "execute_result"
    }
   ],
   "source": [
    "VaR_OOS = pd.DataFrame([OOS_EP['Strat Returns'].quantile(.05),OOS_DP['Strat Returns'].quantile(.05),\n",
    "                    signals['SPY'].quantile(.05), \n",
    "                    ret['GMWAX'].quantile(.05)],\n",
    "                   index = ['EP Strat','DP Strat','SPY','GMO'], \n",
    "                   columns = ['5% VaR'])\n",
    "\n",
    "VaR_OOS"
   ]
  },
  {
   "cell_type": "markdown",
   "id": "d490fd91",
   "metadata": {},
   "source": [
    "(b.)"
   ]
  },
  {
   "cell_type": "code",
   "execution_count": 143,
   "id": "ebe54af7",
   "metadata": {},
   "outputs": [
    {
     "data": {
      "text/html": [
       "<div>\n",
       "<style scoped>\n",
       "    .dataframe tbody tr th:only-of-type {\n",
       "        vertical-align: middle;\n",
       "    }\n",
       "\n",
       "    .dataframe tbody tr th {\n",
       "        vertical-align: top;\n",
       "    }\n",
       "\n",
       "    .dataframe thead th {\n",
       "        text-align: right;\n",
       "    }\n",
       "</style>\n",
       "<table border=\"1\" class=\"dataframe\">\n",
       "  <thead>\n",
       "    <tr style=\"text-align: right;\">\n",
       "      <th></th>\n",
       "      <th>Mean</th>\n",
       "      <th>Vol</th>\n",
       "      <th>Sharpe (Mean/Vol)</th>\n",
       "      <th>$\\alpha$</th>\n",
       "      <th>$\\beta^{SPY}$</th>\n",
       "      <th>Max Drawdown</th>\n",
       "      <th>Information ratio</th>\n",
       "    </tr>\n",
       "  </thead>\n",
       "  <tbody>\n",
       "    <tr>\n",
       "      <th>Summary Stats</th>\n",
       "      <td>0.0388</td>\n",
       "      <td>0.1959</td>\n",
       "      <td>0.1979</td>\n",
       "      <td>0.0333</td>\n",
       "      <td>0.2994</td>\n",
       "      <td>NaN</td>\n",
       "      <td>0.1757</td>\n",
       "    </tr>\n",
       "  </tbody>\n",
       "</table>\n",
       "</div>"
      ],
      "text/plain": [
       "                 Mean     Vol  Sharpe (Mean/Vol)  $\\alpha$  $\\beta^{SPY}$  \\\n",
       "Summary Stats  0.0388  0.1959             0.1979    0.0333         0.2994   \n",
       "\n",
       "               Max Drawdown  Information ratio  \n",
       "Summary Stats           NaN             0.1757  "
      ]
     },
     "execution_count": 143,
     "metadata": {},
     "output_type": "execute_result"
    }
   ],
   "source": [
    "summary_stats_bm(OOS_EP.loc['2000':'2011']['Strat Returns'], ret[['SPY']],OOS_EP_total)"
   ]
  },
  {
   "cell_type": "markdown",
   "id": "de8f7306",
   "metadata": {},
   "source": [
    "(c.)"
   ]
  },
  {
   "cell_type": "code",
   "execution_count": 146,
   "id": "e82516fe",
   "metadata": {},
   "outputs": [
    {
     "data": {
      "text/html": [
       "<div>\n",
       "<style scoped>\n",
       "    .dataframe tbody tr th:only-of-type {\n",
       "        vertical-align: middle;\n",
       "    }\n",
       "\n",
       "    .dataframe tbody tr th {\n",
       "        vertical-align: top;\n",
       "    }\n",
       "\n",
       "    .dataframe thead th {\n",
       "        text-align: right;\n",
       "    }\n",
       "</style>\n",
       "<table border=\"1\" class=\"dataframe\">\n",
       "  <thead>\n",
       "    <tr style=\"text-align: right;\">\n",
       "      <th></th>\n",
       "      <th>EP Strat</th>\n",
       "      <th>rf</th>\n",
       "    </tr>\n",
       "  </thead>\n",
       "  <tbody>\n",
       "    <tr>\n",
       "      <th>% of periods underperforming $r^{f}$</th>\n",
       "      <td>38.38384</td>\n",
       "      <td>0.0</td>\n",
       "    </tr>\n",
       "  </tbody>\n",
       "</table>\n",
       "</div>"
      ],
      "text/plain": [
       "                                      EP Strat   rf\n",
       "% of periods underperforming $r^{f}$  38.38384  0.0"
      ]
     },
     "execution_count": 146,
     "metadata": {},
     "output_type": "execute_result"
    }
   ],
   "source": [
    "r_df_OOS = OOS_EP.rename(columns={\"Strat Returns\": \"EP Strat\"})\n",
    "r_df_OOS['rf'] = riskfreerate['US3M']\n",
    "\n",
    "df_riskprem2 = pd.DataFrame(data=None, index=[r'% of periods underperforming $r^{f}$'])\n",
    "for col in r_df_OOS.columns[:3]:\n",
    "    df_riskprem2[col] = len(r_df_OOS[r_df_OOS[col] < r_df_OOS['rf']])/len(r_df_OOS) * 100\n",
    "    \n",
    "df_riskprem2"
   ]
  },
  {
   "cell_type": "markdown",
   "id": "296c498d",
   "metadata": {},
   "source": [
    "(d.)"
   ]
  },
  {
   "cell_type": "code",
   "execution_count": 147,
   "id": "92c4a29a",
   "metadata": {},
   "outputs": [
    {
     "data": {
      "text/html": [
       "<div>\n",
       "<style scoped>\n",
       "    .dataframe tbody tr th:only-of-type {\n",
       "        vertical-align: middle;\n",
       "    }\n",
       "\n",
       "    .dataframe tbody tr th {\n",
       "        vertical-align: top;\n",
       "    }\n",
       "\n",
       "    .dataframe thead th {\n",
       "        text-align: right;\n",
       "    }\n",
       "</style>\n",
       "<table border=\"1\" class=\"dataframe\">\n",
       "  <thead>\n",
       "    <tr style=\"text-align: right;\">\n",
       "      <th></th>\n",
       "      <th>DP Strat</th>\n",
       "      <th>rf</th>\n",
       "    </tr>\n",
       "  </thead>\n",
       "  <tbody>\n",
       "    <tr>\n",
       "      <th>% of periods underperforming $r^{f}$</th>\n",
       "      <td>39.05724</td>\n",
       "      <td>0.0</td>\n",
       "    </tr>\n",
       "  </tbody>\n",
       "</table>\n",
       "</div>"
      ],
      "text/plain": [
       "                                      DP Strat   rf\n",
       "% of periods underperforming $r^{f}$  39.05724  0.0"
      ]
     },
     "execution_count": 147,
     "metadata": {},
     "output_type": "execute_result"
    }
   ],
   "source": [
    "r_df_OOS_DP = OOS_DP.rename(columns={\"Strat Returns\": \"DP Strat\"})\n",
    "r_df_OOS_DP['rf'] = riskfreerate['US3M']\n",
    "\n",
    "riskprem2_DP = pd.DataFrame(data=None, index=[r'% of periods underperforming $r^{f}$'])\n",
    "for col in r_df_OOS_DP.columns[:3]:\n",
    "    riskprem2_DP[col] = len(r_df_OOS_DP[r_df_OOS_DP[col] < r_df_OOS_DP['rf']])/len(r_df_OOS_DP) * 100\n",
    "    \n",
    "riskprem2_DP"
   ]
  },
  {
   "cell_type": "markdown",
   "id": "a18c120a",
   "metadata": {},
   "source": [
    "Based on the results in 4.3, we can see that these two strategies don't significantly outperform the risk-free rate in terms of premium. Also, it is riskier than SPY."
   ]
  },
  {
   "cell_type": "code",
   "execution_count": null,
   "id": "27024e94",
   "metadata": {},
   "outputs": [],
   "source": []
  }
 ],
 "metadata": {
  "kernelspec": {
   "display_name": "Python 3 (ipykernel)",
   "language": "python",
   "name": "python3"
  },
  "language_info": {
   "codemirror_mode": {
    "name": "ipython",
    "version": 3
   },
   "file_extension": ".py",
   "mimetype": "text/x-python",
   "name": "python",
   "nbconvert_exporter": "python",
   "pygments_lexer": "ipython3",
   "version": "3.9.7"
  }
 },
 "nbformat": 4,
 "nbformat_minor": 5
}
