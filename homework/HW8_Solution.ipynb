{
 "cells": [
  {
   "cell_type": "markdown",
   "id": "fccb39af",
   "metadata": {},
   "source": [
    "## Homework 8"
   ]
  },
  {
   "cell_type": "markdown",
   "id": "44138e28",
   "metadata": {},
   "source": [
    "Part 1 is for discussions only."
   ]
  },
  {
   "cell_type": "markdown",
   "id": "3545faee",
   "metadata": {},
   "source": [
    "Part 2"
   ]
  },
  {
   "cell_type": "code",
   "execution_count": 1,
   "id": "4cc21429",
   "metadata": {},
   "outputs": [],
   "source": [
    "import pandas as pd\n",
    "import numpy as np\n",
    "import matplotlib.pyplot as plt\n",
    "import statsmodels.api as sm\n",
    "from arch import arch_model\n",
    "from arch.univariate import GARCH, EWMAVariance \n",
    "from sklearn import linear_model\n",
    "import scipy.stats as stats\n",
    "from statsmodels.regression.rolling import RollingOLS\n",
    "import seaborn as sns\n",
    "import warnings\n",
    "warnings.filterwarnings(\"ignore\")\n",
    "pd.set_option(\"display.precision\", 4)\n",
    "sns.set(rc={'figure.figsize':(15, 10)})"
   ]
  },
  {
   "cell_type": "code",
   "execution_count": 4,
   "id": "6e51fb89",
   "metadata": {},
   "outputs": [
    {
     "data": {
      "text/html": [
       "<div>\n",
       "<style scoped>\n",
       "    .dataframe tbody tr th:only-of-type {\n",
       "        vertical-align: middle;\n",
       "    }\n",
       "\n",
       "    .dataframe tbody tr th {\n",
       "        vertical-align: top;\n",
       "    }\n",
       "\n",
       "    .dataframe thead th {\n",
       "        text-align: right;\n",
       "    }\n",
       "</style>\n",
       "<table border=\"1\" class=\"dataframe\">\n",
       "  <thead>\n",
       "    <tr style=\"text-align: right;\">\n",
       "      <th></th>\n",
       "      <th>Fund Capital ($billions)</th>\n",
       "      <th>Gross Monthly Performancea</th>\n",
       "      <th>Net Monthly Performanceb</th>\n",
       "      <th>Index of Net Performance</th>\n",
       "    </tr>\n",
       "    <tr>\n",
       "      <th>Date</th>\n",
       "      <th></th>\n",
       "      <th></th>\n",
       "      <th></th>\n",
       "      <th></th>\n",
       "    </tr>\n",
       "  </thead>\n",
       "  <tbody>\n",
       "    <tr>\n",
       "      <th>1994-03-01 00:00:00</th>\n",
       "      <td>1.1</td>\n",
       "      <td>-0.011</td>\n",
       "      <td>-0.013</td>\n",
       "      <td>0.99</td>\n",
       "    </tr>\n",
       "    <tr>\n",
       "      <th>1994-04-01 00:00:00</th>\n",
       "      <td>1.1</td>\n",
       "      <td>0.014</td>\n",
       "      <td>0.008</td>\n",
       "      <td>1.00</td>\n",
       "    </tr>\n",
       "    <tr>\n",
       "      <th>1994-05-01 00:00:00</th>\n",
       "      <td>1.2</td>\n",
       "      <td>0.068</td>\n",
       "      <td>0.053</td>\n",
       "      <td>1.05</td>\n",
       "    </tr>\n",
       "    <tr>\n",
       "      <th>1994-06-01 00:00:00</th>\n",
       "      <td>1.2</td>\n",
       "      <td>-0.039</td>\n",
       "      <td>-0.029</td>\n",
       "      <td>1.02</td>\n",
       "    </tr>\n",
       "    <tr>\n",
       "      <th>1994-07-01 00:00:00</th>\n",
       "      <td>1.4</td>\n",
       "      <td>0.116</td>\n",
       "      <td>0.084</td>\n",
       "      <td>1.10</td>\n",
       "    </tr>\n",
       "  </tbody>\n",
       "</table>\n",
       "</div>"
      ],
      "text/plain": [
       "                     Fund Capital ($billions)  Gross Monthly Performancea  \\\n",
       "Date                                                                        \n",
       "1994-03-01 00:00:00                       1.1                      -0.011   \n",
       "1994-04-01 00:00:00                       1.1                       0.014   \n",
       "1994-05-01 00:00:00                       1.2                       0.068   \n",
       "1994-06-01 00:00:00                       1.2                      -0.039   \n",
       "1994-07-01 00:00:00                       1.4                       0.116   \n",
       "\n",
       "                     Net Monthly Performanceb  Index of Net Performance  \n",
       "Date                                                                     \n",
       "1994-03-01 00:00:00                    -0.013                      0.99  \n",
       "1994-04-01 00:00:00                     0.008                      1.00  \n",
       "1994-05-01 00:00:00                     0.053                      1.05  \n",
       "1994-06-01 00:00:00                    -0.029                      1.02  \n",
       "1994-07-01 00:00:00                     0.084                      1.10  "
      ]
     },
     "execution_count": 4,
     "metadata": {},
     "output_type": "execute_result"
    }
   ],
   "source": [
    "ltcm = pd.read_excel('ltcm_exhibits_data.xlsx', sheet_name=1,skiprows=2).rename(columns={\"Unnamed: 0\": \"Date\"})\\\n",
    "                                                                             .set_index('Date').dropna()\n",
    "ltcm.head()"
   ]
  },
  {
   "cell_type": "code",
   "execution_count": 9,
   "id": "226e6d2f",
   "metadata": {},
   "outputs": [
    {
     "data": {
      "text/html": [
       "<div>\n",
       "<style scoped>\n",
       "    .dataframe tbody tr th:only-of-type {\n",
       "        vertical-align: middle;\n",
       "    }\n",
       "\n",
       "    .dataframe tbody tr th {\n",
       "        vertical-align: top;\n",
       "    }\n",
       "\n",
       "    .dataframe thead th {\n",
       "        text-align: right;\n",
       "    }\n",
       "</style>\n",
       "<table border=\"1\" class=\"dataframe\">\n",
       "  <thead>\n",
       "    <tr style=\"text-align: right;\">\n",
       "      <th></th>\n",
       "      <th>SPY ex</th>\n",
       "    </tr>\n",
       "    <tr>\n",
       "      <th>Date</th>\n",
       "      <th></th>\n",
       "    </tr>\n",
       "  </thead>\n",
       "  <tbody>\n",
       "    <tr>\n",
       "      <th>1993-02-28</th>\n",
       "      <td>0.0082</td>\n",
       "    </tr>\n",
       "    <tr>\n",
       "      <th>1993-03-31</th>\n",
       "      <td>0.0199</td>\n",
       "    </tr>\n",
       "    <tr>\n",
       "      <th>1993-04-30</th>\n",
       "      <td>-0.0281</td>\n",
       "    </tr>\n",
       "    <tr>\n",
       "      <th>1993-05-31</th>\n",
       "      <td>0.0244</td>\n",
       "    </tr>\n",
       "    <tr>\n",
       "      <th>1993-06-30</th>\n",
       "      <td>0.0011</td>\n",
       "    </tr>\n",
       "  </tbody>\n",
       "</table>\n",
       "</div>"
      ],
      "text/plain": [
       "            SPY ex\n",
       "Date              \n",
       "1993-02-28  0.0082\n",
       "1993-03-31  0.0199\n",
       "1993-04-30 -0.0281\n",
       "1993-05-31  0.0244\n",
       "1993-06-30  0.0011"
      ]
     },
     "execution_count": 9,
     "metadata": {},
     "output_type": "execute_result"
    }
   ],
   "source": [
    "SPY = pd.read_excel('gmo_analysis_data.xlsx', sheet_name='returns (total)').set_index('Date')\n",
    "rf = pd.read_excel('gmo_analysis_data.xlsx', sheet_name='risk-free rate').set_index('Date')\n",
    "\n",
    "SPY['rf'] = rf['US3M']\n",
    "SPY_ex = SPY.subtract(SPY['rf'], axis=0)['SPY'].to_frame('SPY ex')\n",
    "\n",
    "SPY_ex.head()"
   ]
  },
  {
   "cell_type": "code",
   "execution_count": 18,
   "id": "59c64b90",
   "metadata": {},
   "outputs": [
    {
     "data": {
      "text/html": [
       "<div>\n",
       "<style scoped>\n",
       "    .dataframe tbody tr th:only-of-type {\n",
       "        vertical-align: middle;\n",
       "    }\n",
       "\n",
       "    .dataframe tbody tr th {\n",
       "        vertical-align: top;\n",
       "    }\n",
       "\n",
       "    .dataframe thead th {\n",
       "        text-align: right;\n",
       "    }\n",
       "</style>\n",
       "<table border=\"1\" class=\"dataframe\">\n",
       "  <thead>\n",
       "    <tr style=\"text-align: right;\">\n",
       "      <th></th>\n",
       "      <th>Fund Capital ($billions)</th>\n",
       "      <th>Gross Monthly Performancea</th>\n",
       "      <th>Net Monthly Performanceb</th>\n",
       "      <th>Index of Net Performance</th>\n",
       "      <th>rf</th>\n",
       "    </tr>\n",
       "    <tr>\n",
       "      <th>Date</th>\n",
       "      <th></th>\n",
       "      <th></th>\n",
       "      <th></th>\n",
       "      <th></th>\n",
       "      <th></th>\n",
       "    </tr>\n",
       "  </thead>\n",
       "  <tbody>\n",
       "    <tr>\n",
       "      <th>1994-03-31</th>\n",
       "      <td>1.1</td>\n",
       "      <td>-0.011</td>\n",
       "      <td>-0.013</td>\n",
       "      <td>0.99</td>\n",
       "      <td>0.0030</td>\n",
       "    </tr>\n",
       "    <tr>\n",
       "      <th>1994-04-30</th>\n",
       "      <td>1.1</td>\n",
       "      <td>0.014</td>\n",
       "      <td>0.008</td>\n",
       "      <td>1.00</td>\n",
       "      <td>0.0033</td>\n",
       "    </tr>\n",
       "    <tr>\n",
       "      <th>1994-05-31</th>\n",
       "      <td>1.2</td>\n",
       "      <td>0.068</td>\n",
       "      <td>0.053</td>\n",
       "      <td>1.05</td>\n",
       "      <td>0.0036</td>\n",
       "    </tr>\n",
       "    <tr>\n",
       "      <th>1994-06-30</th>\n",
       "      <td>1.2</td>\n",
       "      <td>-0.039</td>\n",
       "      <td>-0.029</td>\n",
       "      <td>1.02</td>\n",
       "      <td>0.0036</td>\n",
       "    </tr>\n",
       "    <tr>\n",
       "      <th>1994-07-31</th>\n",
       "      <td>1.4</td>\n",
       "      <td>0.116</td>\n",
       "      <td>0.084</td>\n",
       "      <td>1.10</td>\n",
       "      <td>0.0037</td>\n",
       "    </tr>\n",
       "  </tbody>\n",
       "</table>\n",
       "</div>"
      ],
      "text/plain": [
       "            Fund Capital ($billions)  Gross Monthly Performancea  \\\n",
       "Date                                                               \n",
       "1994-03-31                       1.1                      -0.011   \n",
       "1994-04-30                       1.1                       0.014   \n",
       "1994-05-31                       1.2                       0.068   \n",
       "1994-06-30                       1.2                      -0.039   \n",
       "1994-07-31                       1.4                       0.116   \n",
       "\n",
       "            Net Monthly Performanceb  Index of Net Performance      rf  \n",
       "Date                                                                    \n",
       "1994-03-31                    -0.013                      0.99  0.0030  \n",
       "1994-04-30                     0.008                      1.00  0.0033  \n",
       "1994-05-31                     0.053                      1.05  0.0036  \n",
       "1994-06-30                    -0.029                      1.02  0.0036  \n",
       "1994-07-31                     0.084                      1.10  0.0037  "
      ]
     },
     "execution_count": 18,
     "metadata": {},
     "output_type": "execute_result"
    }
   ],
   "source": [
    "ltcm.index = SPY_ex.loc['1994-03':'1998-07'].index\n",
    "ltcm_ex = ltcm.subtract(SPY['rf'], axis = 0).dropna().drop(columns = ['Index of Net Performance'])\n",
    "ltcm_ex['SPY (excess)'] = SPY_ex['SPY ex']\n",
    "ltcm['rf']=SPY['rf']\n",
    "\n",
    "ltcm.head()"
   ]
  },
  {
   "cell_type": "code",
   "execution_count": 19,
   "id": "75d308e8",
   "metadata": {},
   "outputs": [
    {
     "data": {
      "text/html": [
       "<div>\n",
       "<style scoped>\n",
       "    .dataframe tbody tr th:only-of-type {\n",
       "        vertical-align: middle;\n",
       "    }\n",
       "\n",
       "    .dataframe tbody tr th {\n",
       "        vertical-align: top;\n",
       "    }\n",
       "\n",
       "    .dataframe thead th {\n",
       "        text-align: right;\n",
       "    }\n",
       "</style>\n",
       "<table border=\"1\" class=\"dataframe\">\n",
       "  <thead>\n",
       "    <tr style=\"text-align: right;\">\n",
       "      <th></th>\n",
       "      <th>Fund Capital ($billions)</th>\n",
       "      <th>Gross Performance (excess)</th>\n",
       "      <th>Net Performance (excess)</th>\n",
       "      <th>SPY (excess)</th>\n",
       "    </tr>\n",
       "    <tr>\n",
       "      <th>Date</th>\n",
       "      <th></th>\n",
       "      <th></th>\n",
       "      <th></th>\n",
       "      <th></th>\n",
       "    </tr>\n",
       "  </thead>\n",
       "  <tbody>\n",
       "    <tr>\n",
       "      <th>1994-03-31</th>\n",
       "      <td>1.0970</td>\n",
       "      <td>-0.0140</td>\n",
       "      <td>-0.0160</td>\n",
       "      <td>-0.0449</td>\n",
       "    </tr>\n",
       "    <tr>\n",
       "      <th>1994-04-30</th>\n",
       "      <td>1.0967</td>\n",
       "      <td>0.0107</td>\n",
       "      <td>0.0047</td>\n",
       "      <td>0.0079</td>\n",
       "    </tr>\n",
       "    <tr>\n",
       "      <th>1994-05-31</th>\n",
       "      <td>1.1964</td>\n",
       "      <td>0.0644</td>\n",
       "      <td>0.0494</td>\n",
       "      <td>0.0123</td>\n",
       "    </tr>\n",
       "    <tr>\n",
       "      <th>1994-06-30</th>\n",
       "      <td>1.1965</td>\n",
       "      <td>-0.0425</td>\n",
       "      <td>-0.0326</td>\n",
       "      <td>-0.0264</td>\n",
       "    </tr>\n",
       "    <tr>\n",
       "      <th>1994-07-31</th>\n",
       "      <td>1.3963</td>\n",
       "      <td>0.1123</td>\n",
       "      <td>0.0803</td>\n",
       "      <td>0.0287</td>\n",
       "    </tr>\n",
       "  </tbody>\n",
       "</table>\n",
       "</div>"
      ],
      "text/plain": [
       "            Fund Capital ($billions)  Gross Performance (excess)  \\\n",
       "Date                                                               \n",
       "1994-03-31                    1.0970                     -0.0140   \n",
       "1994-04-30                    1.0967                      0.0107   \n",
       "1994-05-31                    1.1964                      0.0644   \n",
       "1994-06-30                    1.1965                     -0.0425   \n",
       "1994-07-31                    1.3963                      0.1123   \n",
       "\n",
       "            Net Performance (excess)  SPY (excess)  \n",
       "Date                                                \n",
       "1994-03-31                   -0.0160       -0.0449  \n",
       "1994-04-30                    0.0047        0.0079  \n",
       "1994-05-31                    0.0494        0.0123  \n",
       "1994-06-30                   -0.0326       -0.0264  \n",
       "1994-07-31                    0.0803        0.0287  "
      ]
     },
     "execution_count": 19,
     "metadata": {},
     "output_type": "execute_result"
    }
   ],
   "source": [
    "ltcm_ex.columns = ['Fund Capital ($billions)', 'Gross Performance (excess)', 'Net Performance (excess)', 'SPY (excess)']\n",
    "\n",
    "ltcm_ex.head()"
   ]
  },
  {
   "cell_type": "markdown",
   "id": "928a8edb",
   "metadata": {},
   "source": [
    "### 2. LTCM Risk Decomposition"
   ]
  },
  {
   "cell_type": "markdown",
   "id": "2e96cee8",
   "metadata": {},
   "source": [
    "#### 2.1"
   ]
  },
  {
   "cell_type": "code",
   "execution_count": 20,
   "id": "bd27fc6e",
   "metadata": {},
   "outputs": [],
   "source": [
    "def summary_stats(df, annual_fac=12):\n",
    "    stat_df = (df.mean()*annual_fac).to_frame('Mean')\n",
    "    stat_df['Vol'] = df.std()*np.sqrt(annual_fac)\n",
    "    stat_df['Sharpe'] = stat_df['Mean']/stat_df['Vol']\n",
    "    \n",
    "    return stat_df\n",
    "\n",
    "def tail_risk_stats(df, annual_fac=12):\n",
    "    tr_df = df.skew().to_frame('Skew')\n",
    "    tr_df['Kurtosis'] = df.kurtosis()\n",
    "    tr_df['VaR (0.05)'] = df.quantile(0.05)\n",
    "    return tr_df"
   ]
  },
  {
   "cell_type": "markdown",
   "id": "b098eb50",
   "metadata": {},
   "source": [
    "2.1 (a)"
   ]
  },
  {
   "cell_type": "code",
   "execution_count": 21,
   "id": "1ee40a01",
   "metadata": {},
   "outputs": [
    {
     "data": {
      "text/html": [
       "<div>\n",
       "<style scoped>\n",
       "    .dataframe tbody tr th:only-of-type {\n",
       "        vertical-align: middle;\n",
       "    }\n",
       "\n",
       "    .dataframe tbody tr th {\n",
       "        vertical-align: top;\n",
       "    }\n",
       "\n",
       "    .dataframe thead th {\n",
       "        text-align: right;\n",
       "    }\n",
       "</style>\n",
       "<table border=\"1\" class=\"dataframe\">\n",
       "  <thead>\n",
       "    <tr style=\"text-align: right;\">\n",
       "      <th></th>\n",
       "      <th>Mean</th>\n",
       "      <th>Vol</th>\n",
       "      <th>Sharpe</th>\n",
       "    </tr>\n",
       "  </thead>\n",
       "  <tbody>\n",
       "    <tr>\n",
       "      <th>Gross Performance (excess)</th>\n",
       "      <td>0.2421</td>\n",
       "      <td>0.1362</td>\n",
       "      <td>1.7769</td>\n",
       "    </tr>\n",
       "    <tr>\n",
       "      <th>Net Performance (excess)</th>\n",
       "      <td>0.1554</td>\n",
       "      <td>0.1118</td>\n",
       "      <td>1.3901</td>\n",
       "    </tr>\n",
       "    <tr>\n",
       "      <th>SPY (excess)</th>\n",
       "      <td>0.1738</td>\n",
       "      <td>0.1123</td>\n",
       "      <td>1.5479</td>\n",
       "    </tr>\n",
       "  </tbody>\n",
       "</table>\n",
       "</div>"
      ],
      "text/plain": [
       "                              Mean     Vol  Sharpe\n",
       "Gross Performance (excess)  0.2421  0.1362  1.7769\n",
       "Net Performance (excess)    0.1554  0.1118  1.3901\n",
       "SPY (excess)                0.1738  0.1123  1.5479"
      ]
     },
     "execution_count": 21,
     "metadata": {},
     "output_type": "execute_result"
    }
   ],
   "source": [
    "summary_stats(ltcm_ex[['Gross Performance (excess)','Net Performance (excess)','SPY (excess)']])"
   ]
  },
  {
   "cell_type": "markdown",
   "id": "aad26adb",
   "metadata": {},
   "source": [
    "2.1 (b)"
   ]
  },
  {
   "cell_type": "code",
   "execution_count": 22,
   "id": "ef977658",
   "metadata": {},
   "outputs": [
    {
     "data": {
      "text/html": [
       "<div>\n",
       "<style scoped>\n",
       "    .dataframe tbody tr th:only-of-type {\n",
       "        vertical-align: middle;\n",
       "    }\n",
       "\n",
       "    .dataframe tbody tr th {\n",
       "        vertical-align: top;\n",
       "    }\n",
       "\n",
       "    .dataframe thead th {\n",
       "        text-align: right;\n",
       "    }\n",
       "</style>\n",
       "<table border=\"1\" class=\"dataframe\">\n",
       "  <thead>\n",
       "    <tr style=\"text-align: right;\">\n",
       "      <th></th>\n",
       "      <th>Skew</th>\n",
       "      <th>Kurtosis</th>\n",
       "      <th>VaR (0.05)</th>\n",
       "    </tr>\n",
       "  </thead>\n",
       "  <tbody>\n",
       "    <tr>\n",
       "      <th>Gross Performance (excess)</th>\n",
       "      <td>-0.2877</td>\n",
       "      <td>1.5866</td>\n",
       "      <td>-0.0304</td>\n",
       "    </tr>\n",
       "    <tr>\n",
       "      <th>Net Performance (excess)</th>\n",
       "      <td>-0.8102</td>\n",
       "      <td>2.9269</td>\n",
       "      <td>-0.0264</td>\n",
       "    </tr>\n",
       "    <tr>\n",
       "      <th>SPY (excess)</th>\n",
       "      <td>-0.4335</td>\n",
       "      <td>-0.3620</td>\n",
       "      <td>-0.0464</td>\n",
       "    </tr>\n",
       "  </tbody>\n",
       "</table>\n",
       "</div>"
      ],
      "text/plain": [
       "                              Skew  Kurtosis  VaR (0.05)\n",
       "Gross Performance (excess) -0.2877    1.5866     -0.0304\n",
       "Net Performance (excess)   -0.8102    2.9269     -0.0264\n",
       "SPY (excess)               -0.4335   -0.3620     -0.0464"
      ]
     },
     "execution_count": 22,
     "metadata": {},
     "output_type": "execute_result"
    }
   ],
   "source": [
    "tail_risk_stats(ltcm_ex[['Gross Performance (excess)','Net Performance (excess)','SPY (excess)']])"
   ]
  },
  {
   "cell_type": "markdown",
   "id": "5825aa10",
   "metadata": {},
   "source": [
    "2.1 (c)"
   ]
  },
  {
   "cell_type": "markdown",
   "id": "1ab1f6be",
   "metadata": {},
   "source": [
    "The above summary stats relect well for the exhibits. Post-1997 the stats looks even better. Sharpe is relatively very high. Volatility is similar to SPY, and minimum return is satisfactory. SPY fared well during the period, so LTCM's outperformance is not an outlier.\n",
    "\n",
    "The tail-risk statistics look worse for LTCM than for SPY post 1998.\n",
    "\n",
    "For August crash, it underperformed SPY, esp the tail-risk with no significant difference between Gross and Net. Despite lagging Gross, he net returns still deliver a excellent Sharpe and overall stats. Overall they lagged SPY."
   ]
  },
  {
   "cell_type": "markdown",
   "id": "4ad9e704",
   "metadata": {},
   "source": [
    "#### 2.2 "
   ]
  },
  {
   "cell_type": "markdown",
   "id": "f5d1aa2b",
   "metadata": {},
   "source": [
    "2.2 (a)"
   ]
  },
  {
   "cell_type": "code",
   "execution_count": 24,
   "id": "a774e105",
   "metadata": {},
   "outputs": [],
   "source": [
    "def regress(y, X, intercept = True, annual_fac=12):\n",
    "    if intercept == True:\n",
    "        X_ = sm.add_constant(X)\n",
    "        reg = sm.OLS(y, X_).fit()\n",
    "        reg_df = reg.params.to_frame('Regression Parameters')\n",
    "        reg_df.loc[r'$R^{2}$'] = reg.rsquared\n",
    "        reg_df.loc['const'] *= annual_fac\n",
    "    else:\n",
    "        reg = sm.OLS(y, X).fit()\n",
    "        reg_df = reg.params.to_frame('Regression Parameters')\n",
    "        reg_df.loc[r'$R^{2}$'] = reg.rsquared\n",
    "    \n",
    "    return reg_df"
   ]
  },
  {
   "cell_type": "code",
   "execution_count": 25,
   "id": "2ae78e1b",
   "metadata": {},
   "outputs": [
    {
     "data": {
      "text/html": [
       "<div>\n",
       "<style scoped>\n",
       "    .dataframe tbody tr th:only-of-type {\n",
       "        vertical-align: middle;\n",
       "    }\n",
       "\n",
       "    .dataframe tbody tr th {\n",
       "        vertical-align: top;\n",
       "    }\n",
       "\n",
       "    .dataframe thead th {\n",
       "        text-align: right;\n",
       "    }\n",
       "</style>\n",
       "<table border=\"1\" class=\"dataframe\">\n",
       "  <thead>\n",
       "    <tr style=\"text-align: right;\">\n",
       "      <th></th>\n",
       "      <th>Regression Parameters</th>\n",
       "    </tr>\n",
       "  </thead>\n",
       "  <tbody>\n",
       "    <tr>\n",
       "      <th>const</th>\n",
       "      <td>0.1315</td>\n",
       "    </tr>\n",
       "    <tr>\n",
       "      <th>SPY (excess)</th>\n",
       "      <td>0.1371</td>\n",
       "    </tr>\n",
       "    <tr>\n",
       "      <th>$R^{2}$</th>\n",
       "      <td>0.0190</td>\n",
       "    </tr>\n",
       "  </tbody>\n",
       "</table>\n",
       "</div>"
      ],
      "text/plain": [
       "              Regression Parameters\n",
       "const                        0.1315\n",
       "SPY (excess)                 0.1371\n",
       "$R^{2}$                      0.0190"
      ]
     },
     "execution_count": 25,
     "metadata": {},
     "output_type": "execute_result"
    }
   ],
   "source": [
    "regress(ltcm_ex['Net Performance (excess)'], ltcm_ex['SPY (excess)']) "
   ]
  },
  {
   "cell_type": "markdown",
   "id": "837a5bee",
   "metadata": {},
   "source": [
    "2.2 (b) No. Correlation to the market is small with small beta."
   ]
  },
  {
   "cell_type": "markdown",
   "id": "fc3afadd",
   "metadata": {},
   "source": [
    "2.2 (c) Yes, LTCM delivers significant excess returns above expectations from market exposure. The alpha of the regression is large (13.15% annualized)."
   ]
  },
  {
   "cell_type": "markdown",
   "id": "f7549f63",
   "metadata": {},
   "source": [
    "#### 2.3"
   ]
  },
  {
   "cell_type": "markdown",
   "id": "9d619361",
   "metadata": {},
   "source": [
    "2.3 (a)"
   ]
  },
  {
   "cell_type": "code",
   "execution_count": 27,
   "id": "26bc4df4",
   "metadata": {},
   "outputs": [
    {
     "data": {
      "text/html": [
       "<div>\n",
       "<style scoped>\n",
       "    .dataframe tbody tr th:only-of-type {\n",
       "        vertical-align: middle;\n",
       "    }\n",
       "\n",
       "    .dataframe tbody tr th {\n",
       "        vertical-align: top;\n",
       "    }\n",
       "\n",
       "    .dataframe thead th {\n",
       "        text-align: right;\n",
       "    }\n",
       "</style>\n",
       "<table border=\"1\" class=\"dataframe\">\n",
       "  <thead>\n",
       "    <tr style=\"text-align: right;\">\n",
       "      <th></th>\n",
       "      <th>Regression Parameters</th>\n",
       "    </tr>\n",
       "  </thead>\n",
       "  <tbody>\n",
       "    <tr>\n",
       "      <th>const</th>\n",
       "      <td>0.1550</td>\n",
       "    </tr>\n",
       "    <tr>\n",
       "      <th>SPY (excess)</th>\n",
       "      <td>0.1669</td>\n",
       "    </tr>\n",
       "    <tr>\n",
       "      <th>SPY (excess) squared</th>\n",
       "      <td>-1.9267</td>\n",
       "    </tr>\n",
       "    <tr>\n",
       "      <th>$R^{2}$</th>\n",
       "      <td>0.0243</td>\n",
       "    </tr>\n",
       "  </tbody>\n",
       "</table>\n",
       "</div>"
      ],
      "text/plain": [
       "                      Regression Parameters\n",
       "const                                0.1550\n",
       "SPY (excess)                         0.1669\n",
       "SPY (excess) squared                -1.9267\n",
       "$R^{2}$                              0.0243"
      ]
     },
     "execution_count": 27,
     "metadata": {},
     "output_type": "execute_result"
    }
   ],
   "source": [
    "ltcm_ex['SPY (excess) squared'] = ltcm_ex['SPY (excess)'] **2\n",
    "\n",
    "regress(ltcm_ex['Net Performance (excess)'], ltcm_ex[['SPY (excess)','SPY (excess) squared']]) "
   ]
  },
  {
   "cell_type": "markdown",
   "id": "78339568",
   "metadata": {},
   "source": [
    "2.3 (b) The quadratic market factor does not add to R-squared much. Quadratic movements of SPY are not significant in explaining LTCM variation."
   ]
  },
  {
   "cell_type": "markdown",
   "id": "4d635e44",
   "metadata": {},
   "source": [
    "2.3 (c) LTCM assesses to be short market options due to its negative exposure to market volatility (this is what the quadratic market factor represents)."
   ]
  },
  {
   "cell_type": "markdown",
   "id": "ee064245",
   "metadata": {},
   "source": [
    "2.3 (d) It is negative to the degree it has quadratic exposure. LTCM underperforms particularly large SPY movements in any direction. So LTCM has negative exposure to market volatility."
   ]
  },
  {
   "cell_type": "markdown",
   "id": "31b28ed6",
   "metadata": {},
   "source": [
    "#### 2.4 "
   ]
  },
  {
   "cell_type": "markdown",
   "id": "7bcbeb89",
   "metadata": {},
   "source": [
    "2.4 (a)"
   ]
  },
  {
   "cell_type": "code",
   "execution_count": 29,
   "id": "9a354730",
   "metadata": {},
   "outputs": [
    {
     "data": {
      "text/html": [
       "<div>\n",
       "<style scoped>\n",
       "    .dataframe tbody tr th:only-of-type {\n",
       "        vertical-align: middle;\n",
       "    }\n",
       "\n",
       "    .dataframe tbody tr th {\n",
       "        vertical-align: top;\n",
       "    }\n",
       "\n",
       "    .dataframe thead th {\n",
       "        text-align: right;\n",
       "    }\n",
       "</style>\n",
       "<table border=\"1\" class=\"dataframe\">\n",
       "  <thead>\n",
       "    <tr style=\"text-align: right;\">\n",
       "      <th></th>\n",
       "      <th>Regression Parameters</th>\n",
       "    </tr>\n",
       "  </thead>\n",
       "  <tbody>\n",
       "    <tr>\n",
       "      <th>const</th>\n",
       "      <td>0.1012</td>\n",
       "    </tr>\n",
       "    <tr>\n",
       "      <th>SPY (excess)</th>\n",
       "      <td>0.4666</td>\n",
       "    </tr>\n",
       "    <tr>\n",
       "      <th>Up</th>\n",
       "      <td>-0.7821</td>\n",
       "    </tr>\n",
       "    <tr>\n",
       "      <th>Down</th>\n",
       "      <td>1.2896</td>\n",
       "    </tr>\n",
       "    <tr>\n",
       "      <th>$R^{2}$</th>\n",
       "      <td>0.0555</td>\n",
       "    </tr>\n",
       "  </tbody>\n",
       "</table>\n",
       "</div>"
      ],
      "text/plain": [
       "              Regression Parameters\n",
       "const                        0.1012\n",
       "SPY (excess)                 0.4666\n",
       "Up                          -0.7821\n",
       "Down                         1.2896\n",
       "$R^{2}$                      0.0555"
      ]
     },
     "execution_count": 29,
     "metadata": {},
     "output_type": "execute_result"
    }
   ],
   "source": [
    "k1 = .03\n",
    "k2 = -.03\n",
    "\n",
    "ltcm_ex['Up'] = (ltcm_ex['SPY (excess)'] - k1).clip(0)\n",
    "ltcm_ex['Down'] = (k2 - ltcm_ex['SPY (excess)']).clip(0)\n",
    "\n",
    "regress(ltcm_ex['Net Performance (excess)'], ltcm_ex[['SPY (excess)','Up','Down']])"
   ]
  },
  {
   "cell_type": "markdown",
   "id": "2bbebeef",
   "metadata": {},
   "source": [
    "2.4 (b)  Beta(up) is negative so LTCM appears short the call-like factor. Beta(down) is positive so LTCM appears long the put-like factor."
   ]
  },
  {
   "cell_type": "markdown",
   "id": "5cdab122",
   "metadata": {},
   "source": [
    "2.4 (c) The magnitude of the Beta(down) is larger, meaning that the put-like factor moves LTCM more."
   ]
  },
  {
   "cell_type": "markdown",
   "id": "cfc6f60c",
   "metadata": {},
   "source": [
    "2.4 (d) The previous problem concluded that LTCM is negatively exposed to market volatility. This volatility exposure must come more from being short the market's upside, as LTCM is short the call-like factor and long the put-like factor."
   ]
  },
  {
   "cell_type": "markdown",
   "id": "be0fc329",
   "metadata": {},
   "source": [
    "### 3. FX Carry trade"
   ]
  },
  {
   "cell_type": "code",
   "execution_count": 34,
   "id": "94ba134d",
   "metadata": {},
   "outputs": [
    {
     "data": {
      "text/html": [
       "<div>\n",
       "<style scoped>\n",
       "    .dataframe tbody tr th:only-of-type {\n",
       "        vertical-align: middle;\n",
       "    }\n",
       "\n",
       "    .dataframe tbody tr th {\n",
       "        vertical-align: top;\n",
       "    }\n",
       "\n",
       "    .dataframe thead th {\n",
       "        text-align: right;\n",
       "    }\n",
       "</style>\n",
       "<table border=\"1\" class=\"dataframe\">\n",
       "  <thead>\n",
       "    <tr style=\"text-align: right;\">\n",
       "      <th></th>\n",
       "      <th>USD1M</th>\n",
       "      <th>GBP1M</th>\n",
       "      <th>EUR1M</th>\n",
       "      <th>CHF1M</th>\n",
       "      <th>JPY1M</th>\n",
       "    </tr>\n",
       "    <tr>\n",
       "      <th>DATE</th>\n",
       "      <th></th>\n",
       "      <th></th>\n",
       "      <th></th>\n",
       "      <th></th>\n",
       "      <th></th>\n",
       "    </tr>\n",
       "  </thead>\n",
       "  <tbody>\n",
       "    <tr>\n",
       "      <th>1999-01-31</th>\n",
       "      <td>0.0041</td>\n",
       "      <td>0.0049</td>\n",
       "      <td>0.0026</td>\n",
       "      <td>0.0010</td>\n",
       "      <td>3.3458e-04</td>\n",
       "    </tr>\n",
       "    <tr>\n",
       "      <th>1999-02-28</th>\n",
       "      <td>0.0041</td>\n",
       "      <td>0.0046</td>\n",
       "      <td>0.0026</td>\n",
       "      <td>0.0010</td>\n",
       "      <td>2.3226e-04</td>\n",
       "    </tr>\n",
       "    <tr>\n",
       "      <th>1999-03-31</th>\n",
       "      <td>0.0041</td>\n",
       "      <td>0.0044</td>\n",
       "      <td>0.0025</td>\n",
       "      <td>0.0010</td>\n",
       "      <td>1.4270e-04</td>\n",
       "    </tr>\n",
       "    <tr>\n",
       "      <th>1999-04-30</th>\n",
       "      <td>0.0041</td>\n",
       "      <td>0.0044</td>\n",
       "      <td>0.0021</td>\n",
       "      <td>0.0008</td>\n",
       "      <td>9.8953e-05</td>\n",
       "    </tr>\n",
       "    <tr>\n",
       "      <th>1999-05-31</th>\n",
       "      <td>0.0041</td>\n",
       "      <td>0.0044</td>\n",
       "      <td>0.0021</td>\n",
       "      <td>0.0008</td>\n",
       "      <td>7.4997e-05</td>\n",
       "    </tr>\n",
       "  </tbody>\n",
       "</table>\n",
       "</div>"
      ],
      "text/plain": [
       "             USD1M   GBP1M   EUR1M   CHF1M       JPY1M\n",
       "DATE                                                  \n",
       "1999-01-31  0.0041  0.0049  0.0026  0.0010  3.3458e-04\n",
       "1999-02-28  0.0041  0.0046  0.0026  0.0010  2.3226e-04\n",
       "1999-03-31  0.0041  0.0044  0.0025  0.0010  1.4270e-04\n",
       "1999-04-30  0.0041  0.0044  0.0021  0.0008  9.8953e-05\n",
       "1999-05-31  0.0041  0.0044  0.0021  0.0008  7.4997e-05"
      ]
     },
     "execution_count": 34,
     "metadata": {},
     "output_type": "execute_result"
    }
   ],
   "source": [
    "rf = pd.read_excel('fx_carry_data.xlsx', sheet_name = 1).set_index('DATE')\n",
    "\n",
    "log_rf = np.log(1 + rf)\n",
    "\n",
    "log_rf.head()"
   ]
  },
  {
   "cell_type": "code",
   "execution_count": 36,
   "id": "31238474",
   "metadata": {},
   "outputs": [
    {
     "data": {
      "text/html": [
       "<div>\n",
       "<style scoped>\n",
       "    .dataframe tbody tr th:only-of-type {\n",
       "        vertical-align: middle;\n",
       "    }\n",
       "\n",
       "    .dataframe tbody tr th {\n",
       "        vertical-align: top;\n",
       "    }\n",
       "\n",
       "    .dataframe thead th {\n",
       "        text-align: right;\n",
       "    }\n",
       "</style>\n",
       "<table border=\"1\" class=\"dataframe\">\n",
       "  <thead>\n",
       "    <tr style=\"text-align: right;\">\n",
       "      <th></th>\n",
       "      <th>USUK</th>\n",
       "      <th>USEU</th>\n",
       "      <th>USSZ</th>\n",
       "      <th>USJP</th>\n",
       "    </tr>\n",
       "    <tr>\n",
       "      <th>DATE</th>\n",
       "      <th></th>\n",
       "      <th></th>\n",
       "      <th></th>\n",
       "      <th></th>\n",
       "    </tr>\n",
       "  </thead>\n",
       "  <tbody>\n",
       "    <tr>\n",
       "      <th>1999-01-31</th>\n",
       "      <td>0.4982</td>\n",
       "      <td>0.1285</td>\n",
       "      <td>-0.3484</td>\n",
       "      <td>-4.7536</td>\n",
       "    </tr>\n",
       "    <tr>\n",
       "      <th>1999-02-28</th>\n",
       "      <td>0.4717</td>\n",
       "      <td>0.0949</td>\n",
       "      <td>-0.3712</td>\n",
       "      <td>-4.7766</td>\n",
       "    </tr>\n",
       "    <tr>\n",
       "      <th>1999-03-31</th>\n",
       "      <td>0.4787</td>\n",
       "      <td>0.0777</td>\n",
       "      <td>-0.3904</td>\n",
       "      <td>-4.7743</td>\n",
       "    </tr>\n",
       "    <tr>\n",
       "      <th>1999-04-30</th>\n",
       "      <td>0.4753</td>\n",
       "      <td>0.0549</td>\n",
       "      <td>-0.4225</td>\n",
       "      <td>-4.7827</td>\n",
       "    </tr>\n",
       "    <tr>\n",
       "      <th>1999-05-31</th>\n",
       "      <td>0.4713</td>\n",
       "      <td>0.0413</td>\n",
       "      <td>-0.4240</td>\n",
       "      <td>-4.7948</td>\n",
       "    </tr>\n",
       "  </tbody>\n",
       "</table>\n",
       "</div>"
      ],
      "text/plain": [
       "              USUK    USEU    USSZ    USJP\n",
       "DATE                                      \n",
       "1999-01-31  0.4982  0.1285 -0.3484 -4.7536\n",
       "1999-02-28  0.4717  0.0949 -0.3712 -4.7766\n",
       "1999-03-31  0.4787  0.0777 -0.3904 -4.7743\n",
       "1999-04-30  0.4753  0.0549 -0.4225 -4.7827\n",
       "1999-05-31  0.4713  0.0413 -0.4240 -4.7948"
      ]
     },
     "execution_count": 36,
     "metadata": {},
     "output_type": "execute_result"
    }
   ],
   "source": [
    "fx = pd.read_excel('fx_carry_data.xlsx', sheet_name = 2).set_index('DATE')\n",
    "\n",
    "log_fx = np.log(fx)\n",
    "\n",
    "log_fx.head()"
   ]
  },
  {
   "cell_type": "code",
   "execution_count": 37,
   "id": "a0ddc30f",
   "metadata": {},
   "outputs": [
    {
     "data": {
      "text/html": [
       "<div>\n",
       "<style scoped>\n",
       "    .dataframe tbody tr th:only-of-type {\n",
       "        vertical-align: middle;\n",
       "    }\n",
       "\n",
       "    .dataframe tbody tr th {\n",
       "        vertical-align: top;\n",
       "    }\n",
       "\n",
       "    .dataframe thead th {\n",
       "        text-align: right;\n",
       "    }\n",
       "</style>\n",
       "<table border=\"1\" class=\"dataframe\">\n",
       "  <thead>\n",
       "    <tr style=\"text-align: right;\">\n",
       "      <th></th>\n",
       "      <th>USUK</th>\n",
       "      <th>USEU</th>\n",
       "      <th>USSZ</th>\n",
       "      <th>USJP</th>\n",
       "    </tr>\n",
       "    <tr>\n",
       "      <th>DATE</th>\n",
       "      <th></th>\n",
       "      <th></th>\n",
       "      <th></th>\n",
       "      <th></th>\n",
       "    </tr>\n",
       "  </thead>\n",
       "  <tbody>\n",
       "    <tr>\n",
       "      <th>1999-02-28</th>\n",
       "      <td>-0.0257</td>\n",
       "      <td>-0.0351</td>\n",
       "      <td>-0.0259</td>\n",
       "      <td>-0.0268</td>\n",
       "    </tr>\n",
       "    <tr>\n",
       "      <th>1999-03-31</th>\n",
       "      <td>0.0075</td>\n",
       "      <td>-0.0187</td>\n",
       "      <td>-0.0222</td>\n",
       "      <td>-0.0016</td>\n",
       "    </tr>\n",
       "    <tr>\n",
       "      <th>1999-04-30</th>\n",
       "      <td>-0.0031</td>\n",
       "      <td>-0.0245</td>\n",
       "      <td>-0.0352</td>\n",
       "      <td>-0.0124</td>\n",
       "    </tr>\n",
       "    <tr>\n",
       "      <th>1999-05-31</th>\n",
       "      <td>-0.0037</td>\n",
       "      <td>-0.0155</td>\n",
       "      <td>-0.0048</td>\n",
       "      <td>-0.0160</td>\n",
       "    </tr>\n",
       "    <tr>\n",
       "      <th>1999-06-30</th>\n",
       "      <td>-0.0157</td>\n",
       "      <td>-0.0128</td>\n",
       "      <td>-0.0211</td>\n",
       "      <td>-0.0045</td>\n",
       "    </tr>\n",
       "  </tbody>\n",
       "</table>\n",
       "</div>"
      ],
      "text/plain": [
       "              USUK    USEU    USSZ    USJP\n",
       "DATE                                      \n",
       "1999-02-28 -0.0257 -0.0351 -0.0259 -0.0268\n",
       "1999-03-31  0.0075 -0.0187 -0.0222 -0.0016\n",
       "1999-04-30 -0.0031 -0.0245 -0.0352 -0.0124\n",
       "1999-05-31 -0.0037 -0.0155 -0.0048 -0.0160\n",
       "1999-06-30 -0.0157 -0.0128 -0.0211 -0.0045"
      ]
     },
     "execution_count": 37,
     "metadata": {},
     "output_type": "execute_result"
    }
   ],
   "source": [
    "log_rf_ex = log_rf.subtract(log_rf['USD1M'], axis=0)[log_rf.columns[1:]]\n",
    "\n",
    "log_rf_ex_col = log_rf_ex.copy()\n",
    "\n",
    "log_rf_ex_col.columns = log_fx.columns\n",
    "\n",
    "ret = (log_rf_ex_col.shift() + log_fx.diff()).dropna()\n",
    "\n",
    "ret.head()"
   ]
  },
  {
   "cell_type": "markdown",
   "id": "10145a7e",
   "metadata": {},
   "source": [
    "#### 3.1 (a) (b) (c)"
   ]
  },
  {
   "cell_type": "code",
   "execution_count": 38,
   "id": "ca397ba9",
   "metadata": {},
   "outputs": [
    {
     "data": {
      "text/html": [
       "<div>\n",
       "<style scoped>\n",
       "    .dataframe tbody tr th:only-of-type {\n",
       "        vertical-align: middle;\n",
       "    }\n",
       "\n",
       "    .dataframe tbody tr th {\n",
       "        vertical-align: top;\n",
       "    }\n",
       "\n",
       "    .dataframe thead th {\n",
       "        text-align: right;\n",
       "    }\n",
       "</style>\n",
       "<table border=\"1\" class=\"dataframe\">\n",
       "  <thead>\n",
       "    <tr style=\"text-align: right;\">\n",
       "      <th></th>\n",
       "      <th>Mean</th>\n",
       "      <th>Vol</th>\n",
       "      <th>Sharpe</th>\n",
       "    </tr>\n",
       "  </thead>\n",
       "  <tbody>\n",
       "    <tr>\n",
       "      <th>USUK</th>\n",
       "      <td>-0.0035</td>\n",
       "      <td>0.0863</td>\n",
       "      <td>-0.0406</td>\n",
       "    </tr>\n",
       "    <tr>\n",
       "      <th>USEU</th>\n",
       "      <td>-0.0044</td>\n",
       "      <td>0.0947</td>\n",
       "      <td>-0.0459</td>\n",
       "    </tr>\n",
       "    <tr>\n",
       "      <th>USSZ</th>\n",
       "      <td>0.0043</td>\n",
       "      <td>0.0988</td>\n",
       "      <td>0.0437</td>\n",
       "    </tr>\n",
       "    <tr>\n",
       "      <th>USJP</th>\n",
       "      <td>-0.0174</td>\n",
       "      <td>0.0915</td>\n",
       "      <td>-0.1903</td>\n",
       "    </tr>\n",
       "  </tbody>\n",
       "</table>\n",
       "</div>"
      ],
      "text/plain": [
       "        Mean     Vol  Sharpe\n",
       "USUK -0.0035  0.0863 -0.0406\n",
       "USEU -0.0044  0.0947 -0.0459\n",
       "USSZ  0.0043  0.0988  0.0437\n",
       "USJP -0.0174  0.0915 -0.1903"
      ]
     },
     "execution_count": 38,
     "metadata": {},
     "output_type": "execute_result"
    }
   ],
   "source": [
    "summary_stats(ret)"
   ]
  },
  {
   "cell_type": "markdown",
   "id": "a5ed41c2",
   "metadata": {},
   "source": [
    "#### 3.2"
   ]
  },
  {
   "cell_type": "markdown",
   "id": "36e2b851",
   "metadata": {},
   "source": [
    "3.2 (a) \n",
    "\n",
    "The results above are evidence against UIP. UIP implies that the mean excess return should be zero. The USD and JPY trade seems to have a mean excess return significantly different from zero.\n",
    "\n",
    "The evidence from the other currencies is not clear. Their mean excess return is not exactly zero, but they are so close to zero that they may not be statistically significant.\n",
    "\n",
    "UIP makes no implication about the volatility of these excess returns."
   ]
  },
  {
   "cell_type": "markdown",
   "id": "5b627713",
   "metadata": {},
   "source": [
    "3.2 (b) \n",
    "Being long CHF would've delivered a small positive mean excess log return, but a poor Sharpe.\n",
    "The best trade would have been to be short JPY and long USD. This would deliver a small but positive mean return and Sharpe."
   ]
  },
  {
   "cell_type": "markdown",
   "id": "b4ad7877",
   "metadata": {},
   "source": [
    "3.2 (c) A long position in three of the currencies had negative mean excess (log) returns."
   ]
  },
  {
   "cell_type": "markdown",
   "id": "bd9073ae",
   "metadata": {},
   "source": [
    "#### 3.3"
   ]
  },
  {
   "cell_type": "markdown",
   "id": "1c1b4c98",
   "metadata": {},
   "source": [
    "3.3 (a)"
   ]
  },
  {
   "cell_type": "code",
   "execution_count": 39,
   "id": "a4b935cc",
   "metadata": {},
   "outputs": [
    {
     "data": {
      "text/html": [
       "<div>\n",
       "<style scoped>\n",
       "    .dataframe tbody tr th:only-of-type {\n",
       "        vertical-align: middle;\n",
       "    }\n",
       "\n",
       "    .dataframe tbody tr th {\n",
       "        vertical-align: top;\n",
       "    }\n",
       "\n",
       "    .dataframe thead th {\n",
       "        text-align: right;\n",
       "    }\n",
       "</style>\n",
       "<table border=\"1\" class=\"dataframe\">\n",
       "  <thead>\n",
       "    <tr style=\"text-align: right;\">\n",
       "      <th></th>\n",
       "      <th>USUK</th>\n",
       "      <th>USEU</th>\n",
       "      <th>USSZ</th>\n",
       "      <th>USJP</th>\n",
       "    </tr>\n",
       "  </thead>\n",
       "  <tbody>\n",
       "    <tr>\n",
       "      <th>$\\alpha^{i}$</th>\n",
       "      <td>-0.0059</td>\n",
       "      <td>0.0070</td>\n",
       "      <td>0.0436</td>\n",
       "      <td>-0.0060</td>\n",
       "    </tr>\n",
       "    <tr>\n",
       "      <th>$\\beta^{i}$</th>\n",
       "      <td>0.4858</td>\n",
       "      <td>-1.2564</td>\n",
       "      <td>-1.6466</td>\n",
       "      <td>0.3715</td>\n",
       "    </tr>\n",
       "    <tr>\n",
       "      <th>$R^{2}$</th>\n",
       "      <td>0.0004</td>\n",
       "      <td>0.0026</td>\n",
       "      <td>0.0039</td>\n",
       "      <td>0.0005</td>\n",
       "    </tr>\n",
       "  </tbody>\n",
       "</table>\n",
       "</div>"
      ],
      "text/plain": [
       "                USUK    USEU    USSZ    USJP\n",
       "$\\alpha^{i}$ -0.0059  0.0070  0.0436 -0.0060\n",
       "$\\beta^{i}$   0.4858 -1.2564 -1.6466  0.3715\n",
       "$R^{2}$       0.0004  0.0026  0.0039  0.0005"
      ]
     },
     "execution_count": 39,
     "metadata": {},
     "output_type": "execute_result"
    }
   ],
   "source": [
    "ys = log_fx.diff().dropna()\n",
    "Xs = -log_rf_ex.shift().dropna()\n",
    "\n",
    "fx_reg_pred = pd.DataFrame(data = None, index = [r'$\\alpha^{i}$',r'$\\beta^{i}$',r'$R^{2}$'])\n",
    "\n",
    "for i in range(0,len(ys.columns)):\n",
    "    fx_reg_pred[ys.columns[i]] = regress(ys[ys.columns[i]],Xs[Xs.columns[i]])['Regression Parameters'].values\n",
    "    \n",
    "fx_reg_pred"
   ]
  },
  {
   "cell_type": "markdown",
   "id": "ecd083d8",
   "metadata": {},
   "source": [
    "3.3 (b) i. Expect a stronger EU and SZ due to negative betas."
   ]
  },
  {
   "cell_type": "markdown",
   "id": "2de9c379",
   "metadata": {},
   "source": [
    "3.3 (b) ii. Expect weaker UK and JP, due to their positive betas."
   ]
  },
  {
   "cell_type": "markdown",
   "id": "056ff548",
   "metadata": {},
   "source": [
    "3.3 (b) iii. Strongest for USUK and USJP, due to alphas closest to zero"
   ]
  },
  {
   "cell_type": "markdown",
   "id": "e1c3a09b",
   "metadata": {},
   "source": [
    "#### 3.4"
   ]
  },
  {
   "cell_type": "code",
   "execution_count": 40,
   "id": "337e7267",
   "metadata": {},
   "outputs": [
    {
     "data": {
      "text/html": [
       "<div>\n",
       "<style scoped>\n",
       "    .dataframe tbody tr th:only-of-type {\n",
       "        vertical-align: middle;\n",
       "    }\n",
       "\n",
       "    .dataframe tbody tr th {\n",
       "        vertical-align: top;\n",
       "    }\n",
       "\n",
       "    .dataframe thead th {\n",
       "        text-align: right;\n",
       "    }\n",
       "</style>\n",
       "<table border=\"1\" class=\"dataframe\">\n",
       "  <thead>\n",
       "    <tr style=\"text-align: right;\">\n",
       "      <th></th>\n",
       "      <th>USUK</th>\n",
       "      <th>USEU</th>\n",
       "      <th>USSZ</th>\n",
       "      <th>USJP</th>\n",
       "    </tr>\n",
       "    <tr>\n",
       "      <th>DATE</th>\n",
       "      <th></th>\n",
       "      <th></th>\n",
       "      <th></th>\n",
       "      <th></th>\n",
       "    </tr>\n",
       "  </thead>\n",
       "  <tbody>\n",
       "    <tr>\n",
       "      <th>1999-02-28</th>\n",
       "      <td>-6.8394e-05</td>\n",
       "      <td>-0.0028</td>\n",
       "      <td>-0.0046</td>\n",
       "      <td>-0.0029</td>\n",
       "    </tr>\n",
       "    <tr>\n",
       "      <th>1999-03-31</th>\n",
       "      <td>-2.3875e-04</td>\n",
       "      <td>-0.0029</td>\n",
       "      <td>-0.0046</td>\n",
       "      <td>-0.0029</td>\n",
       "    </tr>\n",
       "    <tr>\n",
       "      <th>1999-04-30</th>\n",
       "      <td>-3.2543e-04</td>\n",
       "      <td>-0.0031</td>\n",
       "      <td>-0.0046</td>\n",
       "      <td>-0.0030</td>\n",
       "    </tr>\n",
       "    <tr>\n",
       "      <th>1999-05-31</th>\n",
       "      <td>-3.2588e-04</td>\n",
       "      <td>-0.0038</td>\n",
       "      <td>-0.0050</td>\n",
       "      <td>-0.0030</td>\n",
       "    </tr>\n",
       "    <tr>\n",
       "      <th>1999-06-30</th>\n",
       "      <td>-3.3511e-04</td>\n",
       "      <td>-0.0039</td>\n",
       "      <td>-0.0050</td>\n",
       "      <td>-0.0030</td>\n",
       "    </tr>\n",
       "  </tbody>\n",
       "</table>\n",
       "</div>"
      ],
      "text/plain": [
       "                  USUK    USEU    USSZ    USJP\n",
       "DATE                                          \n",
       "1999-02-28 -6.8394e-05 -0.0028 -0.0046 -0.0029\n",
       "1999-03-31 -2.3875e-04 -0.0029 -0.0046 -0.0029\n",
       "1999-04-30 -3.2543e-04 -0.0031 -0.0046 -0.0030\n",
       "1999-05-31 -3.2588e-04 -0.0038 -0.0050 -0.0030\n",
       "1999-06-30 -3.3511e-04 -0.0039 -0.0050 -0.0030"
      ]
     },
     "execution_count": 40,
     "metadata": {},
     "output_type": "execute_result"
    }
   ],
   "source": [
    "alphas = (fx_reg_pred.loc[r'$\\alpha^{i}$'] / 12)\n",
    "betas = fx_reg_pred.loc[r'$\\beta^{i}$']\n",
    "Xs.columns = fx_reg_pred.columns\n",
    "\n",
    "ret_ex_forecast = alphas.values + ((betas - 1) * Xs)\n",
    "\n",
    "ret_ex_forecast.head()"
   ]
  },
  {
   "cell_type": "markdown",
   "id": "7f3d632b",
   "metadata": {},
   "source": [
    "3.4 (a)"
   ]
  },
  {
   "cell_type": "code",
   "execution_count": 41,
   "id": "dc5482da",
   "metadata": {},
   "outputs": [
    {
     "data": {
      "text/html": [
       "<div>\n",
       "<style scoped>\n",
       "    .dataframe tbody tr th:only-of-type {\n",
       "        vertical-align: middle;\n",
       "    }\n",
       "\n",
       "    .dataframe tbody tr th {\n",
       "        vertical-align: top;\n",
       "    }\n",
       "\n",
       "    .dataframe thead th {\n",
       "        text-align: right;\n",
       "    }\n",
       "</style>\n",
       "<table border=\"1\" class=\"dataframe\">\n",
       "  <thead>\n",
       "    <tr style=\"text-align: right;\">\n",
       "      <th></th>\n",
       "      <th>USUK</th>\n",
       "      <th>USEU</th>\n",
       "      <th>USSZ</th>\n",
       "      <th>USJP</th>\n",
       "    </tr>\n",
       "  </thead>\n",
       "  <tbody>\n",
       "    <tr>\n",
       "      <th>% of Months</th>\n",
       "      <td>23.8095</td>\n",
       "      <td>50.1832</td>\n",
       "      <td>63.0037</td>\n",
       "      <td>0.0</td>\n",
       "    </tr>\n",
       "  </tbody>\n",
       "</table>\n",
       "</div>"
      ],
      "text/plain": [
       "                USUK     USEU     USSZ  USJP\n",
       "% of Months  23.8095  50.1832  63.0037   0.0"
      ]
     },
     "execution_count": 41,
     "metadata": {},
     "output_type": "execute_result"
    }
   ],
   "source": [
    "month_frac = pd.DataFrame(data = None, columns = ret_ex_forecast.columns, index = ['% of Months'])\n",
    "\n",
    "for col in ret_ex_forecast.columns:\n",
    "    month_frac[col] = (len(ret_ex_forecast[ret_ex_forecast[col] > 0])/len(ret_ex_forecast)) * 100\n",
    "\n",
    "ret_ex_forecast\n",
    "\n",
    "month_frac"
   ]
  },
  {
   "cell_type": "markdown",
   "id": "91c9d16c",
   "metadata": {},
   "source": [
    "3.4 (b) \n",
    "\n",
    "The static carry-trade in 3.3 found that UK and EU have negative mean excess (log) returns. However, as per the dynamic carry trade the time-varying forecast is positive.\n",
    "\n",
    "The forecast is negative throughout the sample for JP due to the much higher interest rate in USD which is not offset by appreciation of the Yen to the USD."
   ]
  },
  {
   "cell_type": "markdown",
   "id": "7acbcdda",
   "metadata": {},
   "source": [
    "3.4 (c) \n",
    "Just as in HW7, we can use forecasts of excess returns to construct trading positions, (weights,) which vary with the forecasts. The resulting trading strategy should be better than the static carry trade.\n",
    "\n",
    "That is, we could time the magnitude and direction of the currency trades instead of being passively 100% invested in a currency according to the evidence in 3.3.\n",
    "\n",
    "It is analagous to timing the trading of SPY according to the Earnings-Price Ratio instead of being passively 100% invested in SPY.\n",
    "\n",
    "Of course, it is an open question as to whether this will work given the weak R-squared in-sample, let alone out-of-sample."
   ]
  },
  {
   "cell_type": "markdown",
   "id": "3e517a42",
   "metadata": {},
   "source": [
    "_Sources: Course github, homework problems and 2021 solution guides._"
   ]
  },
  {
   "cell_type": "code",
   "execution_count": null,
   "id": "853d9336",
   "metadata": {},
   "outputs": [],
   "source": []
  }
 ],
 "metadata": {
  "kernelspec": {
   "display_name": "Python 3 (ipykernel)",
   "language": "python",
   "name": "python3"
  },
  "language_info": {
   "codemirror_mode": {
    "name": "ipython",
    "version": 3
   },
   "file_extension": ".py",
   "mimetype": "text/x-python",
   "name": "python",
   "nbconvert_exporter": "python",
   "pygments_lexer": "ipython3",
   "version": "3.9.7"
  }
 },
 "nbformat": 4,
 "nbformat_minor": 5
}
